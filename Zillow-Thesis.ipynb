{
 "cells": [
  {
   "cell_type": "markdown",
   "id": "51d96092-828c-418e-85ac-23d0e1de9720",
   "metadata": {
    "tags": []
   },
   "source": [
    "# 0 - Introduction"
   ]
  },
  {
   "cell_type": "markdown",
   "id": "6ba8feba-55e6-43f7-8c40-45af8c441fb8",
   "metadata": {
    "tags": []
   },
   "source": [
    "The work in this notebook is inspired by:\n",
    "- [Scikit-Learn's `Pipeline`](https://scikit-learn.org/stable/modules/generated/sklearn.pipeline.Pipeline.html)\n",
    "- [Hands-On Machine Learning with Scikit-Learn and TensorFlow](https://www.amazon.ca/Hands-Machine-Learning-Scikit-Learn-TensorFlow/dp/1491962291) by **Aurélien Géron**\n",
    "- [A study on regression applied to the Ames dataset](https://www.kaggle.com/code/juliencs/a-study-on-regression-applied-to-the-ames-dataset/notebook)"
   ]
  },
  {
   "cell_type": "code",
   "execution_count": 1,
   "id": "f3c0ee0d-6e45-4346-83b0-68eaf1cb1b29",
   "metadata": {},
   "outputs": [],
   "source": [
    "import gc \n",
    "import numpy as np \n",
    "from numpy import hstack\n",
    "from numpy import array\n",
    "import pandas as pd \n",
    "import matplotlib.pyplot as plt \n",
    "import seaborn as sns\n",
    "color = sns.color_palette()\n",
    "sns.set_style('darkgrid')\n",
    "import os\n",
    "import sklearn\n",
    "from scipy import stats\n",
    "from scipy.stats import norm, skew\n",
    "import pandas_profiling\n",
    "%matplotlib inline \n",
    "\n",
    "# Suppress warnings \n",
    "import warnings\n",
    "warnings.filterwarnings('ignore')   "
   ]
  },
  {
   "cell_type": "code",
   "execution_count": 2,
   "id": "b4cb8bbc-13ff-4d1c-90ef-f8d32105c085",
   "metadata": {},
   "outputs": [],
   "source": [
    "import utils"
   ]
  },
  {
   "cell_type": "markdown",
   "id": "3e752e26-5438-44be-8a6d-b85531f956ef",
   "metadata": {},
   "source": [
    "Import a library with some useful function and classes in order to prevent the notebook from being too long and boring. Another advantage is reusability for other Data Science tasks.\n",
    "\n",
    "Function:\n",
    "- check_duplicates(dataframe,features): check for duplicates looking at specified `features`\n",
    "- drop_duplicates(dataframe,features): drop duplicates looking at specified `features` and return updated dataframe\n",
    "- predict_in_chunks(model,preprocessor,df): simply predicts chunk by chunk  \n",
    "- nan_values(dataframe,percentage): drop rows in `dataframe` containing more than a certain `percentage` of NaN Values\n",
    "- drop_outliers(dataframe,feature,std_factor): drop rows in `dataframe` with a value for specified `feature` that is outside `std_factor` multiply by standard deviation of `feature`. Future work: add isolation forest and some other methods for outliers detection\n",
    "- plot_variable(feature): plot distribution of `feature`\n",
    "- def reduce_mem_usage(dataframe): reduce memory usage for dataframe but can be used only on not null values. So this function before reducing memory usage substitute null values with min values minus 1 for each feature.\n",
    "- def get_eval_metrics(models, X, y_true): Calculates MAE (Mean Absoulate Error) and RMSE (Root Mean Squared Error) on the data set for input models.  `models`: list of fit models \n",
    "- def get_cross_val_scores(models, X, y, cv=10, fit_params=None): Performs k-fold cross validation and calculates MAE for each fold for all input models. `models`: list of fit models\n",
    "\n",
    "\n",
    "\n",
    "In this notebook I have implemented Scikit-Learn pipeline so each of this classes inherits Scikit-Learn BaseEstimator and TransformerMixin like Scikit-Learn reference explains.\n",
    "Classes:\n",
    "- class ConvertToCategorical(BaseEstimator, TransformerMixin): pipeline to convert categorical variables to Pandas Category type. This pipeline is specific to LGBM which handles categorical vars differently. \n",
    "- class FeatureDropper(BaseEstimator, TransformerMixin): drop a list of features\n",
    "- class ColumnNamesAppender(BaseEstimator, TransformerMixin): output of scikitlearn pipeline is numpy array instead of pandas dataframe. So, this class does this transformation\n",
    "- class ConvertFeatureType(BaseEstimator, TransformerMixin): convert features to a specific type (int,float,string and boolean)\n",
    "- class FeatureEncoderAndScaler(BaseEstimator, TransformerMixin): \n",
    "- class CreateDerivedFeatures(BaseEstimator, TransformerMixin): creates new features by combining existing variables\n",
    "- class CreateDateFeatures(BaseEstimator, TransformerMixin): creates simple date features by extracting the information from `transactiondate`  \n",
    "- class ConvertToType(BaseEstimator, TransformerMixin): convert ALL columns to specific type\n",
    "- class CreateYearFeatures(BaseEstimator, TransformerMixin): convert date to age by looking to current year\n",
    "- class CreatePolynomialFeatures(BaseEstimator, TransformerMixin): create 3 new polinomial features: squared,cubed and sqrt.\n",
    "- class BoxCoxSkewedFeatures(BaseEstimator, TransformerMixin): apply Box-Cox transformation in order to remove asymmetry in features with skewness above a certain threshold"
   ]
  },
  {
   "cell_type": "markdown",
   "id": "db571f25-0c9c-4424-a977-c15f4454d67b",
   "metadata": {
    "tags": []
   },
   "source": [
    "# 1 - Import Zillow Datasets\n",
    "\n",
    "Goal is to predict the log-error between their Zestimate (value predicted by Zillow asset evaluation) and the actual sale price, given all the features of a home. \n",
    "The log error is defined as\n",
    "`logerror = log(Zestimate) - log(SalePrice)` "
   ]
  },
  {
   "cell_type": "code",
   "execution_count": 3,
   "id": "912b5730-3bc9-48e3-addf-f422aa197b12",
   "metadata": {},
   "outputs": [],
   "source": [
    "def load_data(path):\n",
    "    properties_2016 = pd.read_csv(os.path.join(path, 'properties_2016.csv'),low_memory=False)\n",
    "    properties_2017 = pd.read_csv(os.path.join(path, 'properties_2017.csv'),low_memory=False)\n",
    "    train_2016 = pd.read_csv(os.path.join(path, 'train_2016.csv'))\n",
    "    train_2017 = pd.read_csv(os.path.join(path, 'train_2017.csv'))\n",
    "    print(properties_2016.shape)\n",
    "    print(properties_2017.shape)\n",
    "    print(train_2016.shape)\n",
    "    print(train_2017.shape)\n",
    "    \n",
    "    # Left join will ignore all properties that do not have a logerror (target variable) associated with them\n",
    "    train_2016 = pd.merge(train_2016, properties_2016, how = 'left', on = 'parcelid')\n",
    "    train_2017 = pd.merge(train_2017, properties_2017, how = 'left', on = 'parcelid')\n",
    "    \n",
    "    all_properties = pd.concat([properties_2016, properties_2017], ignore_index=True)\n",
    "    print(all_properties.shape)\n",
    "    all_training = pd.concat([train_2016, train_2017], ignore_index=True)\n",
    "    return all_properties, all_training"
   ]
  },
  {
   "cell_type": "code",
   "execution_count": 5,
   "id": "06b28812-f571-49fa-bb19-43ea7a400c24",
   "metadata": {},
   "outputs": [
    {
     "name": "stdout",
     "output_type": "stream",
     "text": [
      "(2985217, 58)\n",
      "(2985217, 58)\n",
      "(90275, 3)\n",
      "(77613, 3)\n",
      "(5970434, 58)\n"
     ]
    },
    {
     "data": {
      "text/html": [
       "<div>\n",
       "<style scoped>\n",
       "    .dataframe tbody tr th:only-of-type {\n",
       "        vertical-align: middle;\n",
       "    }\n",
       "\n",
       "    .dataframe tbody tr th {\n",
       "        vertical-align: top;\n",
       "    }\n",
       "\n",
       "    .dataframe thead th {\n",
       "        text-align: right;\n",
       "    }\n",
       "</style>\n",
       "<table border=\"1\" class=\"dataframe\">\n",
       "  <thead>\n",
       "    <tr style=\"text-align: right;\">\n",
       "      <th></th>\n",
       "      <th>parcelid</th>\n",
       "      <th>logerror</th>\n",
       "      <th>transactiondate</th>\n",
       "      <th>airconditioningtypeid</th>\n",
       "      <th>architecturalstyletypeid</th>\n",
       "      <th>basementsqft</th>\n",
       "      <th>bathroomcnt</th>\n",
       "      <th>bedroomcnt</th>\n",
       "      <th>buildingclasstypeid</th>\n",
       "      <th>buildingqualitytypeid</th>\n",
       "      <th>...</th>\n",
       "      <th>numberofstories</th>\n",
       "      <th>fireplaceflag</th>\n",
       "      <th>structuretaxvaluedollarcnt</th>\n",
       "      <th>taxvaluedollarcnt</th>\n",
       "      <th>assessmentyear</th>\n",
       "      <th>landtaxvaluedollarcnt</th>\n",
       "      <th>taxamount</th>\n",
       "      <th>taxdelinquencyflag</th>\n",
       "      <th>taxdelinquencyyear</th>\n",
       "      <th>censustractandblock</th>\n",
       "    </tr>\n",
       "  </thead>\n",
       "  <tbody>\n",
       "    <tr>\n",
       "      <th>0</th>\n",
       "      <td>11016594</td>\n",
       "      <td>0.0276</td>\n",
       "      <td>2016-01-01</td>\n",
       "      <td>1.0</td>\n",
       "      <td>NaN</td>\n",
       "      <td>NaN</td>\n",
       "      <td>2.0</td>\n",
       "      <td>3.0</td>\n",
       "      <td>NaN</td>\n",
       "      <td>4.0</td>\n",
       "      <td>...</td>\n",
       "      <td>NaN</td>\n",
       "      <td>NaN</td>\n",
       "      <td>122754.0</td>\n",
       "      <td>360170.0</td>\n",
       "      <td>2015.0</td>\n",
       "      <td>237416.0</td>\n",
       "      <td>6735.88</td>\n",
       "      <td>NaN</td>\n",
       "      <td>NaN</td>\n",
       "      <td>6.037107e+13</td>\n",
       "    </tr>\n",
       "    <tr>\n",
       "      <th>1</th>\n",
       "      <td>14366692</td>\n",
       "      <td>-0.1684</td>\n",
       "      <td>2016-01-01</td>\n",
       "      <td>NaN</td>\n",
       "      <td>NaN</td>\n",
       "      <td>NaN</td>\n",
       "      <td>3.5</td>\n",
       "      <td>4.0</td>\n",
       "      <td>NaN</td>\n",
       "      <td>NaN</td>\n",
       "      <td>...</td>\n",
       "      <td>NaN</td>\n",
       "      <td>NaN</td>\n",
       "      <td>346458.0</td>\n",
       "      <td>585529.0</td>\n",
       "      <td>2015.0</td>\n",
       "      <td>239071.0</td>\n",
       "      <td>10153.02</td>\n",
       "      <td>NaN</td>\n",
       "      <td>NaN</td>\n",
       "      <td>NaN</td>\n",
       "    </tr>\n",
       "    <tr>\n",
       "      <th>2</th>\n",
       "      <td>12098116</td>\n",
       "      <td>-0.0040</td>\n",
       "      <td>2016-01-01</td>\n",
       "      <td>1.0</td>\n",
       "      <td>NaN</td>\n",
       "      <td>NaN</td>\n",
       "      <td>3.0</td>\n",
       "      <td>2.0</td>\n",
       "      <td>NaN</td>\n",
       "      <td>4.0</td>\n",
       "      <td>...</td>\n",
       "      <td>NaN</td>\n",
       "      <td>NaN</td>\n",
       "      <td>61994.0</td>\n",
       "      <td>119906.0</td>\n",
       "      <td>2015.0</td>\n",
       "      <td>57912.0</td>\n",
       "      <td>11484.48</td>\n",
       "      <td>NaN</td>\n",
       "      <td>NaN</td>\n",
       "      <td>6.037464e+13</td>\n",
       "    </tr>\n",
       "    <tr>\n",
       "      <th>3</th>\n",
       "      <td>12643413</td>\n",
       "      <td>0.0218</td>\n",
       "      <td>2016-01-02</td>\n",
       "      <td>1.0</td>\n",
       "      <td>NaN</td>\n",
       "      <td>NaN</td>\n",
       "      <td>2.0</td>\n",
       "      <td>2.0</td>\n",
       "      <td>NaN</td>\n",
       "      <td>4.0</td>\n",
       "      <td>...</td>\n",
       "      <td>NaN</td>\n",
       "      <td>NaN</td>\n",
       "      <td>171518.0</td>\n",
       "      <td>244880.0</td>\n",
       "      <td>2015.0</td>\n",
       "      <td>73362.0</td>\n",
       "      <td>3048.74</td>\n",
       "      <td>NaN</td>\n",
       "      <td>NaN</td>\n",
       "      <td>6.037296e+13</td>\n",
       "    </tr>\n",
       "    <tr>\n",
       "      <th>4</th>\n",
       "      <td>14432541</td>\n",
       "      <td>-0.0050</td>\n",
       "      <td>2016-01-02</td>\n",
       "      <td>NaN</td>\n",
       "      <td>NaN</td>\n",
       "      <td>NaN</td>\n",
       "      <td>2.5</td>\n",
       "      <td>4.0</td>\n",
       "      <td>NaN</td>\n",
       "      <td>NaN</td>\n",
       "      <td>...</td>\n",
       "      <td>2.0</td>\n",
       "      <td>NaN</td>\n",
       "      <td>169574.0</td>\n",
       "      <td>434551.0</td>\n",
       "      <td>2015.0</td>\n",
       "      <td>264977.0</td>\n",
       "      <td>5488.96</td>\n",
       "      <td>NaN</td>\n",
       "      <td>NaN</td>\n",
       "      <td>6.059042e+13</td>\n",
       "    </tr>\n",
       "  </tbody>\n",
       "</table>\n",
       "<p>5 rows × 60 columns</p>\n",
       "</div>"
      ],
      "text/plain": [
       "   parcelid  logerror transactiondate  airconditioningtypeid  \\\n",
       "0  11016594    0.0276      2016-01-01                    1.0   \n",
       "1  14366692   -0.1684      2016-01-01                    NaN   \n",
       "2  12098116   -0.0040      2016-01-01                    1.0   \n",
       "3  12643413    0.0218      2016-01-02                    1.0   \n",
       "4  14432541   -0.0050      2016-01-02                    NaN   \n",
       "\n",
       "   architecturalstyletypeid  basementsqft  bathroomcnt  bedroomcnt  \\\n",
       "0                       NaN           NaN          2.0         3.0   \n",
       "1                       NaN           NaN          3.5         4.0   \n",
       "2                       NaN           NaN          3.0         2.0   \n",
       "3                       NaN           NaN          2.0         2.0   \n",
       "4                       NaN           NaN          2.5         4.0   \n",
       "\n",
       "   buildingclasstypeid  buildingqualitytypeid  ...  numberofstories  \\\n",
       "0                  NaN                    4.0  ...              NaN   \n",
       "1                  NaN                    NaN  ...              NaN   \n",
       "2                  NaN                    4.0  ...              NaN   \n",
       "3                  NaN                    4.0  ...              NaN   \n",
       "4                  NaN                    NaN  ...              2.0   \n",
       "\n",
       "   fireplaceflag  structuretaxvaluedollarcnt  taxvaluedollarcnt  \\\n",
       "0            NaN                    122754.0           360170.0   \n",
       "1            NaN                    346458.0           585529.0   \n",
       "2            NaN                     61994.0           119906.0   \n",
       "3            NaN                    171518.0           244880.0   \n",
       "4            NaN                    169574.0           434551.0   \n",
       "\n",
       "   assessmentyear  landtaxvaluedollarcnt  taxamount  taxdelinquencyflag  \\\n",
       "0          2015.0               237416.0    6735.88                 NaN   \n",
       "1          2015.0               239071.0   10153.02                 NaN   \n",
       "2          2015.0                57912.0   11484.48                 NaN   \n",
       "3          2015.0                73362.0    3048.74                 NaN   \n",
       "4          2015.0               264977.0    5488.96                 NaN   \n",
       "\n",
       "   taxdelinquencyyear  censustractandblock  \n",
       "0                 NaN         6.037107e+13  \n",
       "1                 NaN                  NaN  \n",
       "2                 NaN         6.037464e+13  \n",
       "3                 NaN         6.037296e+13  \n",
       "4                 NaN         6.059042e+13  \n",
       "\n",
       "[5 rows x 60 columns]"
      ]
     },
     "execution_count": 5,
     "metadata": {},
     "output_type": "execute_result"
    }
   ],
   "source": [
    "all_properties, df = load_data(os.path.join(\"..\", \"zillow competition\", \"zillow-prize-1\"))\n",
    "df.head()"
   ]
  },
  {
   "cell_type": "code",
   "execution_count": 6,
   "id": "b552a077-010d-4a7d-be85-9a819ed68627",
   "metadata": {},
   "outputs": [
    {
     "name": "stdout",
     "output_type": "stream",
     "text": [
      "<class 'pandas.core.frame.DataFrame'>\n",
      "RangeIndex: 167888 entries, 0 to 167887\n",
      "Data columns (total 60 columns):\n",
      " #   Column                        Non-Null Count   Dtype  \n",
      "---  ------                        --------------   -----  \n",
      " 0   parcelid                      167888 non-null  int64  \n",
      " 1   logerror                      167888 non-null  float64\n",
      " 2   transactiondate               167888 non-null  object \n",
      " 3   airconditioningtypeid         53788 non-null   float64\n",
      " 4   architecturalstyletypeid      468 non-null     float64\n",
      " 5   basementsqft                  93 non-null      float64\n",
      " 6   bathroomcnt                   167854 non-null  float64\n",
      " 7   bedroomcnt                    167854 non-null  float64\n",
      " 8   buildingclasstypeid           31 non-null      float64\n",
      " 9   buildingqualitytypeid         107173 non-null  float64\n",
      " 10  calculatedbathnbr             166056 non-null  float64\n",
      " 11  decktypeid                    1272 non-null    float64\n",
      " 12  finishedfloor1squarefeet      12893 non-null   float64\n",
      " 13  calculatedfinishedsquarefeet  166992 non-null  float64\n",
      " 14  finishedsquarefeet12          159519 non-null  float64\n",
      " 15  finishedsquarefeet13          75 non-null      float64\n",
      " 16  finishedsquarefeet15          6591 non-null    float64\n",
      " 17  finishedsquarefeet50          12893 non-null   float64\n",
      " 18  finishedsquarefeet6           807 non-null     float64\n",
      " 19  fips                          167854 non-null  float64\n",
      " 20  fireplacecnt                  17896 non-null   float64\n",
      " 21  fullbathcnt                   166056 non-null  float64\n",
      " 22  garagecarcnt                  55457 non-null   float64\n",
      " 23  garagetotalsqft               55457 non-null   float64\n",
      " 24  hashottuborspa                3904 non-null    object \n",
      " 25  heatingorsystemtypeid         105651 non-null  float64\n",
      " 26  latitude                      167854 non-null  float64\n",
      " 27  longitude                     167854 non-null  float64\n",
      " 28  lotsizesquarefeet             149446 non-null  float64\n",
      " 29  poolcnt                       34075 non-null   float64\n",
      " 30  poolsizesum                   1838 non-null    float64\n",
      " 31  pooltypeid10                  1626 non-null    float64\n",
      " 32  pooltypeid2                   2278 non-null    float64\n",
      " 33  pooltypeid7                   31776 non-null   float64\n",
      " 34  propertycountylandusecode     167853 non-null  object \n",
      " 35  propertylandusetypeid         167854 non-null  float64\n",
      " 36  propertyzoningdesc            108789 non-null  object \n",
      " 37  rawcensustractandblock        167854 non-null  float64\n",
      " 38  regionidcity                  164579 non-null  float64\n",
      " 39  regionidcounty                167854 non-null  float64\n",
      " 40  regionidneighborhood          66986 non-null   float64\n",
      " 41  regionidzip                   167769 non-null  float64\n",
      " 42  roomcnt                       167854 non-null  float64\n",
      " 43  storytypeid                   93 non-null      float64\n",
      " 44  threequarterbathnbr           22115 non-null   float64\n",
      " 45  typeconstructiontypeid        522 non-null     float64\n",
      " 46  unitcnt                       109056 non-null  float64\n",
      " 47  yardbuildingsqft17            5039 non-null    float64\n",
      " 48  yardbuildingsqft26            165 non-null     float64\n",
      " 49  yearbuilt                     166828 non-null  float64\n",
      " 50  numberofstories               38169 non-null   float64\n",
      " 51  fireplaceflag                 394 non-null     object \n",
      " 52  structuretaxvaluedollarcnt    167359 non-null  float64\n",
      " 53  taxvaluedollarcnt             167852 non-null  float64\n",
      " 54  assessmentyear                167854 non-null  float64\n",
      " 55  landtaxvaluedollarcnt         167851 non-null  float64\n",
      " 56  taxamount                     167843 non-null  float64\n",
      " 57  taxdelinquencyflag            4683 non-null    object \n",
      " 58  taxdelinquencyyear            4683 non-null    float64\n",
      " 59  censustractandblock           167002 non-null  float64\n",
      "dtypes: float64(53), int64(1), object(6)\n",
      "memory usage: 76.9+ MB\n"
     ]
    }
   ],
   "source": [
    "df.info()"
   ]
  },
  {
   "cell_type": "code",
   "execution_count": 7,
   "id": "97b56134-3361-4e87-8adc-a884691efcb8",
   "metadata": {},
   "outputs": [
    {
     "data": {
      "text/plain": [
       "<Figure size 864x864 with 0 Axes>"
      ]
     },
     "metadata": {},
     "output_type": "display_data"
    },
    {
     "data": {
      "image/png": "[encoded data removed]",
      "text/plain": [
       "<Figure size 720x720 with 3 Axes>"
      ]
     },
     "metadata": {
      "needs_background": "light"
     },
     "output_type": "display_data"
    }
   ],
   "source": [
    "\n",
    "plt.figure(figsize=(12,12))\n",
    "sns.jointplot(x=all_properties.latitude.values, y=all_properties.longitude.values, height=10)\n",
    "plt.ylabel('Longitude', fontsize=12)\n",
    "plt.xlabel('Latitude', fontsize=12)\n",
    "\n",
    "plt.show()"
   ]
  },
  {
   "cell_type": "code",
   "execution_count": 8,
   "id": "ad9984e8-b368-4a6e-a892-34fb7821388d",
   "metadata": {
    "tags": []
   },
   "outputs": [
    {
     "name": "stdout",
     "output_type": "stream",
     "text": [
      "There are 0 duplicate IDs for 167888 total entries\n",
      "Dropping all duplicates based on: ['parcelid', 'transactiondate']\n",
      "There are 0 duplicate IDs for 167888 total entries\n"
     ]
    }
   ],
   "source": [
    "utils.check_duplicates(df,['parcelid', 'transactiondate'])\n",
    "df = utils.drop_duplicates(df,['parcelid', 'transactiondate'])\n",
    "utils.check_duplicates(df,['parcelid', 'transactiondate'])"
   ]
  },
  {
   "cell_type": "code",
   "execution_count": 9,
   "id": "714c4a4a-b8b4-4e0b-82dc-ea2fa624444f",
   "metadata": {},
   "outputs": [],
   "source": [
    "#df[[\"garagecarcnt\",\"garagetotalsqft\",\"fireplacecnt\",\"decktypeid\",\"hashottuborspa\",\"poolcnt\",\"pooltypeid10\",\"pooltypeid2\",\"pooltypeid7\",\"yardbuildingsqft17\",\n",
    "#                 \"threequarterbathnbr\",\"taxdelinquencyflag\"]].fillna(0,inplace=True)\n",
    "dropped = [\"finishedsquarefeet13\", \"finishedsquarefeet15\", \"finishedfloor1squarefeet\", \"finishedsquarefeet50\",\n",
    "             \"storytypeid\", \"architecturalstyletypeid\", \"buildingclasstypeid\", \"typeconstructiontypeid\", \"finishedsquarefeet6\",\n",
    "             \"pooltypeid10\", \"pooltypeid2\", \"fireplaceflag\", \"threequarterbathnbr\", \"calculatedbathnbr\",\n",
    "             \"fullbathcnt\", \"numberofstories\", \"censustractandblock\", \"rawcensustractandblock\",\n",
    "             \"finishedsquarefeet12\", \"taxvaluedollarcnt\", \"assessmentyear\", \"roomcnt\",\n",
    "             \"regionidneighborhood\", \"taxdelinquencyyear\", \"basementsqft\",\n",
    "             \"yardbuildingsqft26\",\n",
    "            ]\n",
    "#df.drop(dropped,axis=1,inplace=True)\n"
   ]
  },
  {
   "cell_type": "code",
   "execution_count": 10,
   "id": "145337f3-5a79-439d-bf48-69247360f62b",
   "metadata": {},
   "outputs": [
    {
     "data": {
      "text/plain": [
       "(138617, 60)"
      ]
     },
     "execution_count": 10,
     "metadata": {},
     "output_type": "execute_result"
    }
   ],
   "source": [
    "# Drop rows containing either 75% or more NaN Values\n",
    "percent = 50.0 \n",
    "min_count =  int(((100-percent)/100)*df.shape[1] + 1)\n",
    "housing = df.dropna(axis=0, thresh=min_count)\n",
    "housing.shape"
   ]
  },
  {
   "cell_type": "markdown",
   "id": "824ad16e-da8f-467b-99d8-09ee8a45c4e3",
   "metadata": {},
   "source": [
    "## Target Variable \n",
    "\n",
    "`logerror` is the variable we need to predict."
   ]
  },
  {
   "cell_type": "code",
   "execution_count": 11,
   "id": "4e805e96-38b5-4f74-beaf-5b71e8f2ac6d",
   "metadata": {},
   "outputs": [
    {
     "name": "stdout",
     "output_type": "stream",
     "text": [
      "\n",
      " mu = 0.01 and sigma = 0.17\n",
      "\n"
     ]
    },
    {
     "data": {
      "image/png": "[encoded data removed]",
      "text/plain": [
       "<Figure size 576x360 with 1 Axes>"
      ]
     },
     "metadata": {
      "needs_background": "light"
     },
     "output_type": "display_data"
    },
    {
     "data": {
      "image/png": "[encoded data removed]",
      "text/plain": [
       "<Figure size 432x288 with 1 Axes>"
      ]
     },
     "metadata": {
      "needs_background": "light"
     },
     "output_type": "display_data"
    }
   ],
   "source": [
    "utils.plot_variable(y=df.logerror)"
   ]
  },
  {
   "cell_type": "markdown",
   "id": "1e16636f-1e13-49b0-a140-4cbea6be05bb",
   "metadata": {
    "tags": []
   },
   "source": [
    "### Dropping Outliers \n",
    "\n",
    "Since the data is mostly normally distributed outside of the outliers, we will drop all values that are more than 2.5 standard deviations away from the mean. \n",
    "\n",
    "I (others might disagree) don't care about the error itself, but how common (here the freq part) it is. I don't want my model to spend resources trying to learn something that happens very rarely. I think that Zillow Data Scientist are very good, so is useless try to predicting high errors that probably occur for some external factor.\n",
    "\n",
    "4800 values dropped: 2,85% of original dataset"
   ]
  },
  {
   "cell_type": "code",
   "execution_count": 12,
   "id": "59bb12ac-de10-4d6c-89a4-1dc725fc4035",
   "metadata": {},
   "outputs": [
    {
     "name": "stdout",
     "output_type": "stream",
     "text": [
      "Highest allowed 0.34531818020294763\n",
      "Lowest allowed -0.3175055678604645\n",
      "\n",
      " mu = 0.01 and sigma = 0.08\n",
      "\n"
     ]
    },
    {
     "data": {
      "image/png": "[encoded data removed]",
      "text/plain": [
       "<Figure size 576x360 with 1 Axes>"
      ]
     },
     "metadata": {
      "needs_background": "light"
     },
     "output_type": "display_data"
    },
    {
     "data": {
      "image/png": "[encoded data removed]",
      "text/plain": [
       "<Figure size 432x288 with 1 Axes>"
      ]
     },
     "metadata": {
      "needs_background": "light"
     },
     "output_type": "display_data"
    },
    {
     "data": {
      "text/plain": [
       "<bound method Series.count of 0         0.027600\n",
       "1        -0.168400\n",
       "2        -0.004000\n",
       "3         0.021800\n",
       "4        -0.005000\n",
       "            ...   \n",
       "167883   -0.002245\n",
       "167884    0.020615\n",
       "167885    0.013209\n",
       "167886    0.037129\n",
       "167887    0.007204\n",
       "Name: logerror, Length: 163052, dtype: float64>"
      ]
     },
     "execution_count": 12,
     "metadata": {},
     "output_type": "execute_result"
    }
   ],
   "source": [
    "y,df = utils.drop_outliers(df,'logerror',2)\n",
    "utils.plot_variable(y=df.logerror)\n",
    "df.logerror.count"
   ]
  },
  {
   "cell_type": "markdown",
   "id": "a0d9a2eb-03f8-460b-8a71-584e498591e6",
   "metadata": {
    "tags": []
   },
   "source": [
    "# 2 - Splitting Dataset\n",
    "Strategy: we could compute a hash of each instance’s identifier and put that instance in the test set if the hash is lower than or equal to 20% of the maximum hash value. This ensures that the test set will remain consistent across multiple runs, even if we refresh the dataset.\n",
    "\n",
    "**Since `parcelid` is a unique identifier for each instance in the housing dataset, we can use it to implement the hash strategy outlined above.**\n"
   ]
  },
  {
   "cell_type": "code",
   "execution_count": 17,
   "id": "8e1c214a-e123-487c-bc31-2a026e4a8f94",
   "metadata": {},
   "outputs": [
    {
     "name": "stdout",
     "output_type": "stream",
     "text": [
      "Other Dataset Shape: (146781, 60); Test Dataset Shape: (16271, 60)\n",
      "Other Target Shape: (146781,); Test Target Shape: (16271,)\n"
     ]
    }
   ],
   "source": [
    "from zlib import crc32\n",
    "from sklearn.model_selection import train_test_split \n",
    "\n",
    "def test_set_check(identifier, test_ratio):\n",
    "    # hash function\n",
    "    return crc32(np.int64(identifier)) & 0xffffffff < test_ratio * 2**32\n",
    "\n",
    "def split_train_test_by_id(data, test_ratio, id_column):\n",
    "    ids = data[id_column]\n",
    "    in_test_set = ids.apply(lambda id_: test_set_check(id_, test_ratio))\n",
    "    \n",
    "    train_set = data.loc[~in_test_set]\n",
    "    test_set = data.loc[in_test_set]\n",
    "    \n",
    "    X_train = train_set.drop(\"logerror\", axis=1)\n",
    "    y_train = train_set[\"logerror\"].copy()\n",
    "    X_test = test_set.drop(\"logerror\", axis=1)\n",
    "    y_test = test_set[\"logerror\"].copy()\n",
    "    return X_train, X_test, y_train, y_test\n",
    "\n",
    "X_other, X_test, y_other, y_test = split_train_test_by_id(df, 0.1, \"parcelid\")\n",
    "print(f\"Other Dataset Shape: {X_other.shape}; Test Dataset Shape: {X_test.shape}\")\n",
    "print(f\"Other Target Shape: {y_other.shape}; Test Target Shape: {y_test.shape}\")"
   ]
  },
  {
   "cell_type": "markdown",
   "id": "f13abf9e-3e98-4c8a-a7d1-0991c19f2cfc",
   "metadata": {},
   "source": [
    "Next step is to split `X_train, y_train` into Training and Validation Datasets. This is because:\n",
    "- Test set is kept hidden until the **final** step when the fully tuned machine learning algorithm is ready for deployment. "
   ]
  },
  {
   "cell_type": "code",
   "execution_count": 18,
   "id": "9dfe79b8-bc77-4601-90b2-002fb796d38b",
   "metadata": {},
   "outputs": [
    {
     "name": "stdout",
     "output_type": "stream",
     "text": [
      "Training Dataset Shape: (132102, 60)\n",
      "Test Dataset Shape: (16271, 60)\n",
      "Validation Dataset Shape: (14679, 60)\n"
     ]
    }
   ],
   "source": [
    "X_train, X_val, y_train, y_val = train_test_split(X_other, y_other, train_size=0.9, random_state=42)\n",
    "print(f\"Training Dataset Shape: {X_train.shape}\")    # 81% of instances are in training \n",
    "print(f\"Test Dataset Shape: {X_test.shape}\")         # 10% of instances are in test \n",
    "print(f\"Validation Dataset Shape: {X_val.shape}\")    # 9% of instances are in validation "
   ]
  },
  {
   "cell_type": "code",
   "execution_count": 19,
   "id": "de6d566d-3a65-4731-9eba-f6a08413d8fe",
   "metadata": {},
   "outputs": [
    {
     "data": {
      "text/plain": [
       "86407"
      ]
     },
     "execution_count": 19,
     "metadata": {},
     "output_type": "execute_result"
    }
   ],
   "source": [
    "del all_properties, df; gc.collect()"
   ]
  },
  {
   "cell_type": "code",
   "execution_count": 20,
   "id": "72dfead1-aa1c-46f5-b60a-c0044006a3a9",
   "metadata": {},
   "outputs": [],
   "source": [
    "X_temp = X_train.copy()"
   ]
  },
  {
   "cell_type": "code",
   "execution_count": 21,
   "id": "a9f4c6b4-a1ca-4076-a288-a88000b87478",
   "metadata": {},
   "outputs": [],
   "source": [
    "results = {}"
   ]
  },
  {
   "cell_type": "markdown",
   "id": "2365e06b-9389-44af-b769-534bab800fb8",
   "metadata": {
    "tags": []
   },
   "source": [
    "# 3 - Data Preprocessing Pipelines"
   ]
  },
  {
   "cell_type": "markdown",
   "id": "827ee8a2-b251-42f3-bafe-762d98c82ba6",
   "metadata": {},
   "source": [
    "In particular these steps refers to Linear Regression pipeline"
   ]
  },
  {
   "cell_type": "markdown",
   "id": "11646153-7418-4f50-8013-5c8615f00340",
   "metadata": {
    "execution": {
     "iopub.execute_input": "2022-02-11T20:06:57.872375Z",
     "iopub.status.busy": "2022-02-11T20:06:57.871659Z",
     "iopub.status.idle": "2022-02-11T20:06:57.876913Z",
     "shell.execute_reply": "2022-02-11T20:06:57.876065Z",
     "shell.execute_reply.started": "2022-02-11T20:06:57.872302Z"
    }
   },
   "source": [
    "### Missing Data"
   ]
  },
  {
   "cell_type": "code",
   "execution_count": 22,
   "id": "20338fac-b684-464c-ba27-c39e56a68712",
   "metadata": {},
   "outputs": [
    {
     "data": {
      "text/html": [
       "<div>\n",
       "<style scoped>\n",
       "    .dataframe tbody tr th:only-of-type {\n",
       "        vertical-align: middle;\n",
       "    }\n",
       "\n",
       "    .dataframe tbody tr th {\n",
       "        vertical-align: top;\n",
       "    }\n",
       "\n",
       "    .dataframe thead th {\n",
       "        text-align: right;\n",
       "    }\n",
       "</style>\n",
       "<table border=\"1\" class=\"dataframe\">\n",
       "  <thead>\n",
       "    <tr style=\"text-align: right;\">\n",
       "      <th></th>\n",
       "      <th>Missing Ratio</th>\n",
       "    </tr>\n",
       "  </thead>\n",
       "  <tbody>\n",
       "    <tr>\n",
       "      <th>buildingclasstypeid</th>\n",
       "      <td>99.985617</td>\n",
       "    </tr>\n",
       "    <tr>\n",
       "      <th>finishedsquarefeet13</th>\n",
       "      <td>99.960636</td>\n",
       "    </tr>\n",
       "    <tr>\n",
       "      <th>storytypeid</th>\n",
       "      <td>99.943983</td>\n",
       "    </tr>\n",
       "    <tr>\n",
       "      <th>basementsqft</th>\n",
       "      <td>99.943983</td>\n",
       "    </tr>\n",
       "    <tr>\n",
       "      <th>yardbuildingsqft26</th>\n",
       "      <td>99.902348</td>\n",
       "    </tr>\n",
       "    <tr>\n",
       "      <th>fireplaceflag</th>\n",
       "      <td>99.765333</td>\n",
       "    </tr>\n",
       "    <tr>\n",
       "      <th>architecturalstyletypeid</th>\n",
       "      <td>99.719913</td>\n",
       "    </tr>\n",
       "    <tr>\n",
       "      <th>typeconstructiontypeid</th>\n",
       "      <td>99.687363</td>\n",
       "    </tr>\n",
       "    <tr>\n",
       "      <th>finishedsquarefeet6</th>\n",
       "      <td>99.551104</td>\n",
       "    </tr>\n",
       "    <tr>\n",
       "      <th>decktypeid</th>\n",
       "      <td>99.246794</td>\n",
       "    </tr>\n",
       "    <tr>\n",
       "      <th>pooltypeid10</th>\n",
       "      <td>99.020454</td>\n",
       "    </tr>\n",
       "    <tr>\n",
       "      <th>poolsizesum</th>\n",
       "      <td>98.884953</td>\n",
       "    </tr>\n",
       "    <tr>\n",
       "      <th>pooltypeid2</th>\n",
       "      <td>98.641958</td>\n",
       "    </tr>\n",
       "    <tr>\n",
       "      <th>hashottuborspa</th>\n",
       "      <td>97.662412</td>\n",
       "    </tr>\n",
       "    <tr>\n",
       "      <th>taxdelinquencyflag</th>\n",
       "      <td>97.316468</td>\n",
       "    </tr>\n",
       "    <tr>\n",
       "      <th>taxdelinquencyyear</th>\n",
       "      <td>97.316468</td>\n",
       "    </tr>\n",
       "    <tr>\n",
       "      <th>yardbuildingsqft17</th>\n",
       "      <td>96.944028</td>\n",
       "    </tr>\n",
       "    <tr>\n",
       "      <th>finishedsquarefeet15</th>\n",
       "      <td>96.239270</td>\n",
       "    </tr>\n",
       "    <tr>\n",
       "      <th>finishedfloor1squarefeet</th>\n",
       "      <td>92.234031</td>\n",
       "    </tr>\n",
       "    <tr>\n",
       "      <th>finishedsquarefeet50</th>\n",
       "      <td>92.234031</td>\n",
       "    </tr>\n",
       "    <tr>\n",
       "      <th>fireplacecnt</th>\n",
       "      <td>89.268141</td>\n",
       "    </tr>\n",
       "    <tr>\n",
       "      <th>threequarterbathnbr</th>\n",
       "      <td>86.742820</td>\n",
       "    </tr>\n",
       "    <tr>\n",
       "      <th>pooltypeid7</th>\n",
       "      <td>81.019212</td>\n",
       "    </tr>\n",
       "    <tr>\n",
       "      <th>poolcnt</th>\n",
       "      <td>79.648302</td>\n",
       "    </tr>\n",
       "    <tr>\n",
       "      <th>numberofstories</th>\n",
       "      <td>77.203979</td>\n",
       "    </tr>\n",
       "    <tr>\n",
       "      <th>airconditioningtypeid</th>\n",
       "      <td>67.753705</td>\n",
       "    </tr>\n",
       "    <tr>\n",
       "      <th>garagecarcnt</th>\n",
       "      <td>66.727226</td>\n",
       "    </tr>\n",
       "    <tr>\n",
       "      <th>garagetotalsqft</th>\n",
       "      <td>66.727226</td>\n",
       "    </tr>\n",
       "    <tr>\n",
       "      <th>regionidneighborhood</th>\n",
       "      <td>60.247385</td>\n",
       "    </tr>\n",
       "    <tr>\n",
       "      <th>heatingorsystemtypeid</th>\n",
       "      <td>37.007767</td>\n",
       "    </tr>\n",
       "    <tr>\n",
       "      <th>buildingqualitytypeid</th>\n",
       "      <td>36.309821</td>\n",
       "    </tr>\n",
       "    <tr>\n",
       "      <th>propertyzoningdesc</th>\n",
       "      <td>35.400675</td>\n",
       "    </tr>\n",
       "    <tr>\n",
       "      <th>unitcnt</th>\n",
       "      <td>35.242464</td>\n",
       "    </tr>\n",
       "    <tr>\n",
       "      <th>lotsizesquarefeet</th>\n",
       "      <td>11.087644</td>\n",
       "    </tr>\n",
       "    <tr>\n",
       "      <th>finishedsquarefeet12</th>\n",
       "      <td>4.747846</td>\n",
       "    </tr>\n",
       "    <tr>\n",
       "      <th>regionidcity</th>\n",
       "      <td>1.982559</td>\n",
       "    </tr>\n",
       "    <tr>\n",
       "      <th>calculatedbathnbr</th>\n",
       "      <td>1.009069</td>\n",
       "    </tr>\n",
       "    <tr>\n",
       "      <th>fullbathcnt</th>\n",
       "      <td>1.009069</td>\n",
       "    </tr>\n",
       "    <tr>\n",
       "      <th>yearbuilt</th>\n",
       "      <td>0.591967</td>\n",
       "    </tr>\n",
       "    <tr>\n",
       "      <th>censustractandblock</th>\n",
       "      <td>0.514754</td>\n",
       "    </tr>\n",
       "    <tr>\n",
       "      <th>calculatedfinishedsquarefeet</th>\n",
       "      <td>0.498857</td>\n",
       "    </tr>\n",
       "    <tr>\n",
       "      <th>structuretaxvaluedollarcnt</th>\n",
       "      <td>0.301282</td>\n",
       "    </tr>\n",
       "    <tr>\n",
       "      <th>regionidzip</th>\n",
       "      <td>0.064344</td>\n",
       "    </tr>\n",
       "    <tr>\n",
       "      <th>taxamount</th>\n",
       "      <td>0.025738</td>\n",
       "    </tr>\n",
       "    <tr>\n",
       "      <th>landtaxvaluedollarcnt</th>\n",
       "      <td>0.020439</td>\n",
       "    </tr>\n",
       "    <tr>\n",
       "      <th>taxvaluedollarcnt</th>\n",
       "      <td>0.020439</td>\n",
       "    </tr>\n",
       "    <tr>\n",
       "      <th>propertycountylandusecode</th>\n",
       "      <td>0.019682</td>\n",
       "    </tr>\n",
       "    <tr>\n",
       "      <th>roomcnt</th>\n",
       "      <td>0.018925</td>\n",
       "    </tr>\n",
       "    <tr>\n",
       "      <th>propertylandusetypeid</th>\n",
       "      <td>0.018925</td>\n",
       "    </tr>\n",
       "    <tr>\n",
       "      <th>fips</th>\n",
       "      <td>0.018925</td>\n",
       "    </tr>\n",
       "    <tr>\n",
       "      <th>regionidcounty</th>\n",
       "      <td>0.018925</td>\n",
       "    </tr>\n",
       "    <tr>\n",
       "      <th>latitude</th>\n",
       "      <td>0.018925</td>\n",
       "    </tr>\n",
       "    <tr>\n",
       "      <th>assessmentyear</th>\n",
       "      <td>0.018925</td>\n",
       "    </tr>\n",
       "    <tr>\n",
       "      <th>bedroomcnt</th>\n",
       "      <td>0.018925</td>\n",
       "    </tr>\n",
       "    <tr>\n",
       "      <th>bathroomcnt</th>\n",
       "      <td>0.018925</td>\n",
       "    </tr>\n",
       "    <tr>\n",
       "      <th>longitude</th>\n",
       "      <td>0.018925</td>\n",
       "    </tr>\n",
       "    <tr>\n",
       "      <th>rawcensustractandblock</th>\n",
       "      <td>0.018925</td>\n",
       "    </tr>\n",
       "    <tr>\n",
       "      <th>percentile_logerror</th>\n",
       "      <td>0.003028</td>\n",
       "    </tr>\n",
       "  </tbody>\n",
       "</table>\n",
       "</div>"
      ],
      "text/plain": [
       "                              Missing Ratio\n",
       "buildingclasstypeid               99.985617\n",
       "finishedsquarefeet13              99.960636\n",
       "storytypeid                       99.943983\n",
       "basementsqft                      99.943983\n",
       "yardbuildingsqft26                99.902348\n",
       "fireplaceflag                     99.765333\n",
       "architecturalstyletypeid          99.719913\n",
       "typeconstructiontypeid            99.687363\n",
       "finishedsquarefeet6               99.551104\n",
       "decktypeid                        99.246794\n",
       "pooltypeid10                      99.020454\n",
       "poolsizesum                       98.884953\n",
       "pooltypeid2                       98.641958\n",
       "hashottuborspa                    97.662412\n",
       "taxdelinquencyflag                97.316468\n",
       "taxdelinquencyyear                97.316468\n",
       "yardbuildingsqft17                96.944028\n",
       "finishedsquarefeet15              96.239270\n",
       "finishedfloor1squarefeet          92.234031\n",
       "finishedsquarefeet50              92.234031\n",
       "fireplacecnt                      89.268141\n",
       "threequarterbathnbr               86.742820\n",
       "pooltypeid7                       81.019212\n",
       "poolcnt                           79.648302\n",
       "numberofstories                   77.203979\n",
       "airconditioningtypeid             67.753705\n",
       "garagecarcnt                      66.727226\n",
       "garagetotalsqft                   66.727226\n",
       "regionidneighborhood              60.247385\n",
       "heatingorsystemtypeid             37.007767\n",
       "buildingqualitytypeid             36.309821\n",
       "propertyzoningdesc                35.400675\n",
       "unitcnt                           35.242464\n",
       "lotsizesquarefeet                 11.087644\n",
       "finishedsquarefeet12               4.747846\n",
       "regionidcity                       1.982559\n",
       "calculatedbathnbr                  1.009069\n",
       "fullbathcnt                        1.009069\n",
       "yearbuilt                          0.591967\n",
       "censustractandblock                0.514754\n",
       "calculatedfinishedsquarefeet       0.498857\n",
       "structuretaxvaluedollarcnt         0.301282\n",
       "regionidzip                        0.064344\n",
       "taxamount                          0.025738\n",
       "landtaxvaluedollarcnt              0.020439\n",
       "taxvaluedollarcnt                  0.020439\n",
       "propertycountylandusecode          0.019682\n",
       "roomcnt                            0.018925\n",
       "propertylandusetypeid              0.018925\n",
       "fips                               0.018925\n",
       "regionidcounty                     0.018925\n",
       "latitude                           0.018925\n",
       "assessmentyear                     0.018925\n",
       "bedroomcnt                         0.018925\n",
       "bathroomcnt                        0.018925\n",
       "longitude                          0.018925\n",
       "rawcensustractandblock             0.018925\n",
       "percentile_logerror                0.003028"
      ]
     },
     "execution_count": 22,
     "metadata": {},
     "output_type": "execute_result"
    }
   ],
   "source": [
    "all_data_na = (X_train.isnull().sum() / len(X_train)) * 100\n",
    "all_data_na = all_data_na.drop(all_data_na[all_data_na == 0].index).sort_values(ascending=False)\n",
    "missing_data = pd.DataFrame({'Missing Ratio' :all_data_na})\n",
    "missing_data"
   ]
  },
  {
   "cell_type": "markdown",
   "id": "b86c540e-a0cc-41b5-9b43-419d4d2a1d33",
   "metadata": {
    "tags": []
   },
   "source": [
    "### Drop Candidates \n",
    "\n",
    "The following variables are dropped. \n",
    "\n",
    "Over 90% missing values:\n",
    "- **finishedsquarefeet13**: Over 99% of the dataset is missing values.\n",
    "- **finishedsquarefeet15**: Over 96% of the dataset is missing values.\n",
    "- **finishedfloor1squarefeet**: Over 92% of the dataset is missing values.\n",
    "- **finishedsquarefeet50**: Over 92% of the dataset is missing values.\n",
    "- **storytypeid**: Over 99% of the dataset is missing values.\n",
    "- **buildingclasstypeid**: Over 99.8% of the dataset is missing values. \n",
    "- **architecturalstyletypeid**: Over 99% of the dataset is missing values.\n",
    "- **typeconstructiontypeid**: Over 99% of the dataset is missing values.\n",
    "- **finishedsquarefeet6**: Over 99% of the dataset is missing values. \n",
    "- **basementsqft, yardbuildingsqft26**:  Over 96% of the dataset is missing values.\n",
    "- **taxdelinquencyyear**: Over 97% of the dataset is missing values.\n",
    "<br>"
   ]
  },
  {
   "cell_type": "markdown",
   "id": "59e51b64-d6da-4520-b8a8-23203ee90845",
   "metadata": {},
   "source": [
    "- **numberofstories**: With over 77% of the missing values and no one value dominating the variable distribution, it is impractical to impute. \n"
   ]
  },
  {
   "cell_type": "code",
   "execution_count": 23,
   "id": "aa40867c-fbb0-4b73-9dc1-5b1c52b04018",
   "metadata": {},
   "outputs": [
    {
     "name": "stdout",
     "output_type": "stream",
     "text": [
      "\n",
      " mu = 1.44 and sigma = 0.54\n",
      "\n"
     ]
    },
    {
     "data": {
      "image/png": "[encoded data removed]",
      "text/plain": [
       "<Figure size 576x360 with 1 Axes>"
      ]
     },
     "metadata": {
      "needs_background": "light"
     },
     "output_type": "display_data"
    },
    {
     "data": {
      "image/png": "[encoded data removed]",
      "text/plain": [
       "<Figure size 432x288 with 1 Axes>"
      ]
     },
     "metadata": {
      "needs_background": "light"
     },
     "output_type": "display_data"
    }
   ],
   "source": [
    "utils.plot_variable(X_train.numberofstories.dropna())"
   ]
  },
  {
   "cell_type": "markdown",
   "id": "60d026d0-5b73-4aaf-b4c7-d05be8d1c15b",
   "metadata": {},
   "source": [
    "- **assessmentyear**: 2015 for 2016's properties and 2016 for 2017's properties. So, for now we drop it.\n",
    "\n",
    "- **parcelid, transactiondate**: These variables are not available when we trying to predict target variable `logerror` "
   ]
  },
  {
   "cell_type": "markdown",
   "id": "2efe6b39-eeb2-4028-b266-2c233aa909b6",
   "metadata": {},
   "source": [
    "- **rawcensustractandblock**: A wikipedia search revealed: Census tracts represent the smallest territorial unit for which population data are available in many countries. In the United States, census tracts are subdivided into block groups and census blocks. In the U.S., census tracts are “designed to be relatively homogeneous units with respect to population characteristics, economic status, and living conditions” and “average about 4,000 inhabitants”. Impractical to impute. Probably we want to do splitting like described above, but before doing this, it is better to do further research\n",
    "- **censustractandblock**: Same as above."
   ]
  },
  {
   "cell_type": "markdown",
   "id": "6d578edf-fa8f-474b-a171-c8161397ef20",
   "metadata": {},
   "source": [
    "#### Duplicate Features \n",
    "\n",
    "- **pooltypeid10, hashottuborspa**: Duplicate information is present in `pooltypeid2` feature.\n",
    "- **pooltypeid7**: Data description states 'Pool without Hot Tub', duplicate information is present in `pooltypeid2` feature which is boolean for 'Pool with Spa/Hot Tub'\n",
    "- **fireplaceflag**: Duplicate information is present in `fireplacecnt` feature with `fireplaceflag` having a higher missing ratio. \n",
    "- **calculatedbathnbr, threequarterbathnbr, fullbathcnt**: Duplicate information is present in `bathroomcnt` which has a lower missing ratio\n",
    "- **finishedsquarefeet12**: Duplicate information in `calculatedfinishedsquarefeet`.\n",
    "- **taxvaluedollarcnt**: Duplicate information from the sum of `structuretaxvaluedollarcnt` and `landtaxvaluedollarcnt`\n",
    "- **propertyzoningdesc, propertycountylandusecode**: `propertylandusetypeid` already provides similar information. In addition, this variable has over 2300 unique values - drastically increasing dataset cardinality. \n",
    "- **regionidneighborhood, regionidzip, regionidcity**: With over 60% of the dataset missing values and 500+ unique values, there are better region based features such as `regionidcounty, latitude, longitude` to obtain this information\n"
   ]
  },
  {
   "cell_type": "markdown",
   "id": "bf7ddbab-15c9-4af2-9db9-9d37fd9a7428",
   "metadata": {},
   "source": [
    "- **roomcnt**: Shows inconsistent data with majority of properties having 0 rooms in the principal residence. We will use bedroom and bathroom count."
   ]
  },
  {
   "cell_type": "code",
   "execution_count": 24,
   "id": "cc54e049-13ab-489b-b258-46f3c1f33acb",
   "metadata": {},
   "outputs": [
    {
     "data": {
      "text/plain": [
       "<AxesSubplot:>"
      ]
     },
     "execution_count": 24,
     "metadata": {},
     "output_type": "execute_result"
    },
    {
     "data": {
      "image/png": "[encoded data removed]",
      "text/plain": [
       "<Figure size 576x360 with 1 Axes>"
      ]
     },
     "metadata": {
      "needs_background": "light"
     },
     "output_type": "display_data"
    }
   ],
   "source": [
    "X_train.roomcnt.hist(bins=100, figsize=(8,5))"
   ]
  },
  {
   "cell_type": "markdown",
   "id": "50a9493e-925a-4354-a522-78d6449ff967",
   "metadata": {
    "tags": []
   },
   "source": [
    "## Dropping Features Pipeline"
   ]
  },
  {
   "cell_type": "code",
   "execution_count": 25,
   "id": "854fc418-4789-4844-9a60-ece8199139e7",
   "metadata": {
    "tags": []
   },
   "outputs": [],
   "source": [
    "from sklearn.base import BaseEstimator, TransformerMixin\n",
    "\n",
    "lin_reg_drop_vars = [\"finishedsquarefeet13\", \"finishedsquarefeet15\", \"finishedfloor1squarefeet\", \"finishedsquarefeet50\",\n",
    "             \"storytypeid\", \"architecturalstyletypeid\", \"buildingclasstypeid\", \"typeconstructiontypeid\", \"finishedsquarefeet6\",\n",
    "             \"pooltypeid10\", \"hashottuborspa\", \"fireplaceflag\", \"threequarterbathnbr\", \"calculatedbathnbr\",\n",
    "             \"fullbathcnt\", \"numberofstories\", \"censustractandblock\", \"rawcensustractandblock\",\n",
    "             \"finishedsquarefeet12\", \"taxvaluedollarcnt\", \"taxamount\", \"assessmentyear\", \"roomcnt\",\n",
    "             \"propertyzoningdesc\", \"regionidneighborhood\", \"regionidzip\", \"taxdelinquencyyear\",\n",
    "             \"propertycountylandusecode\", \"regionidcity\", \"parcelid\", \"basementsqft\", \"yardbuildingsqft26\", \"transactiondate\"\n",
    "            ]\n",
    "\n",
    "feat_dropper = utils.FeatureDropper(features_to_drop=lin_reg_drop_vars)\n",
    "X_temp = feat_dropper.fit_transform(X_temp)"
   ]
  },
  {
   "cell_type": "markdown",
   "id": "4be44d87-ba71-492f-af0e-86ed19b17ead",
   "metadata": {
    "jp-MarkdownHeadingCollapsed": true,
    "tags": []
   },
   "source": [
    "## Data Imputation Pipeline\n",
    "\n",
    "There are two main types of data imputation:\n",
    "1) **Univariate Imputation**: Impute values in a feature using only non-missing values in that feature only. Examples include calculating the mean/median/mode of a specific variable such as `lot_size` from all non-missing values and imputing the calculated value for missing `lot_size` rows. \n",
    "\n",
    "2) **Multivariate Imputation**: Multivariate imputation algorithms use the entire set of available feature dimensions to estimate the missing values (e.g. impute.IterativeImputer). Basically, the purpose of multivariate imputation is to use other features (columns) in the dataset to predict the missing value(s) in the current feature.\n"
   ]
  },
  {
   "cell_type": "markdown",
   "id": "8159f38a-000a-4878-b10e-f5fa351aa338",
   "metadata": {
    "tags": []
   },
   "source": [
    "## Univariate Imputation\n",
    "\n",
    "### 0/None Imputation Features\n",
    "Based on the data descriptions of the following features, missing values most likely indicate the property missing the specific feature (eg: no basement, no shed, no pool, etc.). Thus, the imputed values in either `0`, `None`, etc. depending on the variable type. \n",
    "\n",
    "**0 Imputation**\n",
    "\n",
    "- **yardbuildingsqft17**: Data description says 'Patio in yard'. Missing values are likely zero for having no patio in yard.\n",
    "- **fireplacecnt**: Missing values must indicate no fireplace present in the unit, thus imputing `0` for all missing values. \n",
    "- **poolcnt**: All values are `1` in data indicating one pool is present, missing values must be `0` indicating otherwise. \n",
    "- **poolsizesum**: All missing values indicate no pool on property, thus impute `0` for sqaure footage of all pools. \n",
    "- **pooltypeid2**: All values are `1` in data indicating a pool with spa/hot tub is present, missing values must be `0` indicating otherwise. \n",
    "- **pooltypeid7**: All values are `1` in data indicating a pool without hot tub is present, missing values must be `0` indicating otherwise. \n",
    "- **hashottuborspa**: All values are `1` in data indicating a spa/hot tub is present, missing values must be `0` indicating no hot tub/spa. \n",
    "- **decktypeid**: Same value in data indicating a deck is present, missing values must be `0` indicating no deck. \n",
    "- **taxdelinquencyflag**: All values are `Y` in data for properties that are tax delinquent implying all missing values must be `N` or `0` for easier handling. \n",
    "- **garagecarcnt**: No properties have `0` as the garage car count, indicating the missing values are all properties without a garage. \n",
    "- **garagetotalsqft**: All properties with missing `garagecarcnt` are also missing the square feet, indicating the properties do not have a garage. \n",
    "\n",
    "### Mode Imputation Features\n",
    "\n",
    "The following features are imputed with the most frequent value (mode) due to the majority of the dataset having that specific value. \n",
    "- **airconditioningtypeid**: Majority of the properties have a Central air conditioning type. \n",
    "- **heatingorsystemtypeid**: Majority of the properties have a Central heating system. \n",
    "- **unitcnt**: Majority of the property are built into 1 unit.\n",
    "- **fips, propertylandusetypeid, regionidcounty**: With only 0.4% of the dataset missing values, imputing the mode is acceptable. \n",
    "- **yearbuilt**: Since missing rows is extremely low, mode suffices\n",
    "\n",
    "### Median Imputation Features\n",
    "\n",
    "The following features are imputing with the 50th percentile value (median) to best represent the numerical distributions represented by each features. \n",
    "- **buildingqualitytypeid**: Overall condition of the condition from best (lowest) to worst (highest). Thus, imputing the median for missing values. \n",
    "- **lotsizesquarefeet**: Continuous numerical variable for area of the lot\n",
    "- **bathroomcnt, bedroomcnt, calculatedfinishedsquarefeet**\n",
    "- **structuretaxvaluedollarcnt, landtaxvaluedollarcnt, latitude, longitude**"
   ]
  },
  {
   "cell_type": "code",
   "execution_count": 26,
   "id": "00047121-c2a1-4f74-bb36-3e0a69a5b020",
   "metadata": {
    "tags": []
   },
   "outputs": [],
   "source": [
    "from sklearn.compose import ColumnTransformer\n",
    "from sklearn.pipeline import Pipeline\n",
    "from sklearn.impute import SimpleImputer\n",
    "from sklearn.preprocessing import OneHotEncoder\n",
    "from sklearn.preprocessing import StandardScaler\n",
    "from sklearn.preprocessing import RobustScaler"
   ]
  },
  {
   "cell_type": "code",
   "execution_count": 27,
   "id": "205dbf6a-2987-4cf9-be29-1f9637d597b9",
   "metadata": {
    "tags": []
   },
   "outputs": [],
   "source": [
    "impute_0_vars = [\"yardbuildingsqft17\", \"fireplacecnt\", \"poolcnt\", \"garagecarcnt\", \"garagetotalsqft\",\n",
    "                 \"pooltypeid2\", \"poolsizesum\", \"decktypeid\", \"taxdelinquencyflag\",\"pooltypeid7\"]\n",
    "\n",
    "impute_mode_vars = [\"airconditioningtypeid\", \"heatingorsystemtypeid\", \"unitcnt\", \"fips\",\n",
    "                    \"propertylandusetypeid\", \"regionidcounty\", \"yearbuilt\"] \n",
    "\n",
    "impute_median_vars = [\"buildingqualitytypeid\", \"lotsizesquarefeet\", \"bathroomcnt\", \"bedroomcnt\", \"calculatedfinishedsquarefeet\",\n",
    "                      \"structuretaxvaluedollarcnt\", \"landtaxvaluedollarcnt\", \"latitude\", \"longitude\"]\n",
    "\n",
    "univariate_impute_pipe = utils.ColumnTransformer([\n",
    "        (\"impute_0\", SimpleImputer(strategy=\"constant\", fill_value=0), impute_0_vars),\n",
    "        (\"impute_mode\", SimpleImputer(strategy=\"most_frequent\"), impute_mode_vars),\n",
    "        (\"impute_median\", SimpleImputer(strategy=\"median\"), impute_median_vars),\n",
    "    ],\n",
    "    remainder='passthrough'\n",
    ")\n",
    "\n",
    "X_temp = univariate_impute_pipe.fit_transform(X_temp)"
   ]
  },
  {
   "cell_type": "markdown",
   "id": "1c1eb0f9-093d-4fb7-ba58-6cd91c89d254",
   "metadata": {
    "tags": []
   },
   "source": [
    "## Column Names Appender Pipeline\n",
    "\n",
    "The output of the imputation pipeline is not a Pandas DataFrame but a NumPy Array. The following pipeline takes as an input the imputation pipeline and creates a DataFrame from the Numpy Array input. "
   ]
  },
  {
   "cell_type": "code",
   "execution_count": 28,
   "id": "8fb28f25-94de-4567-b706-e542d3eb6abf",
   "metadata": {
    "tags": []
   },
   "outputs": [],
   "source": [
    "column_appender = utils.ColumnNamesAppender(univariate_impute_pipe, orig_columns=X_train.columns, num_transformers=3)\n",
    "X_temp = column_appender.fit_transform(X_temp)"
   ]
  },
  {
   "cell_type": "markdown",
   "id": "5b6782b0-0a06-4e17-9944-d06f8f1623da",
   "metadata": {
    "tags": []
   },
   "source": [
    "## Convert Variables Types Pipeline\n",
    "\n",
    "Many categorical and boolean variables are currently encoded as floats, so we convert them."
   ]
  },
  {
   "cell_type": "code",
   "execution_count": 29,
   "id": "85e66930-7cc2-437f-b859-bc1c6bdc8464",
   "metadata": {
    "tags": []
   },
   "outputs": [],
   "source": [
    "convert_to_int = [\"yearbuilt\"] \n",
    "convert_to_string= [\"airconditioningtypeid\", \"heatingorsystemtypeid\", \"fips\", \"propertylandusetypeid\", \"regionidcounty\", \"pooltypeid2\", \"decktypeid\", \"taxdelinquencyflag\",] \n",
    "convert_to_float= [\"bathroomcnt\", \"bedroomcnt\", \"buildingqualitytypeid\", \"calculatedfinishedsquarefeet\",\n",
    "                  \"fireplacecnt\", \"garagecarcnt\", \"garagetotalsqft\", \"latitude\", \"longitude\", \"lotsizesquarefeet\", \"poolcnt\",\n",
    "                  \"poolsizesum\", \"unitcnt\", \"yardbuildingsqft17\", \"structuretaxvaluedollarcnt\", \"landtaxvaluedollarcnt\"]\n",
    "    \n",
    "# # Code to test pipeline\n",
    "feature_type_changer = utils.ConvertFeatureType(convert_to_int=convert_to_int, convert_to_string=convert_to_string, convert_to_float=convert_to_float)\n",
    "X_temp = feature_type_changer.fit_transform(X_temp)"
   ]
  },
  {
   "cell_type": "markdown",
   "id": "243375e4-439c-4f38-abb7-dde11be8e316",
   "metadata": {
    "tags": []
   },
   "source": [
    "## Year Feature Creation Pipeline\n",
    "\n",
    " `1989` is converted into `present_year(2021) - 1989 = 32` "
   ]
  },
  {
   "cell_type": "code",
   "execution_count": 30,
   "id": "fd65c5e4-f195-4648-ad6e-849135b9fba4",
   "metadata": {
    "tags": []
   },
   "outputs": [],
   "source": [
    "from datetime import date\n",
    "date_features = {\"yearbuilt\": \"house_age\"}\n",
    "\n",
    "year_feat_creator = utils.CreateYearFeatures(date_features=date_features)\n",
    "X_temp = year_feat_creator.fit_transform(X_temp)"
   ]
  },
  {
   "cell_type": "markdown",
   "id": "c415c288-ec47-49f7-b19f-bf746da390eb",
   "metadata": {
    "tags": []
   },
   "source": [
    "## One-Hot Encoding Categorical Variables + Standardizing Numerical Variables \n",
    "The following custom transformer uses `ColumnTransformer` to perform One-Hot Encoding on Categorical Features and Robust Scaler on Numerical Features."
   ]
  },
  {
   "cell_type": "code",
   "execution_count": 32,
   "id": "35fb59c6-0bd7-44d5-beb9-17b3e2ed244f",
   "metadata": {},
   "outputs": [
    {
     "ename": "ValueError",
     "evalue": "String indexing is not supported with 'axis=0'",
     "output_type": "error",
     "traceback": [
      "\u001b[1;31m---------------------------------------------------------------------------\u001b[0m",
      "\u001b[1;31mValueError\u001b[0m                                Traceback (most recent call last)",
      "Input \u001b[1;32mIn [32]\u001b[0m, in \u001b[0;36m<cell line: 2>\u001b[1;34m()\u001b[0m\n\u001b[0;32m      1\u001b[0m feature_encoder_scaler \u001b[38;5;241m=\u001b[39m utils\u001b[38;5;241m.\u001b[39mFeatureEncoderAndScaler()\n\u001b[1;32m----> 2\u001b[0m X_temp \u001b[38;5;241m=\u001b[39m \u001b[43mfeature_encoder_scaler\u001b[49m\u001b[38;5;241;43m.\u001b[39;49m\u001b[43mfit_transform\u001b[49m\u001b[43m(\u001b[49m\u001b[43mX_temp\u001b[49m\u001b[43m)\u001b[49m\n",
      "File \u001b[1;32m~\\anaconda3\\lib\\site-packages\\sklearn\\base.py:852\u001b[0m, in \u001b[0;36mTransformerMixin.fit_transform\u001b[1;34m(self, X, y, **fit_params)\u001b[0m\n\u001b[0;32m    848\u001b[0m \u001b[38;5;66;03m# non-optimized default implementation; override when a better\u001b[39;00m\n\u001b[0;32m    849\u001b[0m \u001b[38;5;66;03m# method is possible for a given clustering algorithm\u001b[39;00m\n\u001b[0;32m    850\u001b[0m \u001b[38;5;28;01mif\u001b[39;00m y \u001b[38;5;129;01mis\u001b[39;00m \u001b[38;5;28;01mNone\u001b[39;00m:\n\u001b[0;32m    851\u001b[0m     \u001b[38;5;66;03m# fit method of arity 1 (unsupervised transformation)\u001b[39;00m\n\u001b[1;32m--> 852\u001b[0m     \u001b[38;5;28;01mreturn\u001b[39;00m \u001b[38;5;28;43mself\u001b[39;49m\u001b[38;5;241;43m.\u001b[39;49m\u001b[43mfit\u001b[49m\u001b[43m(\u001b[49m\u001b[43mX\u001b[49m\u001b[43m,\u001b[49m\u001b[43m \u001b[49m\u001b[38;5;241;43m*\u001b[39;49m\u001b[38;5;241;43m*\u001b[39;49m\u001b[43mfit_params\u001b[49m\u001b[43m)\u001b[49m\u001b[38;5;241;43m.\u001b[39;49m\u001b[43mtransform\u001b[49m\u001b[43m(\u001b[49m\u001b[43mX\u001b[49m\u001b[43m)\u001b[49m\n\u001b[0;32m    853\u001b[0m \u001b[38;5;28;01melse\u001b[39;00m:\n\u001b[0;32m    854\u001b[0m     \u001b[38;5;66;03m# fit method of arity 2 (supervised transformation)\u001b[39;00m\n\u001b[0;32m    855\u001b[0m     \u001b[38;5;28;01mreturn\u001b[39;00m \u001b[38;5;28mself\u001b[39m\u001b[38;5;241m.\u001b[39mfit(X, y, \u001b[38;5;241m*\u001b[39m\u001b[38;5;241m*\u001b[39mfit_params)\u001b[38;5;241m.\u001b[39mtransform(X)\n",
      "File \u001b[1;32m~\\Desktop\\zillow competition\\utils.py:395\u001b[0m, in \u001b[0;36mFeatureEncoderAndScaler.transform\u001b[1;34m(self, X)\u001b[0m\n\u001b[0;32m    390\u001b[0m \u001b[38;5;28;01mdef\u001b[39;00m \u001b[38;5;21mtransform\u001b[39m(\u001b[38;5;28mself\u001b[39m, X): \n\u001b[0;32m    391\u001b[0m     \u001b[38;5;66;03m# OneHotEncoder returns numpy array which is converted to dataframe\u001b[39;00m\n\u001b[0;32m    392\u001b[0m     X_np \u001b[38;5;241m=\u001b[39m \u001b[38;5;28mself\u001b[39m\u001b[38;5;241m.\u001b[39mfeature_encoder_scaler\u001b[38;5;241m.\u001b[39mtransform(X)\n\u001b[0;32m    393\u001b[0m     X \u001b[38;5;241m=\u001b[39m pd\u001b[38;5;241m.\u001b[39mDataFrame(\n\u001b[0;32m    394\u001b[0m         X_np, \n\u001b[1;32m--> 395\u001b[0m         columns\u001b[38;5;241m=\u001b[39m\u001b[38;5;28;43mself\u001b[39;49m\u001b[38;5;241;43m.\u001b[39;49m\u001b[43mfeature_encoder_scaler\u001b[49m\u001b[38;5;241;43m.\u001b[39;49m\u001b[43mget_feature_names_out\u001b[49m\u001b[43m(\u001b[49m\u001b[43m)\u001b[49m\n\u001b[0;32m    396\u001b[0m     )\n\u001b[0;32m    397\u001b[0m     X \u001b[38;5;241m=\u001b[39m \u001b[38;5;28mself\u001b[39m\u001b[38;5;241m.\u001b[39mconvert_feature_types(X)\n\u001b[0;32m    399\u001b[0m     \u001b[38;5;28;01mreturn\u001b[39;00m X\n",
      "File \u001b[1;32m~\\anaconda3\\lib\\site-packages\\sklearn\\compose\\_column_transformer.py:481\u001b[0m, in \u001b[0;36mColumnTransformer.get_feature_names_out\u001b[1;34m(self, input_features)\u001b[0m\n\u001b[0;32m    479\u001b[0m transformer_with_feature_names_out \u001b[38;5;241m=\u001b[39m []\n\u001b[0;32m    480\u001b[0m \u001b[38;5;28;01mfor\u001b[39;00m name, trans, column, _ \u001b[38;5;129;01min\u001b[39;00m \u001b[38;5;28mself\u001b[39m\u001b[38;5;241m.\u001b[39m_iter(fitted\u001b[38;5;241m=\u001b[39m\u001b[38;5;28;01mTrue\u001b[39;00m):\n\u001b[1;32m--> 481\u001b[0m     feature_names_out \u001b[38;5;241m=\u001b[39m \u001b[38;5;28;43mself\u001b[39;49m\u001b[38;5;241;43m.\u001b[39;49m\u001b[43m_get_feature_name_out_for_transformer\u001b[49m\u001b[43m(\u001b[49m\n\u001b[0;32m    482\u001b[0m \u001b[43m        \u001b[49m\u001b[43mname\u001b[49m\u001b[43m,\u001b[49m\u001b[43m \u001b[49m\u001b[43mtrans\u001b[49m\u001b[43m,\u001b[49m\u001b[43m \u001b[49m\u001b[43mcolumn\u001b[49m\u001b[43m,\u001b[49m\u001b[43m \u001b[49m\u001b[43minput_features\u001b[49m\n\u001b[0;32m    483\u001b[0m \u001b[43m    \u001b[49m\u001b[43m)\u001b[49m\n\u001b[0;32m    484\u001b[0m     \u001b[38;5;28;01mif\u001b[39;00m feature_names_out \u001b[38;5;129;01mis\u001b[39;00m \u001b[38;5;28;01mNone\u001b[39;00m:\n\u001b[0;32m    485\u001b[0m         \u001b[38;5;28;01mcontinue\u001b[39;00m\n",
      "File \u001b[1;32m~\\anaconda3\\lib\\site-packages\\sklearn\\compose\\_column_transformer.py:453\u001b[0m, in \u001b[0;36mColumnTransformer._get_feature_name_out_for_transformer\u001b[1;34m(self, name, trans, column, feature_names_in)\u001b[0m\n\u001b[0;32m    446\u001b[0m     \u001b[38;5;28;01mraise\u001b[39;00m \u001b[38;5;167;01mAttributeError\u001b[39;00m(\n\u001b[0;32m    447\u001b[0m         \u001b[38;5;124mf\u001b[39m\u001b[38;5;124m\"\u001b[39m\u001b[38;5;124mTransformer \u001b[39m\u001b[38;5;132;01m{\u001b[39;00mname\u001b[38;5;132;01m}\u001b[39;00m\u001b[38;5;124m (type \u001b[39m\u001b[38;5;132;01m{\u001b[39;00m\u001b[38;5;28mtype\u001b[39m(trans)\u001b[38;5;241m.\u001b[39m\u001b[38;5;18m__name__\u001b[39m\u001b[38;5;132;01m}\u001b[39;00m\u001b[38;5;124m) does \u001b[39m\u001b[38;5;124m\"\u001b[39m\n\u001b[0;32m    448\u001b[0m         \u001b[38;5;124m\"\u001b[39m\u001b[38;5;124mnot provide get_feature_names_out.\u001b[39m\u001b[38;5;124m\"\u001b[39m\n\u001b[0;32m    449\u001b[0m     )\n\u001b[0;32m    450\u001b[0m \u001b[38;5;28;01mif\u001b[39;00m \u001b[38;5;28misinstance\u001b[39m(column, Iterable) \u001b[38;5;129;01mand\u001b[39;00m \u001b[38;5;129;01mnot\u001b[39;00m \u001b[38;5;28mall\u001b[39m(\n\u001b[0;32m    451\u001b[0m     \u001b[38;5;28misinstance\u001b[39m(col, \u001b[38;5;28mstr\u001b[39m) \u001b[38;5;28;01mfor\u001b[39;00m col \u001b[38;5;129;01min\u001b[39;00m column\n\u001b[0;32m    452\u001b[0m ):\n\u001b[1;32m--> 453\u001b[0m     column \u001b[38;5;241m=\u001b[39m \u001b[43m_safe_indexing\u001b[49m\u001b[43m(\u001b[49m\u001b[43mfeature_names_in\u001b[49m\u001b[43m,\u001b[49m\u001b[43m \u001b[49m\u001b[43mcolumn\u001b[49m\u001b[43m)\u001b[49m\n\u001b[0;32m    454\u001b[0m \u001b[38;5;28;01mreturn\u001b[39;00m trans\u001b[38;5;241m.\u001b[39mget_feature_names_out(column)\n",
      "File \u001b[1;32m~\\anaconda3\\lib\\site-packages\\sklearn\\utils\\__init__.py:360\u001b[0m, in \u001b[0;36m_safe_indexing\u001b[1;34m(X, indices, axis)\u001b[0m\n\u001b[0;32m    357\u001b[0m indices_dtype \u001b[38;5;241m=\u001b[39m _determine_key_type(indices)\n\u001b[0;32m    359\u001b[0m \u001b[38;5;28;01mif\u001b[39;00m axis \u001b[38;5;241m==\u001b[39m \u001b[38;5;241m0\u001b[39m \u001b[38;5;129;01mand\u001b[39;00m indices_dtype \u001b[38;5;241m==\u001b[39m \u001b[38;5;124m\"\u001b[39m\u001b[38;5;124mstr\u001b[39m\u001b[38;5;124m\"\u001b[39m:\n\u001b[1;32m--> 360\u001b[0m     \u001b[38;5;28;01mraise\u001b[39;00m \u001b[38;5;167;01mValueError\u001b[39;00m(\u001b[38;5;124m\"\u001b[39m\u001b[38;5;124mString indexing is not supported with \u001b[39m\u001b[38;5;124m'\u001b[39m\u001b[38;5;124maxis=0\u001b[39m\u001b[38;5;124m'\u001b[39m\u001b[38;5;124m\"\u001b[39m)\n\u001b[0;32m    362\u001b[0m \u001b[38;5;28;01mif\u001b[39;00m axis \u001b[38;5;241m==\u001b[39m \u001b[38;5;241m1\u001b[39m \u001b[38;5;129;01mand\u001b[39;00m X\u001b[38;5;241m.\u001b[39mndim \u001b[38;5;241m!=\u001b[39m \u001b[38;5;241m2\u001b[39m:\n\u001b[0;32m    363\u001b[0m     \u001b[38;5;28;01mraise\u001b[39;00m \u001b[38;5;167;01mValueError\u001b[39;00m(\n\u001b[0;32m    364\u001b[0m         \u001b[38;5;124m\"\u001b[39m\u001b[38;5;124m'\u001b[39m\u001b[38;5;124mX\u001b[39m\u001b[38;5;124m'\u001b[39m\u001b[38;5;124m should be a 2D NumPy array, 2D sparse matrix or pandas \u001b[39m\u001b[38;5;124m\"\u001b[39m\n\u001b[0;32m    365\u001b[0m         \u001b[38;5;124m\"\u001b[39m\u001b[38;5;124mdataframe when indexing the columns (i.e. \u001b[39m\u001b[38;5;124m'\u001b[39m\u001b[38;5;124maxis=1\u001b[39m\u001b[38;5;124m'\u001b[39m\u001b[38;5;124m). \u001b[39m\u001b[38;5;124m\"\u001b[39m\n\u001b[0;32m    366\u001b[0m         \u001b[38;5;124m\"\u001b[39m\u001b[38;5;124mGot \u001b[39m\u001b[38;5;132;01m{}\u001b[39;00m\u001b[38;5;124m instead with \u001b[39m\u001b[38;5;132;01m{}\u001b[39;00m\u001b[38;5;124m dimension(s).\u001b[39m\u001b[38;5;124m\"\u001b[39m\u001b[38;5;241m.\u001b[39mformat(\u001b[38;5;28mtype\u001b[39m(X), X\u001b[38;5;241m.\u001b[39mndim)\n\u001b[0;32m    367\u001b[0m     )\n",
      "\u001b[1;31mValueError\u001b[0m: String indexing is not supported with 'axis=0'"
     ]
    }
   ],
   "source": [
    "feature_encoder_scaler = utils.FeatureEncoderAndScaler()\n",
    "X_temp = feature_encoder_scaler.fit_transform(X_temp)"
   ]
  },
  {
   "cell_type": "markdown",
   "id": "2a276352-825c-44d3-ba16-608553450628",
   "metadata": {
    "tags": []
   },
   "source": [
    "## Create Polynomial Features Pipeline\n",
    "\n",
    "The three new polynomial features are: \n",
    "- `feature^2`\n",
    "- `feature^3`\n",
    "- `sqrt(feature)` \n",
    "\n",
    "This transformation is useful for models such as linear regression compared to more complex models such as Random Forest, GBMs that can detect non-linear patters within the data without such feature engineering."
   ]
  },
  {
   "cell_type": "code",
   "execution_count": 33,
   "id": "7acc9919-d5c4-4c60-bedf-f06ded0c4f6a",
   "metadata": {},
   "outputs": [
    {
     "data": {
      "text/plain": [
       "Index(['calculatedfinishedsquarefeet', 'bathroomcnt', 'bedroomcnt',\n",
       "       'structuretaxvaluedollarcnt', 'house_age', 'garagetotalsqft',\n",
       "       'landtaxvaluedollarcnt', 'garagecarcnt'],\n",
       "      dtype='object')"
      ]
     },
     "execution_count": 33,
     "metadata": {},
     "output_type": "execute_result"
    }
   ],
   "source": [
    "corr_df = X_temp.copy()\n",
    "corr_df[\"logerror\"] = y_train.values\n",
    "corr = corr_df.corr()\n",
    "most_corr_feat = corr.logerror.abs().sort_values(ascending=False)[1:9].index\n",
    "most_corr_feat"
   ]
  },
  {
   "cell_type": "code",
   "execution_count": 34,
   "id": "eef2c61b-e4d7-43bf-9ffd-f1bdbbbe6dcf",
   "metadata": {
    "tags": []
   },
   "outputs": [],
   "source": [
    "poly_feat_creator = utils.CreatePolynomialFeatures(most_corr_feat)\n",
    "X_temp = poly_feat_creator.fit_transform(X_temp)"
   ]
  },
  {
   "cell_type": "markdown",
   "id": "ceb576de-7e43-4371-ab85-29d969476139",
   "metadata": {
    "tags": []
   },
   "source": [
    "## Skewed Features Pipeline\n",
    "Next transformation is applied to numerical features that are highly skewed (all variables with skewness above the threshold value of 0.75). We will be performing the **Box Cox Transformation** using scipy function `boxcox1p`.  "
   ]
  },
  {
   "cell_type": "code",
   "execution_count": 35,
   "id": "1b4ac3c9-1fbd-4321-a326-6b838995130e",
   "metadata": {
    "tags": []
   },
   "outputs": [
    {
     "name": "stdout",
     "output_type": "stream",
     "text": [
      "unitcnt                            186.776719\n",
      "structuretaxvaluedollarcnt-s3      183.789024\n",
      "landtaxvaluedollarcnt-s3           179.359196\n",
      "garagetotalsqft-s3                 106.881884\n",
      "landtaxvaluedollarcnt-s2            99.256258\n",
      "garagecarcnt-s3                     89.126351\n",
      "calculatedfinishedsquarefeet-s3     87.701451\n",
      "structuretaxvaluedollarcnt-s2       87.392658\n",
      "bathroomcnt-s3                      50.428740\n",
      "garagetotalsqft-s2                  28.797628\n",
      "lotsizesquarefeet                   26.200211\n",
      "calculatedfinishedsquarefeet-s2     18.943501\n",
      "garagecarcnt-s2                     16.122097\n",
      "bedroomcnt-s3                       12.959954\n",
      "yardbuildingsqft17                  12.331821\n",
      "landtaxvaluedollarcnt               11.760451\n",
      "poolsizesum                         10.811301\n",
      "structuretaxvaluedollarcnt           9.344524\n",
      "bathroomcnt-s2                       6.214306\n",
      "bedroomcnt-s2                        4.069913\n",
      "dtype: float64\n"
     ]
    }
   ],
   "source": [
    "numeric_feats = X_temp.dtypes[X_temp.dtypes == 'float'].index\n",
    "skewed_feats = X_temp[numeric_feats].apply(lambda x: skew(x.dropna())).sort_values(ascending=False)\n",
    "print(skewed_feats[:20])\n",
    "\n",
    "skew_transformer = utils.BoxCoxSkewedFeatures()\n",
    "X_temp = skew_transformer.transform(X_temp)"
   ]
  },
  {
   "cell_type": "markdown",
   "id": "72057862-0aa8-4cbe-8255-fb49a4b2a807",
   "metadata": {
    "tags": []
   },
   "source": [
    "# 4 - Linear Regression Models \n",
    "\n",
    "Both plain Linear Regression and Regularized Linear Regression algorithms will be tested."
   ]
  },
  {
   "cell_type": "code",
   "execution_count": 36,
   "id": "34c9f27c-10d1-4663-988a-3995850d8848",
   "metadata": {},
   "outputs": [],
   "source": [
    "from sklearn.compose import ColumnTransformer\n",
    "from sklearn.pipeline import Pipeline\n",
    "from sklearn.experimental import enable_iterative_imputer\n",
    "from sklearn.impute import IterativeImputer\n",
    "from sklearn.impute import SimpleImputer\n",
    "from sklearn.preprocessing import OneHotEncoder\n",
    "from sklearn.preprocessing import StandardScaler\n",
    "from sklearn.preprocessing import RobustScaler\n",
    "from sklearn.ensemble import RandomForestRegressor"
   ]
  },
  {
   "cell_type": "code",
   "execution_count": 37,
   "id": "fc7249da-45bc-4399-8378-dcbd2960adde",
   "metadata": {
    "tags": []
   },
   "outputs": [],
   "source": [
    "X_prepared = X_train.copy()\n",
    "X_prepared_val = X_val.copy()"
   ]
  },
  {
   "cell_type": "code",
   "execution_count": 38,
   "id": "0b83f729-6bad-4f00-b2d9-e9855ffe96d2",
   "metadata": {
    "tags": []
   },
   "outputs": [],
   "source": [
    "# Feature Dropper Pipeline\n",
    "lin_reg_drop_vars = [\"finishedsquarefeet13\", \"finishedsquarefeet15\", \"finishedfloor1squarefeet\", \"finishedsquarefeet50\",\n",
    "             \"storytypeid\", \"architecturalstyletypeid\", \"buildingclasstypeid\", \"typeconstructiontypeid\", \"finishedsquarefeet6\",\n",
    "             \"pooltypeid10\", \"hashottuborspa\", \"fireplaceflag\", \"threequarterbathnbr\", \"calculatedbathnbr\",\n",
    "             \"fullbathcnt\", \"numberofstories\", \"censustractandblock\", \"rawcensustractandblock\",\n",
    "             \"finishedsquarefeet12\", \"taxvaluedollarcnt\", \"taxamount\", \"assessmentyear\", \"roomcnt\",\n",
    "             \"propertyzoningdesc\", \"regionidneighborhood\", \"regionidzip\", \"taxdelinquencyyear\",\n",
    "             \"propertycountylandusecode\", \"regionidcity\", \"parcelid\", \"basementsqft\", \"yardbuildingsqft26\", \"transactiondate\"\n",
    "            ]\n",
    "feature_dropper = utils.FeatureDropper(features_to_drop=lin_reg_drop_vars)\n",
    "\n",
    "date_features = {\"yearbuilt\": \"house_age\"}\n",
    "# Convert Date Features Pipeline\n",
    "year_feat_creator = utils.CreateYearFeatures(date_features=date_features)\n",
    "\n",
    "# Feature Encoding and Scaling Pipeline\n",
    "feature_encoder_scaler = utils.FeatureEncoderAndScaler()\n",
    "\n",
    "# Transform Skewed Numerical Features Pipeline\n",
    "skew_transformer = utils.BoxCoxSkewedFeatures()\n",
    "\n",
    "# Two versions below: Univariate Imputation and Multivariate Imputation:\n",
    "# True for univariate imputation, false for multivariate imputation\n",
    "########################################### \n",
    "univariate = True \n",
    "if univariate:\n",
    "    # 1) Univariate Imputation Pipeline\n",
    "    \n",
    "    impute_0_vars = [\"yardbuildingsqft17\", \"fireplacecnt\", \"poolcnt\", \"garagecarcnt\", \"garagetotalsqft\",\n",
    "                 \"pooltypeid2\", \"poolsizesum\", \"decktypeid\", \"taxdelinquencyflag\",\"pooltypeid7\"]\n",
    "\n",
    "    impute_mode_vars = [\"airconditioningtypeid\", \"heatingorsystemtypeid\", \"unitcnt\", \"fips\",\n",
    "                        \"propertylandusetypeid\", \"regionidcounty\", \"yearbuilt\"] \n",
    "\n",
    "    impute_median_vars = [\"buildingqualitytypeid\", \"lotsizesquarefeet\", \"bathroomcnt\", \"bedroomcnt\", \"calculatedfinishedsquarefeet\",\n",
    "                          \"structuretaxvaluedollarcnt\", \"landtaxvaluedollarcnt\", \"latitude\", \"longitude\"]\n",
    "\n",
    "    convert_to_int = [\"yearbuilt\"] \n",
    "    convert_to_float= [\"bathroomcnt\", \"bedroomcnt\", \"buildingqualitytypeid\", \"calculatedfinishedsquarefeet\",\n",
    "                      \"fireplacecnt\", \"garagecarcnt\", \"garagetotalsqft\", \"latitude\", \"longitude\", \"lotsizesquarefeet\", \"poolcnt\",\n",
    "                      \"poolsizesum\", \"unitcnt\", \"yardbuildingsqft17\", \"structuretaxvaluedollarcnt\", \"landtaxvaluedollarcnt\"]\n",
    "\n",
    "    convert_to_bool = [\"pooltypeid2\", \"decktypeid\", \"taxdelinquencyflag\"] \n",
    "    convert_to_string= [\"airconditioningtypeid\", \"heatingorsystemtypeid\", \"fips\", \"propertylandusetypeid\", \"regionidcounty\"]\n",
    "    univariate_impute_pipe = utils.ColumnTransformer([\n",
    "            (\"impute_0\", SimpleImputer(strategy=\"constant\", fill_value=0), impute_0_vars),\n",
    "            (\"impute_mode\", SimpleImputer(strategy=\"most_frequent\"), impute_mode_vars),\n",
    "            (\"impute_median\", SimpleImputer(strategy=\"median\"), impute_median_vars),\n",
    "        ],\n",
    "        remainder='passthrough'\n",
    "    )\n",
    "    col_name_appender = utils.ColumnNamesAppender(univariate_impute_pipe, X_train.columns, num_transformers=3)\n",
    "    feature_type_changer = utils.ConvertFeatureType(convert_to_int=convert_to_int, convert_to_string=convert_to_string, \n",
    "                                              convert_to_float=convert_to_float, convert_to_bool=convert_to_bool)\n",
    "    \n",
    "    poly_feat_creator = utils.CreatePolynomialFeatures(most_corr_feat)\n",
    "\n",
    "else:\n",
    "    #2) Multivariate Version\n",
    "    cat_impute_vars = [\"airconditioningtypeid\", \"heatingorsystemtypeid\", \"fips\", \"propertylandusetypeid\", \"regionidcounty\", \"pooltypeid2\", \"decktypeid\", \"taxdelinquencyflag\"] \n",
    "    numeric_impute_vars = [\"bathroomcnt\", \"bedroomcnt\", \"buildingqualitytypeid\", \"calculatedfinishedsquarefeet\",\n",
    "                      \"fireplacecnt\", \"garagecarcnt\", \"garagetotalsqft\", \"latitude\", \"longitude\", \"lotsizesquarefeet\", \"poolcnt\",\n",
    "                      \"poolsizesum\", \"unitcnt\", \"yardbuildingsqft17\", \"yearbuilt\", \"structuretaxvaluedollarcnt\", \"landtaxvaluedollarcnt\"]\n",
    "\n",
    "    convert_to_string= [\"airconditioningtypeid\", \"heatingorsystemtypeid\", \"fips\", \"propertylandusetypeid\", \"regionidcounty\", \"pooltypeid2\", \"decktypeid\", \"taxdelinquencyflag\"]\n",
    "    multivariate_impute_pipe = utils.ColumnTransformer([\n",
    "            (\"impute_cats\", SimpleImputer(strategy=\"constant\", fill_value='missing'), cat_impute_vars),\n",
    "            (\"impute_num\", IterativeImputer(estimator=RandomForestRegressor(n_estimators=10, max_depth=30, min_samples_leaf=32), random_state=0, max_iter=1), numeric_impute_vars),\n",
    "        ],\n",
    "        remainder='passthrough'\n",
    "    )\n",
    "    col_name_appender = utils.ColumnNamesAppender(multivariate_impute_pipe, X_train.columns, num_transformers=3)\n",
    "    feature_type_changer = utils.ConvertFeatureType(convert_to_int=convert_to_int, convert_to_string=convert_to_string, convert_to_float=convert_to_float)\n",
    "    most_corr_feat = list(map(lambda x: x.replace('num_scaler__',''), most_corr_feat))     # Clean up feature names by removing `num_scaler__`\n",
    "    poly_feat_creator = utils.CreatePolynomialFeatures(most_corr_feat)\n"
   ]
  },
  {
   "cell_type": "code",
   "execution_count": 39,
   "id": "a167b01a-f105-4edd-b6f1-9d71bebc7021",
   "metadata": {
    "tags": []
   },
   "outputs": [
    {
     "name": "stdout",
     "output_type": "stream",
     "text": [
      "[Pipeline] ... (step 1 of 7) Processing feature_dropper, total=   0.0s\n",
      "[Pipeline] ........ (step 2 of 7) Processing imputation, total=   1.0s\n",
      "[Pipeline] . (step 3 of 7) Processing col_name_appender, total=   0.1s\n",
      "[Pipeline]  (step 4 of 7) Processing feature_type_changer, total=   1.2s\n",
      "[Pipeline] . (step 5 of 7) Processing year_feat_creator, total=   0.1s\n"
     ]
    },
    {
     "ename": "ValueError",
     "evalue": "String indexing is not supported with 'axis=0'",
     "output_type": "error",
     "traceback": [
      "\u001b[1;31m---------------------------------------------------------------------------\u001b[0m",
      "\u001b[1;31mValueError\u001b[0m                                Traceback (most recent call last)",
      "Input \u001b[1;32mIn [39]\u001b[0m, in \u001b[0;36m<cell line: 15>\u001b[1;34m()\u001b[0m\n\u001b[0;32m      4\u001b[0m     imputation \u001b[38;5;241m=\u001b[39m multivariate_impute_pipe\n\u001b[0;32m      5\u001b[0m lin_reg_preprocessor \u001b[38;5;241m=\u001b[39m Pipeline([\n\u001b[0;32m      6\u001b[0m         (\u001b[38;5;124m'\u001b[39m\u001b[38;5;124mfeature_dropper\u001b[39m\u001b[38;5;124m'\u001b[39m, feature_dropper),\n\u001b[0;32m      7\u001b[0m         (\u001b[38;5;124m'\u001b[39m\u001b[38;5;124mimputation\u001b[39m\u001b[38;5;124m'\u001b[39m, imputation),\n\u001b[1;32m   (...)\u001b[0m\n\u001b[0;32m     12\u001b[0m         (\u001b[38;5;124m'\u001b[39m\u001b[38;5;124mskew_transformer\u001b[39m\u001b[38;5;124m'\u001b[39m, skew_transformer),\n\u001b[0;32m     13\u001b[0m     ],verbose\u001b[38;5;241m=\u001b[39m\u001b[38;5;28;01mTrue\u001b[39;00m)\n\u001b[1;32m---> 15\u001b[0m data_prep_pipe \u001b[38;5;241m=\u001b[39m \u001b[43mlin_reg_preprocessor\u001b[49m\u001b[38;5;241;43m.\u001b[39;49m\u001b[43mfit\u001b[49m\u001b[43m(\u001b[49m\u001b[43mX_prepared\u001b[49m\u001b[43m)\u001b[49m\n\u001b[0;32m     16\u001b[0m X_prepared \u001b[38;5;241m=\u001b[39m lin_reg_preprocessor\u001b[38;5;241m.\u001b[39mtransform(X_prepared)\n\u001b[0;32m     17\u001b[0m X_prepared_val \u001b[38;5;241m=\u001b[39m lin_reg_preprocessor\u001b[38;5;241m.\u001b[39mtransform(X_prepared_val)\n",
      "File \u001b[1;32m~\\anaconda3\\lib\\site-packages\\sklearn\\pipeline.py:390\u001b[0m, in \u001b[0;36mPipeline.fit\u001b[1;34m(self, X, y, **fit_params)\u001b[0m\n\u001b[0;32m    364\u001b[0m \u001b[38;5;124;03m\"\"\"Fit the model.\u001b[39;00m\n\u001b[0;32m    365\u001b[0m \n\u001b[0;32m    366\u001b[0m \u001b[38;5;124;03mFit all the transformers one after the other and transform the\u001b[39;00m\n\u001b[1;32m   (...)\u001b[0m\n\u001b[0;32m    387\u001b[0m \u001b[38;5;124;03m    Pipeline with fitted steps.\u001b[39;00m\n\u001b[0;32m    388\u001b[0m \u001b[38;5;124;03m\"\"\"\u001b[39;00m\n\u001b[0;32m    389\u001b[0m fit_params_steps \u001b[38;5;241m=\u001b[39m \u001b[38;5;28mself\u001b[39m\u001b[38;5;241m.\u001b[39m_check_fit_params(\u001b[38;5;241m*\u001b[39m\u001b[38;5;241m*\u001b[39mfit_params)\n\u001b[1;32m--> 390\u001b[0m Xt \u001b[38;5;241m=\u001b[39m \u001b[38;5;28;43mself\u001b[39;49m\u001b[38;5;241;43m.\u001b[39;49m\u001b[43m_fit\u001b[49m\u001b[43m(\u001b[49m\u001b[43mX\u001b[49m\u001b[43m,\u001b[49m\u001b[43m \u001b[49m\u001b[43my\u001b[49m\u001b[43m,\u001b[49m\u001b[43m \u001b[49m\u001b[38;5;241;43m*\u001b[39;49m\u001b[38;5;241;43m*\u001b[39;49m\u001b[43mfit_params_steps\u001b[49m\u001b[43m)\u001b[49m\n\u001b[0;32m    391\u001b[0m \u001b[38;5;28;01mwith\u001b[39;00m _print_elapsed_time(\u001b[38;5;124m\"\u001b[39m\u001b[38;5;124mPipeline\u001b[39m\u001b[38;5;124m\"\u001b[39m, \u001b[38;5;28mself\u001b[39m\u001b[38;5;241m.\u001b[39m_log_message(\u001b[38;5;28mlen\u001b[39m(\u001b[38;5;28mself\u001b[39m\u001b[38;5;241m.\u001b[39msteps) \u001b[38;5;241m-\u001b[39m \u001b[38;5;241m1\u001b[39m)):\n\u001b[0;32m    392\u001b[0m     \u001b[38;5;28;01mif\u001b[39;00m \u001b[38;5;28mself\u001b[39m\u001b[38;5;241m.\u001b[39m_final_estimator \u001b[38;5;241m!=\u001b[39m \u001b[38;5;124m\"\u001b[39m\u001b[38;5;124mpassthrough\u001b[39m\u001b[38;5;124m\"\u001b[39m:\n",
      "File \u001b[1;32m~\\anaconda3\\lib\\site-packages\\sklearn\\pipeline.py:348\u001b[0m, in \u001b[0;36mPipeline._fit\u001b[1;34m(self, X, y, **fit_params_steps)\u001b[0m\n\u001b[0;32m    346\u001b[0m     cloned_transformer \u001b[38;5;241m=\u001b[39m clone(transformer)\n\u001b[0;32m    347\u001b[0m \u001b[38;5;66;03m# Fit or load from cache the current transformer\u001b[39;00m\n\u001b[1;32m--> 348\u001b[0m X, fitted_transformer \u001b[38;5;241m=\u001b[39m \u001b[43mfit_transform_one_cached\u001b[49m\u001b[43m(\u001b[49m\n\u001b[0;32m    349\u001b[0m \u001b[43m    \u001b[49m\u001b[43mcloned_transformer\u001b[49m\u001b[43m,\u001b[49m\n\u001b[0;32m    350\u001b[0m \u001b[43m    \u001b[49m\u001b[43mX\u001b[49m\u001b[43m,\u001b[49m\n\u001b[0;32m    351\u001b[0m \u001b[43m    \u001b[49m\u001b[43my\u001b[49m\u001b[43m,\u001b[49m\n\u001b[0;32m    352\u001b[0m \u001b[43m    \u001b[49m\u001b[38;5;28;43;01mNone\u001b[39;49;00m\u001b[43m,\u001b[49m\n\u001b[0;32m    353\u001b[0m \u001b[43m    \u001b[49m\u001b[43mmessage_clsname\u001b[49m\u001b[38;5;241;43m=\u001b[39;49m\u001b[38;5;124;43m\"\u001b[39;49m\u001b[38;5;124;43mPipeline\u001b[39;49m\u001b[38;5;124;43m\"\u001b[39;49m\u001b[43m,\u001b[49m\n\u001b[0;32m    354\u001b[0m \u001b[43m    \u001b[49m\u001b[43mmessage\u001b[49m\u001b[38;5;241;43m=\u001b[39;49m\u001b[38;5;28;43mself\u001b[39;49m\u001b[38;5;241;43m.\u001b[39;49m\u001b[43m_log_message\u001b[49m\u001b[43m(\u001b[49m\u001b[43mstep_idx\u001b[49m\u001b[43m)\u001b[49m\u001b[43m,\u001b[49m\n\u001b[0;32m    355\u001b[0m \u001b[43m    \u001b[49m\u001b[38;5;241;43m*\u001b[39;49m\u001b[38;5;241;43m*\u001b[39;49m\u001b[43mfit_params_steps\u001b[49m\u001b[43m[\u001b[49m\u001b[43mname\u001b[49m\u001b[43m]\u001b[49m\u001b[43m,\u001b[49m\n\u001b[0;32m    356\u001b[0m \u001b[43m\u001b[49m\u001b[43m)\u001b[49m\n\u001b[0;32m    357\u001b[0m \u001b[38;5;66;03m# Replace the transformer of the step with the fitted\u001b[39;00m\n\u001b[0;32m    358\u001b[0m \u001b[38;5;66;03m# transformer. This is necessary when loading the transformer\u001b[39;00m\n\u001b[0;32m    359\u001b[0m \u001b[38;5;66;03m# from the cache.\u001b[39;00m\n\u001b[0;32m    360\u001b[0m \u001b[38;5;28mself\u001b[39m\u001b[38;5;241m.\u001b[39msteps[step_idx] \u001b[38;5;241m=\u001b[39m (name, fitted_transformer)\n",
      "File \u001b[1;32m~\\anaconda3\\lib\\site-packages\\joblib\\memory.py:349\u001b[0m, in \u001b[0;36mNotMemorizedFunc.__call__\u001b[1;34m(self, *args, **kwargs)\u001b[0m\n\u001b[0;32m    348\u001b[0m \u001b[38;5;28;01mdef\u001b[39;00m \u001b[38;5;21m__call__\u001b[39m(\u001b[38;5;28mself\u001b[39m, \u001b[38;5;241m*\u001b[39margs, \u001b[38;5;241m*\u001b[39m\u001b[38;5;241m*\u001b[39mkwargs):\n\u001b[1;32m--> 349\u001b[0m     \u001b[38;5;28;01mreturn\u001b[39;00m \u001b[38;5;28;43mself\u001b[39;49m\u001b[38;5;241;43m.\u001b[39;49m\u001b[43mfunc\u001b[49m\u001b[43m(\u001b[49m\u001b[38;5;241;43m*\u001b[39;49m\u001b[43margs\u001b[49m\u001b[43m,\u001b[49m\u001b[43m \u001b[49m\u001b[38;5;241;43m*\u001b[39;49m\u001b[38;5;241;43m*\u001b[39;49m\u001b[43mkwargs\u001b[49m\u001b[43m)\u001b[49m\n",
      "File \u001b[1;32m~\\anaconda3\\lib\\site-packages\\sklearn\\pipeline.py:893\u001b[0m, in \u001b[0;36m_fit_transform_one\u001b[1;34m(transformer, X, y, weight, message_clsname, message, **fit_params)\u001b[0m\n\u001b[0;32m    891\u001b[0m \u001b[38;5;28;01mwith\u001b[39;00m _print_elapsed_time(message_clsname, message):\n\u001b[0;32m    892\u001b[0m     \u001b[38;5;28;01mif\u001b[39;00m \u001b[38;5;28mhasattr\u001b[39m(transformer, \u001b[38;5;124m\"\u001b[39m\u001b[38;5;124mfit_transform\u001b[39m\u001b[38;5;124m\"\u001b[39m):\n\u001b[1;32m--> 893\u001b[0m         res \u001b[38;5;241m=\u001b[39m \u001b[43mtransformer\u001b[49m\u001b[38;5;241;43m.\u001b[39;49m\u001b[43mfit_transform\u001b[49m\u001b[43m(\u001b[49m\u001b[43mX\u001b[49m\u001b[43m,\u001b[49m\u001b[43m \u001b[49m\u001b[43my\u001b[49m\u001b[43m,\u001b[49m\u001b[43m \u001b[49m\u001b[38;5;241;43m*\u001b[39;49m\u001b[38;5;241;43m*\u001b[39;49m\u001b[43mfit_params\u001b[49m\u001b[43m)\u001b[49m\n\u001b[0;32m    894\u001b[0m     \u001b[38;5;28;01melse\u001b[39;00m:\n\u001b[0;32m    895\u001b[0m         res \u001b[38;5;241m=\u001b[39m transformer\u001b[38;5;241m.\u001b[39mfit(X, y, \u001b[38;5;241m*\u001b[39m\u001b[38;5;241m*\u001b[39mfit_params)\u001b[38;5;241m.\u001b[39mtransform(X)\n",
      "File \u001b[1;32m~\\anaconda3\\lib\\site-packages\\sklearn\\base.py:852\u001b[0m, in \u001b[0;36mTransformerMixin.fit_transform\u001b[1;34m(self, X, y, **fit_params)\u001b[0m\n\u001b[0;32m    848\u001b[0m \u001b[38;5;66;03m# non-optimized default implementation; override when a better\u001b[39;00m\n\u001b[0;32m    849\u001b[0m \u001b[38;5;66;03m# method is possible for a given clustering algorithm\u001b[39;00m\n\u001b[0;32m    850\u001b[0m \u001b[38;5;28;01mif\u001b[39;00m y \u001b[38;5;129;01mis\u001b[39;00m \u001b[38;5;28;01mNone\u001b[39;00m:\n\u001b[0;32m    851\u001b[0m     \u001b[38;5;66;03m# fit method of arity 1 (unsupervised transformation)\u001b[39;00m\n\u001b[1;32m--> 852\u001b[0m     \u001b[38;5;28;01mreturn\u001b[39;00m \u001b[38;5;28;43mself\u001b[39;49m\u001b[38;5;241;43m.\u001b[39;49m\u001b[43mfit\u001b[49m\u001b[43m(\u001b[49m\u001b[43mX\u001b[49m\u001b[43m,\u001b[49m\u001b[43m \u001b[49m\u001b[38;5;241;43m*\u001b[39;49m\u001b[38;5;241;43m*\u001b[39;49m\u001b[43mfit_params\u001b[49m\u001b[43m)\u001b[49m\u001b[38;5;241;43m.\u001b[39;49m\u001b[43mtransform\u001b[49m\u001b[43m(\u001b[49m\u001b[43mX\u001b[49m\u001b[43m)\u001b[49m\n\u001b[0;32m    853\u001b[0m \u001b[38;5;28;01melse\u001b[39;00m:\n\u001b[0;32m    854\u001b[0m     \u001b[38;5;66;03m# fit method of arity 2 (supervised transformation)\u001b[39;00m\n\u001b[0;32m    855\u001b[0m     \u001b[38;5;28;01mreturn\u001b[39;00m \u001b[38;5;28mself\u001b[39m\u001b[38;5;241m.\u001b[39mfit(X, y, \u001b[38;5;241m*\u001b[39m\u001b[38;5;241m*\u001b[39mfit_params)\u001b[38;5;241m.\u001b[39mtransform(X)\n",
      "File \u001b[1;32m~\\Desktop\\zillow competition\\utils.py:395\u001b[0m, in \u001b[0;36mFeatureEncoderAndScaler.transform\u001b[1;34m(self, X)\u001b[0m\n\u001b[0;32m    390\u001b[0m \u001b[38;5;28;01mdef\u001b[39;00m \u001b[38;5;21mtransform\u001b[39m(\u001b[38;5;28mself\u001b[39m, X): \n\u001b[0;32m    391\u001b[0m     \u001b[38;5;66;03m# OneHotEncoder returns numpy array which is converted to dataframe\u001b[39;00m\n\u001b[0;32m    392\u001b[0m     X_np \u001b[38;5;241m=\u001b[39m \u001b[38;5;28mself\u001b[39m\u001b[38;5;241m.\u001b[39mfeature_encoder_scaler\u001b[38;5;241m.\u001b[39mtransform(X)\n\u001b[0;32m    393\u001b[0m     X \u001b[38;5;241m=\u001b[39m pd\u001b[38;5;241m.\u001b[39mDataFrame(\n\u001b[0;32m    394\u001b[0m         X_np, \n\u001b[1;32m--> 395\u001b[0m         columns\u001b[38;5;241m=\u001b[39m\u001b[38;5;28;43mself\u001b[39;49m\u001b[38;5;241;43m.\u001b[39;49m\u001b[43mfeature_encoder_scaler\u001b[49m\u001b[38;5;241;43m.\u001b[39;49m\u001b[43mget_feature_names_out\u001b[49m\u001b[43m(\u001b[49m\u001b[43m)\u001b[49m\n\u001b[0;32m    396\u001b[0m     )\n\u001b[0;32m    397\u001b[0m     X \u001b[38;5;241m=\u001b[39m \u001b[38;5;28mself\u001b[39m\u001b[38;5;241m.\u001b[39mconvert_feature_types(X)\n\u001b[0;32m    399\u001b[0m     \u001b[38;5;28;01mreturn\u001b[39;00m X\n",
      "File \u001b[1;32m~\\anaconda3\\lib\\site-packages\\sklearn\\compose\\_column_transformer.py:481\u001b[0m, in \u001b[0;36mColumnTransformer.get_feature_names_out\u001b[1;34m(self, input_features)\u001b[0m\n\u001b[0;32m    479\u001b[0m transformer_with_feature_names_out \u001b[38;5;241m=\u001b[39m []\n\u001b[0;32m    480\u001b[0m \u001b[38;5;28;01mfor\u001b[39;00m name, trans, column, _ \u001b[38;5;129;01min\u001b[39;00m \u001b[38;5;28mself\u001b[39m\u001b[38;5;241m.\u001b[39m_iter(fitted\u001b[38;5;241m=\u001b[39m\u001b[38;5;28;01mTrue\u001b[39;00m):\n\u001b[1;32m--> 481\u001b[0m     feature_names_out \u001b[38;5;241m=\u001b[39m \u001b[38;5;28;43mself\u001b[39;49m\u001b[38;5;241;43m.\u001b[39;49m\u001b[43m_get_feature_name_out_for_transformer\u001b[49m\u001b[43m(\u001b[49m\n\u001b[0;32m    482\u001b[0m \u001b[43m        \u001b[49m\u001b[43mname\u001b[49m\u001b[43m,\u001b[49m\u001b[43m \u001b[49m\u001b[43mtrans\u001b[49m\u001b[43m,\u001b[49m\u001b[43m \u001b[49m\u001b[43mcolumn\u001b[49m\u001b[43m,\u001b[49m\u001b[43m \u001b[49m\u001b[43minput_features\u001b[49m\n\u001b[0;32m    483\u001b[0m \u001b[43m    \u001b[49m\u001b[43m)\u001b[49m\n\u001b[0;32m    484\u001b[0m     \u001b[38;5;28;01mif\u001b[39;00m feature_names_out \u001b[38;5;129;01mis\u001b[39;00m \u001b[38;5;28;01mNone\u001b[39;00m:\n\u001b[0;32m    485\u001b[0m         \u001b[38;5;28;01mcontinue\u001b[39;00m\n",
      "File \u001b[1;32m~\\anaconda3\\lib\\site-packages\\sklearn\\compose\\_column_transformer.py:453\u001b[0m, in \u001b[0;36mColumnTransformer._get_feature_name_out_for_transformer\u001b[1;34m(self, name, trans, column, feature_names_in)\u001b[0m\n\u001b[0;32m    446\u001b[0m     \u001b[38;5;28;01mraise\u001b[39;00m \u001b[38;5;167;01mAttributeError\u001b[39;00m(\n\u001b[0;32m    447\u001b[0m         \u001b[38;5;124mf\u001b[39m\u001b[38;5;124m\"\u001b[39m\u001b[38;5;124mTransformer \u001b[39m\u001b[38;5;132;01m{\u001b[39;00mname\u001b[38;5;132;01m}\u001b[39;00m\u001b[38;5;124m (type \u001b[39m\u001b[38;5;132;01m{\u001b[39;00m\u001b[38;5;28mtype\u001b[39m(trans)\u001b[38;5;241m.\u001b[39m\u001b[38;5;18m__name__\u001b[39m\u001b[38;5;132;01m}\u001b[39;00m\u001b[38;5;124m) does \u001b[39m\u001b[38;5;124m\"\u001b[39m\n\u001b[0;32m    448\u001b[0m         \u001b[38;5;124m\"\u001b[39m\u001b[38;5;124mnot provide get_feature_names_out.\u001b[39m\u001b[38;5;124m\"\u001b[39m\n\u001b[0;32m    449\u001b[0m     )\n\u001b[0;32m    450\u001b[0m \u001b[38;5;28;01mif\u001b[39;00m \u001b[38;5;28misinstance\u001b[39m(column, Iterable) \u001b[38;5;129;01mand\u001b[39;00m \u001b[38;5;129;01mnot\u001b[39;00m \u001b[38;5;28mall\u001b[39m(\n\u001b[0;32m    451\u001b[0m     \u001b[38;5;28misinstance\u001b[39m(col, \u001b[38;5;28mstr\u001b[39m) \u001b[38;5;28;01mfor\u001b[39;00m col \u001b[38;5;129;01min\u001b[39;00m column\n\u001b[0;32m    452\u001b[0m ):\n\u001b[1;32m--> 453\u001b[0m     column \u001b[38;5;241m=\u001b[39m \u001b[43m_safe_indexing\u001b[49m\u001b[43m(\u001b[49m\u001b[43mfeature_names_in\u001b[49m\u001b[43m,\u001b[49m\u001b[43m \u001b[49m\u001b[43mcolumn\u001b[49m\u001b[43m)\u001b[49m\n\u001b[0;32m    454\u001b[0m \u001b[38;5;28;01mreturn\u001b[39;00m trans\u001b[38;5;241m.\u001b[39mget_feature_names_out(column)\n",
      "File \u001b[1;32m~\\anaconda3\\lib\\site-packages\\sklearn\\utils\\__init__.py:360\u001b[0m, in \u001b[0;36m_safe_indexing\u001b[1;34m(X, indices, axis)\u001b[0m\n\u001b[0;32m    357\u001b[0m indices_dtype \u001b[38;5;241m=\u001b[39m _determine_key_type(indices)\n\u001b[0;32m    359\u001b[0m \u001b[38;5;28;01mif\u001b[39;00m axis \u001b[38;5;241m==\u001b[39m \u001b[38;5;241m0\u001b[39m \u001b[38;5;129;01mand\u001b[39;00m indices_dtype \u001b[38;5;241m==\u001b[39m \u001b[38;5;124m\"\u001b[39m\u001b[38;5;124mstr\u001b[39m\u001b[38;5;124m\"\u001b[39m:\n\u001b[1;32m--> 360\u001b[0m     \u001b[38;5;28;01mraise\u001b[39;00m \u001b[38;5;167;01mValueError\u001b[39;00m(\u001b[38;5;124m\"\u001b[39m\u001b[38;5;124mString indexing is not supported with \u001b[39m\u001b[38;5;124m'\u001b[39m\u001b[38;5;124maxis=0\u001b[39m\u001b[38;5;124m'\u001b[39m\u001b[38;5;124m\"\u001b[39m)\n\u001b[0;32m    362\u001b[0m \u001b[38;5;28;01mif\u001b[39;00m axis \u001b[38;5;241m==\u001b[39m \u001b[38;5;241m1\u001b[39m \u001b[38;5;129;01mand\u001b[39;00m X\u001b[38;5;241m.\u001b[39mndim \u001b[38;5;241m!=\u001b[39m \u001b[38;5;241m2\u001b[39m:\n\u001b[0;32m    363\u001b[0m     \u001b[38;5;28;01mraise\u001b[39;00m \u001b[38;5;167;01mValueError\u001b[39;00m(\n\u001b[0;32m    364\u001b[0m         \u001b[38;5;124m\"\u001b[39m\u001b[38;5;124m'\u001b[39m\u001b[38;5;124mX\u001b[39m\u001b[38;5;124m'\u001b[39m\u001b[38;5;124m should be a 2D NumPy array, 2D sparse matrix or pandas \u001b[39m\u001b[38;5;124m\"\u001b[39m\n\u001b[0;32m    365\u001b[0m         \u001b[38;5;124m\"\u001b[39m\u001b[38;5;124mdataframe when indexing the columns (i.e. \u001b[39m\u001b[38;5;124m'\u001b[39m\u001b[38;5;124maxis=1\u001b[39m\u001b[38;5;124m'\u001b[39m\u001b[38;5;124m). \u001b[39m\u001b[38;5;124m\"\u001b[39m\n\u001b[0;32m    366\u001b[0m         \u001b[38;5;124m\"\u001b[39m\u001b[38;5;124mGot \u001b[39m\u001b[38;5;132;01m{}\u001b[39;00m\u001b[38;5;124m instead with \u001b[39m\u001b[38;5;132;01m{}\u001b[39;00m\u001b[38;5;124m dimension(s).\u001b[39m\u001b[38;5;124m\"\u001b[39m\u001b[38;5;241m.\u001b[39mformat(\u001b[38;5;28mtype\u001b[39m(X), X\u001b[38;5;241m.\u001b[39mndim)\n\u001b[0;32m    367\u001b[0m     )\n",
      "\u001b[1;31mValueError\u001b[0m: String indexing is not supported with 'axis=0'"
     ]
    }
   ],
   "source": [
    "if univariate:\n",
    "    imputation = univariate_impute_pipe\n",
    "else:\n",
    "    imputation = multivariate_impute_pipe\n",
    "lin_reg_preprocessor = Pipeline([\n",
    "        ('feature_dropper', feature_dropper),\n",
    "        ('imputation', imputation),\n",
    "        ('col_name_appender', col_name_appender),\n",
    "        ('feature_type_changer', feature_type_changer),\n",
    "        ('year_feat_creator', year_feat_creator),\n",
    "        ('feature_encoder_scaler', feature_encoder_scaler),\n",
    "        ('skew_transformer', skew_transformer),\n",
    "    ],verbose=True)\n",
    "\n",
    "data_prep_pipe = lin_reg_preprocessor.fit(X_prepared)\n",
    "X_prepared = lin_reg_preprocessor.transform(X_prepared)\n",
    "X_prepared_val = lin_reg_preprocessor.transform(X_prepared_val)"
   ]
  },
  {
   "cell_type": "code",
   "execution_count": null,
   "id": "75716706-4be8-4f4d-9292-a569efe2beda",
   "metadata": {
    "tags": []
   },
   "outputs": [],
   "source": [
    "from sklearn import set_config\n",
    "set_config(display='diagram')\n",
    "lin_reg_preprocessor"
   ]
  },
  {
   "cell_type": "code",
   "execution_count": null,
   "id": "8f066f67-70b2-46ef-9840-a5576b89fe7d",
   "metadata": {},
   "outputs": [],
   "source": [
    "X_lin = X_prepared.copy()\n",
    "X_lin_val = X_prepared_val.copy()"
   ]
  },
  {
   "cell_type": "markdown",
   "id": "161bddbc-69bc-4bc8-9dbf-12fd01a24cfa",
   "metadata": {
    "tags": []
   },
   "source": [
    "## Model Evaluation \n",
    "\n",
    "### Baseline Metrics \n",
    "\n",
    "It is important to set a baseline for the model's performance to compare different algorithms. \n",
    "\n",
    "For this regression problem, we will use the models' **MAE (Mean Absolute Error)** and **RMSE (Root Mean Squared Error)**.\n",
    "\n",
    "We will observe the RMSE as another evaluation metric which punishes more for outliers than MAE. "
   ]
  },
  {
   "cell_type": "code",
   "execution_count": null,
   "id": "778c2e5e-c9a1-4e1b-800c-62c9ca4ef727",
   "metadata": {
    "tags": []
   },
   "outputs": [],
   "source": [
    "from sklearn.linear_model import LinearRegression, Ridge, Lasso, ElasticNet\n",
    "from sklearn.linear_model import RidgeCV, LassoCV, ElasticNetCV\n",
    "from sklearn.model_selection import cross_val_score\n",
    "from sklearn.metrics import mean_squared_error, mean_absolute_error, make_scorer"
   ]
  },
  {
   "cell_type": "code",
   "execution_count": null,
   "id": "637180ca-bbf7-4840-9f38-9872464f9170",
   "metadata": {},
   "outputs": [],
   "source": [
    "print(f\"MAE Baseline: {y_train.mad()}\")\n",
    "print(f\"RMSE Baseline: {y_train.std()}\")"
   ]
  },
  {
   "cell_type": "markdown",
   "id": "43241617-3a65-4cdf-84b4-fec38d9dbe14",
   "metadata": {},
   "source": [
    "### MAE Evaluation \n",
    "\n",
    "To evaluate and short list the most promising models, we will use the models' **MAE** in two different ways: \n",
    "\n",
    "1) **MAE on Validation Set**\n",
    "2) **K-Fold Cross-Validation**\n",
    "\n"
   ]
  },
  {
   "cell_type": "code",
   "execution_count": null,
   "id": "c202c0e1-5dca-49c8-b7b9-c3e61adb4c39",
   "metadata": {},
   "outputs": [],
   "source": [
    "def get_eval_metrics(models, X, y_true): \n",
    "    \"\"\"\n",
    "    Calculates MAE (Mean Absoulate Error) and RMSE (Root Mean Squared Error) on the data set for input models. \n",
    "    `models`: list of fit models \n",
    "    \"\"\"\n",
    "    for model in models: \n",
    "        y_pred= model.predict(X)\n",
    "        rmse = mean_squared_error(y_true, y_pred, squared=False)\n",
    "        mae = mean_absolute_error(y_true, y_pred)\n",
    "        print(f\"Model: {model}\")\n",
    "        print(f\"MAE: {mae}, RMSE: {rmse}\")\n",
    "        return mae\n",
    "\n",
    "def display_scores(model, scores):\n",
    "    print(\"-\"*50)\n",
    "    print(\"Model:\", model)\n",
    "    print(\"\\nScores:\", scores)\n",
    "    print(\"\\nMean:\", scores.mean())\n",
    "    print(\"\\nStandard deviation:\", scores.std())\n",
    "    \n",
    "def get_cross_val_scores(models, X, y, cv=10, fit_params=None):\n",
    "    \"\"\"\n",
    "    Performs k-fold cross validation and calculates MAE for each fold for all input models. \n",
    "    `models`: list of fit models \n",
    "    \"\"\"    \n",
    "    maes = []\n",
    "    for model in models: \n",
    "        mae = -cross_val_score(model, X, y, scoring=\"neg_mean_absolute_error\", cv=cv, fit_params=fit_params)\n",
    "        display_scores(model, mae) \n",
    "        maes.append(mae)\n",
    "    return maes"
   ]
  },
  {
   "cell_type": "code",
   "execution_count": null,
   "id": "afa42cdf-0d74-488c-991d-8e827fb04ab8",
   "metadata": {},
   "outputs": [],
   "source": [
    "%%time\n",
    "lin_reg = LinearRegression()\n",
    "lin_reg.fit(X_lin[:100], y_train[:100])\n",
    "\n",
    "utils.get_eval_metrics([lin_reg], X_lin_val, y_val)\n",
    "utils.get_cross_val_scores([lin_reg], X_lin, y_train, cv=5)"
   ]
  },
  {
   "cell_type": "code",
   "execution_count": null,
   "id": "bea8723e-8cf2-4228-8fc5-1ac5a12c0804",
   "metadata": {},
   "outputs": [],
   "source": [
    "result = utils.get_eval_metrics([lin_reg], X_lin_val, y_val)\n",
    "results['lin_reg'] = result"
   ]
  },
  {
   "cell_type": "code",
   "execution_count": null,
   "id": "50e36a8c-02eb-489b-abda-c2d3dd75fb44",
   "metadata": {},
   "outputs": [],
   "source": [
    "y_train_prediction = lin_reg.predict(X_lin)\n",
    "y_val_prediction = lin_reg.predict(X_lin_val)\n",
    "\n",
    "# Plot residuals\n",
    "plt.scatter(y_train_prediction, y_train_prediction - y_train, c = \"blue\", marker = \"s\", label = \"Training data\")\n",
    "plt.scatter(y_val_prediction, y_val_prediction - y_val, c = \"lightgreen\", marker = \"s\", label = \"Validation data\")\n",
    "plt.title(\"Linear regression without regularization\")\n",
    "plt.xlabel(\"Predicted values\")\n",
    "plt.ylabel(\"Residuals\")\n",
    "plt.legend(loc = \"upper left\")\n",
    "plt.show()\n",
    "\n",
    "# Plot predictions\n",
    "plt.scatter(y_train_prediction, y_train, c = \"blue\", marker = \"s\", label = \"Training data\")\n",
    "plt.scatter(y_val_prediction, y_val, c = \"lightgreen\", marker = \"s\", label = \"Validation data\")\n",
    "plt.title(\"Linear regression without regularization\")\n",
    "plt.xlabel(\"Predicted values\")\n",
    "plt.ylabel(\"Real values\")\n",
    "plt.legend(loc = \"upper left\")\n",
    "plt.show()\n",
    "\n",
    "# Plot important coefficients\n",
    "coefs = pd.Series(lin_reg.coef_, index = X_lin.columns)\n",
    "print(\"Linear Regression picked \" + str(sum(coefs != 0)) + \" features and eliminated the other \" +  \\\n",
    "      str(sum(coefs == 0)) + \" features\")\n",
    "imp_coefs = pd.concat([coefs.sort_values().head(10),\n",
    "                     coefs.sort_values().tail(10)])\n",
    "imp_coefs.plot(kind = \"barh\")\n",
    "plt.title(\"Coefficients in the Linear Regression Model\")\n",
    "plt.show()"
   ]
  },
  {
   "cell_type": "markdown",
   "id": "d4452bdb-d495-4060-9781-7512f05ca904",
   "metadata": {},
   "source": [
    "### Learning Curves \n",
    "\n",
    "To detect where the model is under or overfitting, we can look at the *learning curves*."
   ]
  },
  {
   "cell_type": "code",
   "execution_count": null,
   "id": "92c4b7a7-b558-4285-b254-3a49d9b497d8",
   "metadata": {},
   "outputs": [],
   "source": [
    "from sklearn.metrics import mean_squared_error\n",
    "from sklearn.model_selection import train_test_split\n",
    "\n",
    "def plot_learning_curves(model, X_train, y_train, X_val, y_val):\n",
    "    \"\"\"\n",
    "    Train the input model on different sized subsets and test on validation set. \n",
    "    Output a plot of training and validation error for the different sized subsets. \n",
    "    \"\"\"\n",
    "    train_errors, val_errors = [], []\n",
    "    num_instances = np.linspace(1, len(X_train), num=15).astype(int)\n",
    "    \n",
    "    for m in num_instances:\n",
    "        model.fit(X_train[:m], y_train[:m])\n",
    "        y_train_predict = model.predict(X_train[:m])\n",
    "        y_val_predict = model.predict(X_val)\n",
    "        train_errors.append(mean_absolute_error(y_train[:m], y_train_predict))\n",
    "        val_errors.append(mean_absolute_error(y_val, y_val_predict))\n",
    "    plt.plot(num_instances, train_errors, \"r-+\", linewidth=2, label=\"train\")\n",
    "    plt.plot(num_instances, val_errors, \"b-\", linewidth=3, label=\"val\")\n",
    "    plt.legend(loc='best')\n",
    "    plt.title(model)\n",
    "    return plt"
   ]
  },
  {
   "cell_type": "code",
   "execution_count": null,
   "id": "8377bb2d-be9c-4a69-a3cd-59d8cd7cac9c",
   "metadata": {},
   "outputs": [],
   "source": [
    "lin_reg = LinearRegression()\n",
    "plt = plot_learning_curves(lin_reg, X_prepared, y_train, X_prepared_val, y_val)\n",
    "plt.ylim(0, 0.25) \n",
    "plt.show()"
   ]
  },
  {
   "cell_type": "markdown",
   "id": "4832af94-3f77-4adf-9e95-8a02292bb3f5",
   "metadata": {
    "tags": []
   },
   "source": [
    "### Learning Curve Conclusion for Linear Regression \n",
    "\n",
    "- The model is not overfitting as the MAE error observed for both the validation and training sets is extremely close (errors would be different between `train` and `val` datasets if the model were overfitting with the `train` dataset, thus showing lower MAE values.  "
   ]
  },
  {
   "cell_type": "markdown",
   "id": "b382bb60-244e-4653-9340-9d40bbf2377b",
   "metadata": {
    "tags": []
   },
   "source": [
    "## 1b) Ridge and Lasso Regression \n",
    "\n",
    "Since the Ridge and Lasso models' performance is highly affected by the chosen `alpha` value, we need to tune its value to find the optimal `alpha` for the given problem. \n",
    "\n",
    "**NOTE**: **In this case, any of the Regularized Linear Models will NOT perform any better than the Simple Linear Regression. Regularized models help reduce overfitting and we have already established that our current Linear Model is underfitting.**"
   ]
  },
  {
   "cell_type": "code",
   "execution_count": null,
   "id": "a3eb3fd0-0dd2-4b14-a00e-af060fca2340",
   "metadata": {},
   "outputs": [],
   "source": [
    "%%time\n",
    "\n",
    "# Set of alpha values to test\n",
    "alphas = np.logspace(0,2,20)\n",
    "print(f\"Testing with alphas={alphas}\")\n",
    "\n",
    "\n",
    "# Tune Ridge Regression\n",
    "ridgecv = RidgeCV(alphas=alphas)\n",
    "ridgecv.fit(X_prepared, y_train)\n",
    "print(f\"Best Ridge Alpha: {ridgecv.alpha_}\")"
   ]
  },
  {
   "cell_type": "code",
   "execution_count": null,
   "id": "f32a804d-e590-4b17-bced-f07218538c94",
   "metadata": {},
   "outputs": [],
   "source": [
    "%%time\n",
    "\n",
    "# Set of alpha values to test\n",
    "alphas = np.logspace(1,5,20)\n",
    "print(f\"Testing with alphas={alphas}\")\n",
    "\n",
    "\n",
    "# Tune Lasso Regression\n",
    "lassocv = LassoCV(alphas=alphas)\n",
    "lassocv.fit(X_prepared, y_train)\n",
    "print(f\"Best Lasso Alpha: {lassocv.alpha_}\")"
   ]
  },
  {
   "cell_type": "code",
   "execution_count": null,
   "id": "63fc4fef-6bef-4613-90e6-97c9b2874fb8",
   "metadata": {},
   "outputs": [],
   "source": [
    "%%time \n",
    "# Fit using optimal alpha\n",
    "ridge = Ridge(alpha=ridgecv.alpha_)\n",
    "ridge.fit(X_lin, y_train)\n",
    "\n",
    "lasso = Lasso(alpha=lassocv.alpha_)\n",
    "lasso.fit(X_lin, y_train)\n",
    "\n",
    "# utils.get_eval_metrics([ridge, lasso], X_lin_val, y_val)\n",
    "utils.get_cross_val_scores([ridge, lasso], X_lin, y_train, cv=5)"
   ]
  },
  {
   "cell_type": "code",
   "execution_count": null,
   "id": "e7e49baf-f4b3-4109-bb9e-6c6e777a1c94",
   "metadata": {
    "tags": []
   },
   "outputs": [],
   "source": [
    "# Learning Curves for Ridge and Lasso\n",
    "ridge = Ridge(alpha=ridgecv.alpha_)\n",
    "plt = plot_learning_curves(ridge, X_lin, y_train, X_lin_val, y_val)\n",
    "plt.show()\n",
    "\n",
    "lasso = Lasso(alpha=lassocv.alpha_)\n",
    "plt = plot_learning_curves(lasso, X_lin, y_train, X_lin_val, y_val)\n",
    "plt.show()"
   ]
  },
  {
   "cell_type": "markdown",
   "id": "2b530e3f-6677-4951-bd6d-dbb2cc714e76",
   "metadata": {},
   "source": [
    "**As expected, even the regularized Linear Models do not perform any better. Thus, we need to consider more complex algorithms which make fewer assumptions to try and understand the relationship between the features and target variable.** "
   ]
  },
  {
   "cell_type": "code",
   "execution_count": null,
   "id": "cd09edaa-8ca7-486a-9144-21da0fa1fb39",
   "metadata": {},
   "outputs": [],
   "source": [
    "result = utils.get_eval_metrics([ridge], X_lin_val, y_val)\n",
    "results['ridge'] = result\n",
    "result = utils.get_eval_metrics([lasso], X_lin_val, y_val)\n",
    "results['lasso'] = result"
   ]
  },
  {
   "cell_type": "code",
   "execution_count": null,
   "id": "9ecb4c2e-450d-4414-965c-0f659142841c",
   "metadata": {},
   "outputs": [],
   "source": [
    "from sklearn.decomposition import PCA"
   ]
  },
  {
   "cell_type": "code",
   "execution_count": null,
   "id": "61f0a8cd-0afb-47c5-87fc-5b2c994dc55b",
   "metadata": {},
   "outputs": [],
   "source": [
    "pca = PCA(n_components=1)\n",
    "pca.fit(X_lin)"
   ]
  },
  {
   "cell_type": "code",
   "execution_count": null,
   "id": "9db002e4-05aa-4a78-b1fc-3d9cca7f7b32",
   "metadata": {},
   "outputs": [],
   "source": [
    "X_lin_pca = pca.transform(X_lin)\n",
    "X_lin_val_pca = pca.transform(X_lin_val)"
   ]
  },
  {
   "cell_type": "code",
   "execution_count": null,
   "id": "1ba2ecdb-8fd1-4fd9-9689-85b6671587d3",
   "metadata": {},
   "outputs": [],
   "source": [
    "%%time\n",
    "lin_reg = LinearRegression()\n",
    "lin_reg.fit(X_lin_pca, y_train)\n",
    "\n",
    "utils.get_eval_metrics([lin_reg], X_lin_val_pca, y_val)\n",
    "utils.get_cross_val_scores([lin_reg], X_lin_pca, y_train, cv=5)"
   ]
  },
  {
   "cell_type": "code",
   "execution_count": null,
   "id": "a97fe4f6-3e9e-4c76-8bba-b1824b966102",
   "metadata": {},
   "outputs": [],
   "source": [
    "import numpy as np\n",
    "import tensorflow as tf\n",
    "from tensorflow import keras\n",
    "from tensorflow.keras import layers\n",
    "import tensorflow_probability as tfp\n",
    "tfk = tf.keras\n",
    "tfkl = tf.keras.layers"
   ]
  },
  {
   "cell_type": "code",
   "execution_count": null,
   "id": "af32d4c6-cf0e-4263-a80a-af51ddf3d3f2",
   "metadata": {},
   "outputs": [],
   "source": [
    "import random \n",
    "# Random seed for reproducibility\n",
    "seed = 42\n",
    "\n",
    "random.seed(seed)\n",
    "os.environ['PYTHONHASHSEED'] = str(seed)\n",
    "np.random.seed(seed)\n",
    "tf.random.set_seed(seed)\n",
    "tf.compat.v1.set_random_seed(seed)"
   ]
  },
  {
   "cell_type": "code",
   "execution_count": null,
   "id": "cb0f1d78-ce68-4677-9dd3-c6c21961a484",
   "metadata": {},
   "outputs": [],
   "source": [
    "input_shape = X_lin.shape[1:]"
   ]
  },
  {
   "cell_type": "code",
   "execution_count": null,
   "id": "2607f1d8-18e5-4a96-882c-6289a700bafb",
   "metadata": {},
   "outputs": [],
   "source": [
    "def build_ffnn(input_shape):\n",
    "\n",
    "    # Build the neural network layer by layer\n",
    "    input_layer = tfkl.Input(shape=input_shape, name='Input')\n",
    "    hidden_layer1 = tfkl.Dense(units=64, activation='relu', name='Hidden1',kernel_initializer=tfk.initializers.GlorotUniform(seed=seed), \n",
    "                               kernel_regularizer=tf.keras.regularizers.l2(2e-6))(input_layer)\n",
    "    hidden_layer2 = tfkl.Dense(units=128, activation='relu', name='Hidden2',kernel_initializer=tfk.initializers.GlorotUniform(seed=seed), \n",
    "                               kernel_regularizer=tf.keras.regularizers.l2(2e-6))(hidden_layer1)\n",
    "    hidden_layer3 = tfkl.Dense(units=128, activation='relu', name='Hidden3',kernel_initializer=tfk.initializers.GlorotUniform(seed=seed), \n",
    "                               kernel_regularizer=tf.keras.regularizers.l2(2e-6))(hidden_layer2)\n",
    "    output_layer = tfkl.Dense(units=1, activation='linear', name='Output')(hidden_layer3)\n",
    "\n",
    "    # Connect input and output through the Model class\n",
    "    model = tfk.Model(inputs=input_layer, outputs=output_layer, name='FFNN')\n",
    "\n",
    "    # Compile the model\n",
    "    loss = tfk.losses.MeanSquaredError()\n",
    "    learning_rate = 0.2\n",
    "    optimizer = tfk.optimizers.Adam(learning_rate)\n",
    "    model.compile(loss=loss, optimizer=optimizer)\n",
    "\n",
    "    # Return the model\n",
    "    return model"
   ]
  },
  {
   "cell_type": "code",
   "execution_count": null,
   "id": "348f522e-cd19-40d3-bcde-f82ef36db0bf",
   "metadata": {},
   "outputs": [],
   "source": [
    "ffnn = build_ffnn(input_shape)\n",
    "ffnn.summary()\n",
    "tfk.utils.plot_model(ffnn)"
   ]
  },
  {
   "cell_type": "code",
   "execution_count": null,
   "id": "0a3f839c-9e49-4f89-82ce-2cd061463ba6",
   "metadata": {},
   "outputs": [],
   "source": [
    "batch_size = 512\n",
    "epochs = 5000"
   ]
  },
  {
   "cell_type": "code",
   "execution_count": null,
   "id": "c583d3bd-2870-45a2-a36c-c0dc9c2fa31c",
   "metadata": {},
   "outputs": [],
   "source": [
    "y_train.shape"
   ]
  },
  {
   "cell_type": "code",
   "execution_count": null,
   "id": "6cb3fbf7-8835-48de-9a94-89683680897c",
   "metadata": {},
   "outputs": [],
   "source": [
    "X_nn = np.asarray(X_lin).astype('float32')\n",
    "y_train_nn = np.asarray(y_train).astype('float32')\n",
    "X_nn_val = np.asarray(X_lin_val).astype('float32')\n",
    "y_val_nn = np.asarray(y_val).astype('float32')"
   ]
  },
  {
   "cell_type": "code",
   "execution_count": null,
   "id": "429ada93-8407-4bb6-93d5-0aa8e96f25ca",
   "metadata": {},
   "outputs": [],
   "source": [
    "max_df = X_nn.max()\n",
    "min_df = X_nn.min()\n",
    "max_t = y_train_nn.max()\n",
    "min_t = y_train_nn.min()\n",
    "\n",
    "X_nn = (X_nn - min_df)/(max_df - min_df)\n",
    "y_train_nn = (y_train_nn - min_t)/(max_t - min_t)\n",
    "\n",
    "max_df = X_nn_val.max()\n",
    "min_df = X_nn_val.min()\n",
    "max_t = y_val_nn.max()\n",
    "min_t = y_val_nn.min()\n",
    "\n",
    "X_nn_val = (X_nn_val - min_df)/(max_df - min_df)\n",
    "y_val_nn = (y_val_nn - min_t)/(max_t - min_t)\n"
   ]
  },
  {
   "cell_type": "code",
   "execution_count": null,
   "id": "58de3d8e-01a8-44af-b111-ed3d43368236",
   "metadata": {},
   "outputs": [],
   "source": [
    "patience = 150\n",
    "early_stopping = tfk.callbacks.EarlyStopping(monitor='val_loss', mode='min', patience=patience, restore_best_weights=True)"
   ]
  },
  {
   "cell_type": "code",
   "execution_count": null,
   "id": "8445fa7e-b7c4-4c42-8563-e63bbd8ee5af",
   "metadata": {},
   "outputs": [],
   "source": [
    "model = ffnn.fit(\n",
    "    x = X_nn,\n",
    "    y = y_train_nn, \n",
    "    batch_size = batch_size,\n",
    "    validation_data=(X_nn_val, y_val_nn),\n",
    "    callbacks=[early_stopping],\n",
    "    epochs = 5000\n",
    ")\n",
    "history = model.history"
   ]
  },
  {
   "cell_type": "code",
   "execution_count": null,
   "id": "8bf53226-ed85-46c9-bf5d-9b2032d2f29e",
   "metadata": {},
   "outputs": [],
   "source": [
    "X_nn_test = lin_reg_preprocessor.transform(X_test)\n",
    "\n",
    "X_nn_test = np.asarray(X_nn_test).astype('float32')\n",
    "y_test_nn = np.asarray(y_test).astype('float32')"
   ]
  },
  {
   "cell_type": "code",
   "execution_count": null,
   "id": "41070c50-1cde-466b-bcad-669428b7baf9",
   "metadata": {},
   "outputs": [],
   "source": [
    "max_df = X_nn_test.max()\n",
    "min_df = X_nn_test.min()\n",
    "max_t = y_test_nn.max()\n",
    "min_t = y_test_nn.min()\n",
    "\n",
    "X_nn_test = (X_nn_test - min_df)/(max_df - min_df)\n",
    "y_test_nn = (y_test_nn - min_t)/(max_t - min_t)"
   ]
  },
  {
   "cell_type": "code",
   "execution_count": null,
   "id": "3e9eb4da-a150-4abd-9c5e-bdaa5e33ae00",
   "metadata": {},
   "outputs": [],
   "source": [
    "score = ffnn.evaluate(X_nn_test, y_test_nn)\n",
    "score"
   ]
  },
  {
   "cell_type": "markdown",
   "id": "fe637f78-9dd2-466a-8f5d-41c2995c4a45",
   "metadata": {
    "tags": []
   },
   "source": [
    "### Bayesian neural network"
   ]
  },
  {
   "cell_type": "code",
   "execution_count": null,
   "id": "6889ac95-58de-49ec-8576-9b9ae4b882bd",
   "metadata": {},
   "outputs": [],
   "source": [
    "# Define the prior weight distribution as Normal of mean=0 and stddev=1.\n",
    "# Note that, in this example, the we prior distribution is not trainable,\n",
    "# as we fix its parameters.\n",
    "def prior(kernel_size, bias_size, dtype=None):\n",
    "    n = kernel_size + bias_size\n",
    "    prior_model = keras.Sequential(\n",
    "        [\n",
    "            tfp.layers.DistributionLambda(\n",
    "                lambda t: tfp.distributions.MultivariateNormalDiag(\n",
    "                    loc=tf.zeros(n), scale_diag=tf.ones(n)\n",
    "                )\n",
    "            )\n",
    "        ]\n",
    "    )\n",
    "    return prior_model\n",
    "\n",
    "\n",
    "# Define variational posterior weight distribution as multivariate Gaussian.\n",
    "# Note that the learnable parameters for this distribution are the means,\n",
    "# variances, and covariances.\n",
    "def posterior(kernel_size, bias_size, dtype=None):\n",
    "    n = kernel_size + bias_size\n",
    "    posterior_model = keras.Sequential(\n",
    "        [\n",
    "            tfp.layers.VariableLayer(\n",
    "                tfp.layers.MultivariateNormalTriL.params_size(n), dtype=dtype\n",
    "            ),\n",
    "            tfp.layers.MultivariateNormalTriL(n),\n",
    "        ]\n",
    "    )\n",
    "    return posterior_model"
   ]
  },
  {
   "cell_type": "code",
   "execution_count": null,
   "id": "673f5a39-0045-4928-aec3-bc5bd7ab5fcb",
   "metadata": {},
   "outputs": [],
   "source": [
    "hidden_units = [16,16]"
   ]
  },
  {
   "cell_type": "code",
   "execution_count": null,
   "id": "0d096dcd-1606-4125-b300-5de4a15082a6",
   "metadata": {},
   "outputs": [],
   "source": [
    "def build_bnn(input_shape):\n",
    "\n",
    "    # Build the neural network layer by layer\n",
    "    input_layer = tfkl.Input(shape=input_shape, name='Input')\n",
    "    features = layers.BatchNormalization()(input_layer)\n",
    "    \n",
    "    # Create hidden layers with weight uncertainty using the DenseVariational layer.\n",
    "    for units in hidden_units:\n",
    "        features = tfp.layers.DenseVariational(\n",
    "            units=units,\n",
    "            make_prior_fn=prior,\n",
    "            make_posterior_fn=posterior,\n",
    "            kl_weight=1 / train_size,\n",
    "            activation=\"sigmoid\",\n",
    "        )(features)\n",
    "    \n",
    "    \n",
    "    output_layer = tfkl.Dense(units=1, activation='linear', name='Output')(features)\n",
    "\n",
    "    # Connect input and output through the Model class\n",
    "    model = tfk.Model(inputs=input_layer, outputs=output_layer, name='BNN')\n",
    "\n",
    "    # Compile the model\n",
    "    loss = tfk.losses.MeanSquaredError()\n",
    "    learning_rate = 0.2\n",
    "    optimizer = tfk.optimizers.Adam(learning_rate)\n",
    "    model.compile(loss=loss, optimizer=optimizer)\n",
    "\n",
    "    # Return the model\n",
    "    return model"
   ]
  },
  {
   "cell_type": "code",
   "execution_count": null,
   "id": "6a534d09-4291-48b6-bd3c-65a7be5e8dd8",
   "metadata": {},
   "outputs": [],
   "source": [
    "bnn = build_bnn(input_shape)\n",
    "bnn.summary()\n",
    "tfk.utils.plot_model(bnn)"
   ]
  },
  {
   "cell_type": "code",
   "execution_count": null,
   "id": "8595b724-5599-4ee4-85a7-aec78454d39b",
   "metadata": {},
   "outputs": [],
   "source": [
    "model = bnn.fit(\n",
    "    x = X_nn,\n",
    "    y = y_train_nn, \n",
    "    batch_size = batch_size,\n",
    "    validation_data=(X_nn_val, y_val_nn),\n",
    "    callbacks=[early_stopping],\n",
    "    epochs = 5000\n",
    ")\n",
    "history = model.history"
   ]
  },
  {
   "cell_type": "code",
   "execution_count": null,
   "id": "5e933210-a43d-48f7-9059-6ffa644bfc79",
   "metadata": {},
   "outputs": [],
   "source": [
    "def compute_predictions(model, X_nn_val,y_val_nn,iterations=100):\n",
    "    predicted = []\n",
    "    for _ in range(iterations):\n",
    "        predicted.append(model(X_nn_val).numpy())\n",
    "    predicted = np.concatenate(predicted, axis=1)\n",
    "\n",
    "    prediction_mean = np.mean(predicted, axis=1).tolist()\n",
    "    prediction_min = np.min(predicted, axis=1).tolist()\n",
    "    prediction_max = np.max(predicted, axis=1).tolist()\n",
    "    prediction_range = (np.max(predicted, axis=1) - np.min(predicted, axis=1)).tolist()\n",
    "\n",
    "    for idx in range(10):\n",
    "        print(\n",
    "            f\"Predictions mean: {round(prediction_mean[idx], 2)}, \"\n",
    "            f\"min: {round(prediction_min[idx], 2)}, \"\n",
    "            f\"max: {round(prediction_max[idx], 2)}, \"\n",
    "            f\"range: {round(prediction_range[idx], 2)} - \"\n",
    "            f\"Actual: {y_val_nn[idx]}\"\n",
    "        )\n",
    "\n",
    "\n",
    "compute_predictions(bnn,X_nn_val,y_val_nn)"
   ]
  },
  {
   "cell_type": "markdown",
   "id": "8e585f62-5262-4fdf-bcf4-9dd4c87cf95d",
   "metadata": {},
   "source": [
    "### Probabilistic Bayesian Neural Network"
   ]
  },
  {
   "cell_type": "code",
   "execution_count": null,
   "id": "965a7eb1-64fd-432b-ac68-8b260ade85c5",
   "metadata": {},
   "outputs": [],
   "source": [
    "def build_probabilistic_bnn(input_shape):\n",
    "\n",
    "    # Build the neural network layer by layer\n",
    "    input_layer = tfkl.Input(shape=input_shape, name='Input')\n",
    "    features = layers.BatchNormalization()(input_layer)\n",
    "    \n",
    "    # Create hidden layers with weight uncertainty using the DenseVariational layer.\n",
    "    for units in hidden_units:\n",
    "        features = tfp.layers.DenseVariational(\n",
    "            units=units,\n",
    "            make_prior_fn=prior,\n",
    "            make_posterior_fn=posterior,\n",
    "            kl_weight=1 / train_size,\n",
    "            activation=\"sigmoid\",\n",
    "        )(features)\n",
    "    \n",
    "    \n",
    "    distribution_params = layers.Dense(units=2)(features)\n",
    "    output_layer = tfp.layers.IndependentNormal(1)(distribution_params)\n",
    "    # Connect input and output through the Model class\n",
    "    model = tfk.Model(inputs=input_layer, outputs=output_layer, name='Prob_BNN')\n",
    "\n",
    "    # Compile the model\n",
    "    loss = tfk.losses.MeanSquaredError()\n",
    "    learning_rate = 0.2\n",
    "    optimizer = tfk.optimizers.Adam(learning_rate)\n",
    "    model.compile(loss=loss, optimizer=optimizer)\n",
    "\n",
    "    # Return the model\n",
    "    return model"
   ]
  },
  {
   "cell_type": "code",
   "execution_count": null,
   "id": "cc530336-dcff-4e63-9289-7f627ddb7874",
   "metadata": {},
   "outputs": [],
   "source": [
    "pbnn = build_probabilistic_bnn(input_shape)\n",
    "pbnn.summary()\n",
    "tfk.utils.plot_model(pbnn)"
   ]
  },
  {
   "cell_type": "code",
   "execution_count": null,
   "id": "bfd15cc2-f9c6-451f-9459-affb97718b05",
   "metadata": {},
   "outputs": [],
   "source": [
    "model = bnn.fit(\n",
    "    x = X_nn,\n",
    "    y = y_train_nn, \n",
    "    batch_size = batch_size,\n",
    "    validation_data=(X_nn_val, y_val_nn),\n",
    "    callbacks=[early_stopping],\n",
    "    epochs = 5000\n",
    ")\n",
    "history = model.history"
   ]
  },
  {
   "cell_type": "code",
   "execution_count": null,
   "id": "bb938010-8fcc-4965-8d8c-9968582701e0",
   "metadata": {},
   "outputs": [],
   "source": [
    "prediction_distribution = pbnn(X_nn_val)\n",
    "prediction_mean = prediction_distribution.mean().numpy().tolist()\n",
    "prediction_stdv = prediction_distribution.stddev().numpy()\n",
    "\n",
    "# The 95% CI is computed as mean ± (1.96 * stdv)\n",
    "upper = (prediction_mean + (1.96 * prediction_stdv)).tolist()\n",
    "lower = (prediction_mean - (1.96 * prediction_stdv)).tolist()\n",
    "prediction_stdv = prediction_stdv.tolist()\n",
    "\n",
    "for idx in range(10):\n",
    "    print(\n",
    "        f\"Prediction mean: {round(prediction_mean[idx][0], 2)}, \"\n",
    "        f\"stddev: {round(prediction_stdv[idx][0], 2)}, \"\n",
    "        f\"95% CI: [{round(upper[idx][0], 2)} - {round(lower[idx][0], 2)}]\"\n",
    "        f\" - Actual: {y_val_nn[idx]}\"\n",
    "    )"
   ]
  },
  {
   "cell_type": "code",
   "execution_count": null,
   "id": "8d81cda1-6239-4542-bee2-7150ce4026b5",
   "metadata": {},
   "outputs": [],
   "source": []
  },
  {
   "cell_type": "code",
   "execution_count": null,
   "id": "58150eb8-469d-4360-a4e6-9f07cdea4aec",
   "metadata": {},
   "outputs": [],
   "source": []
  },
  {
   "cell_type": "code",
   "execution_count": null,
   "id": "435b5ff3-36cc-4139-b835-e07b3f3d6929",
   "metadata": {},
   "outputs": [],
   "source": []
  },
  {
   "cell_type": "code",
   "execution_count": null,
   "id": "dc8728c4-2a31-45e4-8faf-74fabbc6dd24",
   "metadata": {},
   "outputs": [],
   "source": []
  },
  {
   "cell_type": "code",
   "execution_count": null,
   "id": "9c80e0cb-cba1-4f6c-8106-d2064b2619a4",
   "metadata": {},
   "outputs": [],
   "source": [
    "from sklearn.gaussian_process import GaussianProcessClassifier\n",
    "from sklearn.gaussian_process.kernels import RBF,WhiteKernel\n",
    "\n",
    "kernel = 1.0 * RBF(length_scale=1.0, length_scale_bounds=(1e-1, 10.0))+ WhiteKernel(\n",
    "    noise_level=1, noise_level_bounds=(1e-5, 1e1))\n",
    "gpr = GaussianProcessClassifier(kernel=kernel, optimizer='fmin_l_bfgs_b', \n",
    "                               n_restarts_optimizer=20, random_state=42)\n",
    "gpr"
   ]
  },
  {
   "cell_type": "code",
   "execution_count": null,
   "id": "fe2335b9-2db8-41a4-b695-f249718c2270",
   "metadata": {},
   "outputs": [],
   "source": [
    "%%time\n",
    "gpr.fit(X_lin[0:500], y_train_c[0:500])"
   ]
  },
  {
   "cell_type": "code",
   "execution_count": null,
   "id": "34da3d2f-1e10-4b07-815e-53ec319fb983",
   "metadata": {},
   "outputs": [],
   "source": [
    "y_pred = gpr.fit(X_lin, y_train_c).predict(X_lin_val)\n",
    "print(\"Number of mislabeled points out of a total %d points : %d\" % (X_lin_val.shape[0], (y_val_c != y_pred).sum()))"
   ]
  },
  {
   "cell_type": "code",
   "execution_count": null,
   "id": "ad47817b-fc32-4ffc-a0b0-96b9cf82f0f5",
   "metadata": {},
   "outputs": [],
   "source": [
    "from sklearn.naive_bayes import GaussianNB\n",
    "gnb = GaussianNB() \n",
    "y_pred = gnb.fit(X_lin, y_train_c).predict(X_lin_val)\n",
    "print(\"Number of mislabeled points out of a total %d points : %d\" % (X_lin_val.shape[0], (y_val_c != y_pred).sum()))\n"
   ]
  },
  {
   "cell_type": "code",
   "execution_count": null,
   "id": "4e7fb479-4f33-43eb-96b8-62ea2b16926f",
   "metadata": {},
   "outputs": [],
   "source": [
    "y_val_c"
   ]
  },
  {
   "cell_type": "code",
   "execution_count": null,
   "id": "9782411d-2aac-4963-8412-204fd005d817",
   "metadata": {},
   "outputs": [],
   "source": [
    "X_lin_val"
   ]
  },
  {
   "cell_type": "markdown",
   "id": "ec037bec-717e-4a5f-9bfe-cd50d171f837",
   "metadata": {
    "tags": []
   },
   "source": [
    "# Boosting Algorithm"
   ]
  },
  {
   "cell_type": "markdown",
   "id": "fe15c700-52b1-4e32-9cc0-c721033e12d8",
   "metadata": {
    "tags": []
   },
   "source": [
    "### Missing Data\n",
    "\n",
    "One of most powerful capabilities of Gradient Boosting machines is their ability to handle missing data. They do not require data imputation and are designed to extract as much information as possible from the rows with missing data. "
   ]
  },
  {
   "cell_type": "markdown",
   "id": "0cfb146f-b854-46e9-b7c6-8148d78a484e",
   "metadata": {
    "tags": []
   },
   "source": [
    "# 6 - XGBoost  "
   ]
  },
  {
   "cell_type": "code",
   "execution_count": null,
   "id": "0f092e4c-0695-4a92-b338-1ef3db7b1a31",
   "metadata": {
    "tags": []
   },
   "outputs": [],
   "source": [
    "import xgboost as xgb\n",
    "from sklearn.model_selection import cross_val_score\n",
    "from sklearn.metrics import mean_squared_error, mean_absolute_error, make_scorer"
   ]
  },
  {
   "cell_type": "code",
   "execution_count": null,
   "id": "86ffbd05-477a-4db9-a17c-56f5e7edebc8",
   "metadata": {
    "tags": []
   },
   "outputs": [],
   "source": [
    "X_prepared = X_train.copy()\n",
    "X_prepared_val = X_val.copy()"
   ]
  },
  {
   "cell_type": "code",
   "execution_count": null,
   "id": "cec22fd0-610e-4641-a5fe-b38926e975de",
   "metadata": {
    "tags": []
   },
   "outputs": [],
   "source": [
    "# Feature Dropper Pipeline\n",
    "xgb_drop = ['parcelid']\n",
    "feature_dropper = utils.FeatureDropper(features_to_drop=xgb_drop)\n",
    "\n",
    "# Convert Year Features Pipeline\n",
    "year_feat_creator = utils.CreateYearFeatures(date_features=date_features)\n",
    "\n",
    "# Derived Features Creator\n",
    "derived_feat_creator = utils.CreateDerivedFeatures()\n",
    "\n",
    "# Date Feature Creator\n",
    "date_feat_creator = utils.CreateDateFeatures()\n",
    "\n",
    "# Feature Encoding Pipeline\n",
    "cat_vars = ['transaction_year', 'transaction_month', 'transaction_day', 'transaction_quarter', \n",
    "            'airconditioningtypeid', 'architecturalstyletypeid', 'buildingclasstypeid', 'buildingqualitytypeid', \n",
    "            'decktypeid', 'fips',  'hashottuborspa', 'heatingorsystemtypeid',  'pooltypeid10', 'pooltypeid2', \n",
    "            'pooltypeid7', 'propertycountylandusecode', 'propertylandusetypeid', 'propertyzoningdesc', \n",
    "            'rawcensustractandblock', 'regionidcity', 'regionidcounty', 'regionidneighborhood', 'regionidzip', \n",
    "            'storytypeid',  'typeconstructiontypeid', 'fireplaceflag',  'assessmentyear', \n",
    "            'taxdelinquencyflag', 'taxdelinquencyyear', 'censustractandblock', #'N-n_gar_pool_ac','N-PropType','N-HeatInd','N-ACInd'\n",
    "           ]\n",
    "feature_encoder = utils.ColumnTransformer([\n",
    "    (\"ohe_cats\", OneHotEncoder(handle_unknown='ignore'), cat_vars)\n",
    "],\n",
    "    remainder='passthrough'\n",
    ")"
   ]
  },
  {
   "cell_type": "code",
   "execution_count": null,
   "id": "f78fc6f8-d838-4b97-820a-de4f66aac313",
   "metadata": {
    "tags": []
   },
   "outputs": [],
   "source": [
    "xgb_preprocessor = Pipeline([\n",
    "    ('feature_dropper', feature_dropper),\n",
    "    ('date_feat_creator', date_feat_creator),\n",
    "    ('year_feat_creator', year_feat_creator),\n",
    "    ('feature_encoder', feature_encoder),\n",
    "])\n",
    "\n",
    "data_prep_pipe = xgb_preprocessor.fit(X_prepared)\n",
    "X_prepared = xgb_preprocessor.transform(X_prepared)\n",
    "X_prepared_val = xgb_preprocessor.transform(X_prepared_val)"
   ]
  },
  {
   "cell_type": "code",
   "execution_count": null,
   "id": "0c4b4de6-84ae-4970-b394-ad5c15a1b2ef",
   "metadata": {
    "tags": []
   },
   "outputs": [],
   "source": [
    "X_xgb = X_prepared.copy()\n",
    "X_xgb_val = X_prepared_val.copy()"
   ]
  },
  {
   "cell_type": "markdown",
   "id": "cce1e7eb-915b-4d6d-93c2-0f5e20bc40f5",
   "metadata": {},
   "source": [
    "## Tuning Parameters \n",
    "\n",
    "The most importnant parameters to tune for Gradient Boosting are: \n",
    "- `max_depth`: How deep to build the trees.  This is a very important parameter and performance may change dramatically for different values.  Larger values are more likely to overfit, smaller values more likely to underfit.  \n",
    "\n",
    "- `learning_rate`, `n_estimators`: These parameters are also very important and interact highly with one another (and with `max_depth`).  Typically, the smaller your \"step_size\" (learning_rate), the more steps you will need to take to reach maximum performance. However, unlike random forests, if you continue to build trees in boosting, you will start overfitting, and performance (measured on the test set) will get worse."
   ]
  },
  {
   "cell_type": "code",
   "execution_count": null,
   "id": "066c96f8-86f0-4381-a068-c25be876b031",
   "metadata": {},
   "outputs": [],
   "source": [
    "from sklearn.model_selection import cross_val_score, KFold\n",
    "from sklearn.metrics import mean_squared_error, mean_absolute_error, make_scorer\n",
    "import optuna\n",
    "from optuna.integration import XGBoostPruningCallback"
   ]
  },
  {
   "cell_type": "code",
   "execution_count": null,
   "id": "cb595111-99a1-49be-97a2-68dd95d5f741",
   "metadata": {},
   "outputs": [],
   "source": [
    "def objective(trial, X, y):\n",
    "    param_grid = {\n",
    "    'max_depth':trial.suggest_int('max_depth', 1, 7), \n",
    "    'colsample_bynode': trial.suggest_uniform('colsample_bynode',.3,1),\n",
    "    'subsample': trial.suggest_uniform('subsample',.3, 1),\n",
    "    'gamma':trial.suggest_uniform('gamma',.2, 5),\n",
    "    'tree_method': trial.suggest_categorical('tree_method', ['approx', 'exact']),\n",
    "    'n_estimators': trial.suggest_categorical(\"n_estimators\", [10000]),\n",
    "    'learning_rate': trial.suggest_float(\"learning_rate\", 0.01, 0.3),\n",
    "    'random_state': 42,\n",
    "    }\n",
    "    \n",
    "    cv = KFold(n_splits=5, shuffle=True, random_state=42)\n",
    "\n",
    "    cv_scores = np.empty(5)\n",
    "    for idx, (train_idx, test_idx) in enumerate(cv.split(X, y)):\n",
    "        X_train, X_test = X[train_idx], X[test_idx]\n",
    "        y_train, y_test = y[train_idx], y[test_idx]\n",
    "\n",
    "        model = xgb.XGBRegressor(**param_grid)\n",
    "        model.fit(\n",
    "            X_train,\n",
    "            y_train,\n",
    "            eval_set=[(X_test, y_test)],\n",
    "            eval_metric=\"mae\",\n",
    "            verbose=False,\n",
    "            early_stopping_rounds=25,\n",
    "            #callbacks=[\n",
    "            #    XGBoostPruningCallback(trial, \"l1\")\n",
    "            #],  \n",
    "        )\n",
    "        preds = model.predict(X_test)\n",
    "        cv_scores[idx] = mean_absolute_error(y_test, preds)\n",
    "\n",
    "    return np.mean(cv_scores)"
   ]
  },
  {
   "cell_type": "code",
   "execution_count": null,
   "id": "2c308873-1729-46b8-986d-2806fb39288b",
   "metadata": {},
   "outputs": [],
   "source": [
    "# Similar to Hyperopt - this code creates an experiment using the objective function and parameter grid above\n",
    "#study = optuna.create_study(direction=\"minimize\", study_name=\"XGB Regressor\")\n",
    "#func = lambda trial: objective(trial, X_xgb, y_train.to_numpy())\n",
    "#study.optimize(func, n_trials=10000)"
   ]
  },
  {
   "cell_type": "code",
   "execution_count": null,
   "id": "b55e48e9-3ebd-4f7a-86f6-d89b7c4abf90",
   "metadata": {},
   "outputs": [],
   "source": [
    "#print(f\"\\tBest value (mae): {study.best_value:.5f}\")\n",
    "#print(f\"\\tBest params:\")\n",
    "\n",
    "#for key, value in study.best_params.items():\n",
    "    #print(f\"\\t\\t{key}: {value}\")"
   ]
  },
  {
   "cell_type": "markdown",
   "id": "fdf0c55f-93b1-461b-bf5d-0f3ba5830dde",
   "metadata": {},
   "source": [
    "### Best Params Model \n",
    "\n",
    "Based on the 1200 ``optuna`` trials, the following hyperparameter values had the best loss: \n",
    "```\n",
    "{'learning_rate': 0.2,\n",
    " 'n_estimators': 10000,\n",
    " 'random_state': 42,\n",
    " 'colsample_bynode': 0.382,\n",
    " 'gamma': 0.201,\n",
    " 'max_depth': 5,\n",
    " 'subsample': 0.95,\n",
    " 'tree_method': 'exact'}\n",
    "``` "
   ]
  },
  {
   "cell_type": "code",
   "execution_count": null,
   "id": "15b81c48-88b2-4d73-bba6-264e7b6f8905",
   "metadata": {
    "scrolled": true,
    "tags": []
   },
   "outputs": [],
   "source": [
    "%%time\n",
    "fit_params={\n",
    "    'early_stopping_rounds': 15, \n",
    "    'eval_metric': 'mae',\n",
    "    'verbose': False,\n",
    "    'eval_set': [[X_prepared_val, y_val]],\n",
    "}\n",
    "\n",
    "best_params = {\n",
    "    'colsample_bynode': 0.382,   \n",
    "    'gamma': 0.201,\n",
    "    'max_depth': 5,   \n",
    "    'subsample': 0.95, \n",
    "    'tree_method': 'exact',\n",
    "    'learning_rate': 0.01,\n",
    "    'n_estimators': 10000,\n",
    "    'random_state': 42,\n",
    "}\n",
    "xgb_base = xgb.XGBRegressor(**best_params)\n",
    "xgb_base.fit(X_xgb, y_train, **fit_params)"
   ]
  },
  {
   "cell_type": "code",
   "execution_count": null,
   "id": "3aca314d-5e92-4c97-90f2-8bb822517aa7",
   "metadata": {},
   "outputs": [],
   "source": [
    "%%time \n",
    "utils.get_eval_metrics([xgb_base], X_xgb_val, y_val)\n",
    "#utils.get_cross_val_scores([xgb_base], X_prepared, y_train, cv=3, fit_params=fit_params)"
   ]
  },
  {
   "cell_type": "code",
   "execution_count": null,
   "id": "c1115d3c-aa5f-421d-89d7-0f595d8e3485",
   "metadata": {},
   "outputs": [],
   "source": [
    "result = utils.get_eval_metrics([xgb_base], X_xgb_val, y_val)\n",
    "results['XGB'] = result"
   ]
  },
  {
   "cell_type": "markdown",
   "id": "27aa58a1-3f7f-49af-982e-b080958f165e",
   "metadata": {
    "tags": []
   },
   "source": [
    "# 7 - LightGBM"
   ]
  },
  {
   "cell_type": "markdown",
   "id": "795052ca-a595-41b0-a2c2-1753e585f5c6",
   "metadata": {
    "tags": []
   },
   "source": [
    "- Smarter techniques to avoid searching all splits and speeding things up (ignoring small gradients to reduce data at each iteration)\n",
    "- \"looks for\" mutually exclusive features to handle them better\n",
    "- Instead of building decision trees one level at a time like XGBoost, LightGBM uses a leaf-wise tree growth approach which results in fewer unnecesary nodes. \n",
    "\n",
    "### LightGBM Resources: \n",
    "- [Understanding LightGBM Parameters - Detailed Guide](https://neptune.ai/blog/lightgbm-parameters-guide) \n",
    "- [Guide to tuning LightGBM using Optuna](https://towardsdatascience.com/kagglers-guide-to-lightgbm-hyperparameter-tuning-with-optuna-in-2021-ed048d9838b5)\n",
    "- [LightGBM Tuner: New Optuna Integration for Hyperparameter Optimization](https://medium.com/optuna/lightgbm-tuner-new-optuna-integration-for-hyperparameter-optimization-8b7095e99258)\n"
   ]
  },
  {
   "cell_type": "code",
   "execution_count": null,
   "id": "14c3ceb8-7898-4159-917f-968eee7c8eea",
   "metadata": {},
   "outputs": [],
   "source": [
    "import lightgbm as lgbm\n",
    "from sklearn.model_selection import cross_val_score, KFold\n",
    "from sklearn.metrics import mean_squared_error, mean_absolute_error, make_scorer\n",
    "import optuna\n",
    "from optuna.integration import LightGBMPruningCallback"
   ]
  },
  {
   "cell_type": "code",
   "execution_count": null,
   "id": "3a215001-354b-4b59-be50-9055bd86bf7a",
   "metadata": {},
   "outputs": [],
   "source": [
    "X_prepared = X_train.copy()\n",
    "X_prepared_val = X_val.copy()"
   ]
  },
  {
   "cell_type": "code",
   "execution_count": null,
   "id": "3e405101-1aca-4d9f-add5-20210253601c",
   "metadata": {},
   "outputs": [],
   "source": [
    "# Feature Dropper Pipeline \n",
    "var_drop = ['parcelid','censustractandblock']\n",
    "feature_dropper = utils.FeatureDropper(features_to_drop=var_drop)\n",
    "\n",
    "# Convert Date Features Pipeline\n",
    "year_feat_creator = utils.CreateYearFeatures(date_features=date_features)\n",
    "\n",
    "# Date Feature Creator\n",
    "date_feat_creator = utils.CreateDateFeatures()\n",
    "\n",
    "# Derived Features Creator\n",
    "derived_feat_creator = utils.CreateDerivedFeatures()\n",
    "\n",
    "# Feature Encoding Pipeline\n",
    "cat_vars = ['transaction_year', 'transaction_month', 'transaction_day', 'transaction_quarter', 'airconditioningtypeid', \n",
    "            'buildingqualitytypeid', 'fips', 'heatingorsystemtypeid', 'propertylandusetypeid', 'regionidcity', 'regionidcounty', \n",
    "            'regionidneighborhood', 'regionidzip', 'assessmentyear', 'typeconstructiontypeid', 'architecturalstyletypeid', \n",
    "            'buildingclasstypeid', 'pooltypeid2', 'pooltypeid7', 'storytypeid',  'hashottuborspa', 'pooltypeid2', \n",
    "            'taxdelinquencyyear',  'taxdelinquencyflag', 'fireplaceflag', 'decktypeid', 'pooltypeid10', \n",
    "            'propertycountylandusecode', 'propertyzoningdesc', 'rawcensustractandblock', \n",
    "            #'N-n_gar_pool_ac','N-PropType','N-HeatInd','N-ACInd'\n",
    "           ]\n",
    "# Feature Encoding Pipeline\n",
    "feature_encoder = utils.ColumnTransformer([\n",
    "    (\"ohe_cats\", OneHotEncoder(handle_unknown='ignore'), cat_vars)],\n",
    "    remainder='passthrough'\n",
    ")"
   ]
  },
  {
   "cell_type": "markdown",
   "id": "9d9401fa-4450-4d74-be9e-12d00102e7bd",
   "metadata": {
    "tags": []
   },
   "source": [
    "### LightGBM Categorical Handling \n",
    "\n",
    "LightGBM handles categorical variables different from other models which mainly use One-Hot Encoding. It handles categorical variables by ranking their marginal target value in each node. \n",
    "\n",
    "For this problem, we tested using both One-Hot Encoding and LightGBM's approach and decided to use OHE which performed much better. \n"
   ]
  },
  {
   "cell_type": "code",
   "execution_count": null,
   "id": "a3b077f9-b8a6-4de6-8767-4958765e3fe3",
   "metadata": {},
   "outputs": [],
   "source": [
    "lgbm_preprocessor = Pipeline([\n",
    "    #('derived_feat_creator', derived_feat_creator),\n",
    "    ('feature_dropper', feature_dropper),\n",
    "    ('date_feat_creator', date_feat_creator),\n",
    "    ('year_feat_creator', year_feat_creator),\n",
    "    ('feature_encoder', feature_encoder),\n",
    "])\n",
    "\n",
    "data_prep_pipe = lgbm_preprocessor.fit(X_prepared)\n",
    "X_prepared = lgbm_preprocessor.transform(X_prepared)\n",
    "X_prepared_val = lgbm_preprocessor.transform(X_prepared_val)"
   ]
  },
  {
   "cell_type": "code",
   "execution_count": null,
   "id": "31003da3-ccd1-4eda-83f2-daaed3d39df6",
   "metadata": {},
   "outputs": [],
   "source": [
    "X_lgbm = X_prepared.copy()\n",
    "X_lgbm_val = X_prepared_val.copy()"
   ]
  },
  {
   "cell_type": "markdown",
   "id": "58591760-24e0-4e48-93da-f77a32d06df2",
   "metadata": {
    "tags": []
   },
   "source": [
    "## LightGBM Hyperparameter Tuning (Using Optuna)\n",
    "\n",
    "By the time I reached LightGBM for this project, I encountered another hyperparameter tuning package called ``Optuna`` which is much newer and more maintained than ``hyperopt``. Thus, I decided to use Optuna for LightGBM tuning. Optuna claims to perform better tuning than TPE (Tree-structured Parzem Estimator) algorithms which is used by ``hyperopt`` - I am unable to speak to it's comparative performance but did find the package usage and documentation better than hyperopt. "
   ]
  },
  {
   "cell_type": "code",
   "execution_count": null,
   "id": "2516017f-c758-458e-843d-5a6a2259883c",
   "metadata": {},
   "outputs": [],
   "source": [
    "def objective(trial, X, y):\n",
    "    param_grid = {\n",
    "        \"n_estimators\": trial.suggest_categorical(\"n_estimators\", [10000]),\n",
    "        \"learning_rate\": trial.suggest_float(\"learning_rate\", 0.01, 0.3),\n",
    "        \"num_leaves\": trial.suggest_int(\"num_leaves\", 20, 3000, step=20),\n",
    "        \"max_depth\": trial.suggest_int(\"max_depth\", 3, 12),\n",
    "        \"min_data_in_leaf\": trial.suggest_int(\"min_data_in_leaf\", 200, 10000, step=100),\n",
    "        \"lambda_l1\": trial.suggest_int(\"lambda_l1\", 0, 100, step=5),\n",
    "        \"lambda_l2\": trial.suggest_int(\"lambda_l2\", 0, 100, step=5),\n",
    "        \"min_gain_to_split\": trial.suggest_float(\"min_gain_to_split\", 0, 15),\n",
    "        \"bagging_fraction\": trial.suggest_float(\"bagging_fraction\", 0.2, 0.95, step=0.1),\n",
    "        \"bagging_freq\": trial.suggest_categorical(\"bagging_freq\", [1]),\n",
    "        \"feature_fraction\": trial.suggest_float(\"feature_fraction\", 0.2, 0.95, step=0.1),\n",
    "    }\n",
    "    \n",
    "    cv = KFold(n_splits=5, shuffle=True, random_state=42)\n",
    "\n",
    "    cv_scores = np.empty(5)\n",
    "    for idx, (train_idx, test_idx) in enumerate(cv.split(X, y)):\n",
    "        X_train, X_test = X.iloc[train_idx], X.iloc[test_idx]\n",
    "        y_train, y_test = y[train_idx], y[test_idx]\n",
    "\n",
    "        model = lgbm.LGBMRegressor(**param_grid)\n",
    "        model.fit(\n",
    "            X_train,\n",
    "            y_train,\n",
    "            eval_set=[(X_test, y_test)],\n",
    "            eval_metric=\"mae\",\n",
    "            verbose=False,\n",
    "            early_stopping_rounds=25,\n",
    "            callbacks=[\n",
    "                LightGBMPruningCallback(trial, \"l1\")\n",
    "            ],  # Add a pruning callback\n",
    "        )\n",
    "        preds = model.predict(X_test)\n",
    "        cv_scores[idx] = mean_absolute_error(y_test, preds)\n",
    "\n",
    "    return np.mean(cv_scores)"
   ]
  },
  {
   "cell_type": "code",
   "execution_count": null,
   "id": "8a93776f-c028-4803-bf82-eb5969f2435e",
   "metadata": {
    "scrolled": true
   },
   "outputs": [],
   "source": [
    "# Similar to Hyperopt - this code creates an experiment using the objective function and parameter grid above\n",
    "#study = optuna.create_study(direction=\"minimize\", study_name=\"LGBM Regressor\")\n",
    "#func = lambda trial: objective(trial, X_prepared, y_train.to_numpy())\n",
    "#study.optimize(func, n_trials=10000)"
   ]
  },
  {
   "cell_type": "code",
   "execution_count": null,
   "id": "6cdcc841-0e7e-4d4e-bb58-09b1f9beee53",
   "metadata": {},
   "outputs": [],
   "source": [
    "#print(f\"\\tBest value (mae): {study.best_value:.5f}\")\n",
    "#print(f\"\\tBest params:\")\n",
    "\n",
    "#for key, value in study.best_params.items():\n",
    "    #print(f\"\\t\\t{key}: {value}\")"
   ]
  },
  {
   "cell_type": "code",
   "execution_count": null,
   "id": "80a81411-c863-46f2-81fe-36c0f3779843",
   "metadata": {
    "scrolled": true
   },
   "outputs": [],
   "source": [
    "%%time\n",
    "\n",
    "fit_params={\n",
    "    'early_stopping_rounds': 30, \n",
    "    'eval_metric': 'mae',\n",
    "    'verbose': False,\n",
    "    'eval_set': [[X_prepared_val, y_val]]\n",
    "}\n",
    "\n",
    "best_params = {\n",
    "    'num_leaves': 512,\n",
    "    'max_depth': 9,\n",
    "    'lambda_l2': 15,\n",
    "    'bagging_fraction': 0.9,\n",
    "    'feature_fraction': 0.6,\n",
    "    'learning_rate': 0.01,\n",
    "    'n_estimators': 10000,\n",
    "    'random_state': 42,\n",
    "}\n",
    "\n",
    "\n",
    "lgbm_base = lgbm.LGBMRegressor(**best_params)\n",
    "lgbm_base.fit(X_prepared, y_train, **fit_params)\n",
    "utils.get_cross_val_scores([lgbm_base], X_prepared, y_train, cv=3, fit_params=fit_params)"
   ]
  },
  {
   "cell_type": "code",
   "execution_count": null,
   "id": "94e8c8cc-aad1-4092-a889-64557d077f6b",
   "metadata": {},
   "outputs": [],
   "source": [
    "%%time\n",
    "result = utils.get_eval_metrics([lgbm_base], X_prepared_val, y_val)\n",
    "utils.get_cross_val_scores([lgbm_base], X_prepared, y_train, cv=3, fit_params=fit_params)\n",
    "results['LGBM'] = result"
   ]
  },
  {
   "cell_type": "markdown",
   "id": "b4092c3c-3fee-4515-b5b8-2e87a5312c7c",
   "metadata": {
    "tags": []
   },
   "source": [
    "# 8 - CATBoost"
   ]
  },
  {
   "cell_type": "code",
   "execution_count": null,
   "id": "c66b690c-92f1-44ef-b39f-d05f3ba99055",
   "metadata": {},
   "outputs": [],
   "source": [
    "import catboost as cb\n",
    "import optuna \n",
    "from sklearn.model_selection import cross_val_score, KFold\n",
    "from sklearn.metrics import mean_squared_error, mean_absolute_error, make_scorer"
   ]
  },
  {
   "cell_type": "code",
   "execution_count": null,
   "id": "0ddb15ae-4141-444b-bbbf-45bd60896e47",
   "metadata": {},
   "outputs": [],
   "source": [
    "X_prepared = X_train.copy()\n",
    "X_prepared_val = X_val.copy()"
   ]
  },
  {
   "cell_type": "code",
   "execution_count": null,
   "id": "f970bc50-2b7e-4d06-a2a9-5c448b5a2f8c",
   "metadata": {},
   "outputs": [],
   "source": [
    "# Feature Dropper Pipeline\n",
    "var_drop = ['parcelid','censustractandblock','pooltypeid10']\n",
    "feature_dropper = utils.FeatureDropper(features_to_drop=var_drop)\n",
    "\n",
    "date_features = {\"yearbuilt\": \"house_age\"}\n",
    "# Convert Date Features Pipeline\n",
    "year_feat_creator = utils.CreateYearFeatures(date_features=date_features)\n",
    "\n",
    "# Impute 0\n",
    "impute_0_vars = [\"yardbuildingsqft17\", \"fireplacecnt\", \"poolcnt\", \"garagetotalsqft\",\"garagecarcnt\", \n",
    "                 \"pooltypeid2\", \"poolsizesum\", \"decktypeid\", \"taxdelinquencyflag\",\"pooltypeid7\",]\n",
    "\n",
    "univariate_impute_pipe = utils.ColumnTransformer([\n",
    "        (\"impute_0\", SimpleImputer(strategy=\"constant\", fill_value=0), impute_0_vars),\n",
    "     ],\n",
    "    remainder='passthrough'\n",
    ")\n",
    "# Feature Encoding Pipeline\n",
    "cat_vars = ['transaction_year','transaction_month', 'transaction_day', 'transaction_quarter', 'airconditioningtypeid', \n",
    "            'buildingqualitytypeid', 'fips', 'heatingorsystemtypeid', 'propertylandusetypeid', 'regionidcity', 'regionidcounty', \n",
    "            'regionidneighborhood', 'regionidzip', 'assessmentyear', 'typeconstructiontypeid', 'architecturalstyletypeid', \n",
    "            'buildingclasstypeid', 'pooltypeid2', 'pooltypeid7', 'storytypeid',  'hashottuborspa',# 'pooltypeid10',\n",
    "            'taxdelinquencyyear',  'taxdelinquencyflag', 'fireplaceflag', 'decktypeid' , 'rawcensustractandblock',\n",
    "            'propertycountylandusecode', 'propertyzoningdesc',#'N-PropType',\n",
    "           ]\n",
    "convert_to_cat = utils.ConvertToType(var_type='str', vars_to_convert=cat_vars)\n",
    "\n",
    "# Date Feature Creator\n",
    "date_feat_creator = utils.CreateDateFeatures()\n",
    "\n",
    "# Derived Features Creator\n",
    "derived_feat_creator = utils.CreateDerivedFeatures()\n",
    "\n",
    "#Split census\n",
    "split_census = utils.SplitCensus()\n",
    "\n",
    "# Aggregated Feature Creator\n",
    "group_col = 'regionidcity'\n",
    "agg_cols = ['lotsizesquarefeet', 'yearbuilt', 'calculatedfinishedsquarefeet',\n",
    "            'structuretaxvaluedollarcnt', 'landtaxvaluedollarcnt', 'taxamount']\n",
    "#aggregated_feat_creator = CreateAggregatedFeatures(group_col=group_col, agg_cols=agg_cols)"
   ]
  },
  {
   "cell_type": "code",
   "execution_count": null,
   "id": "95016df3-df2e-485f-83b8-31befcd3815b",
   "metadata": {},
   "outputs": [],
   "source": [
    "cb_preprocessor = Pipeline([\n",
    "    #('derived_feat_creator', derived_feat_creator),\n",
    "    #('aggregated_feat_creator', aggregated_feat_creator),\n",
    "    #('split_census',split_census),\n",
    "    ('date_feat_creator', date_feat_creator),\n",
    "    ('feature_dropper', feature_dropper),\n",
    "    ('year_feat_creator', year_feat_creator),\n",
    "    #('impute0',univariate_impute_pipe),\n",
    "    ('convert_to_cat', convert_to_cat),\n",
    "])\n",
    "\n",
    "data_prep_pipe = cb_preprocessor.fit(X_prepared)\n",
    "X_prepared = cb_preprocessor.transform(X_prepared)\n",
    "X_prepared_val = cb_preprocessor.transform(X_prepared_val)"
   ]
  },
  {
   "cell_type": "code",
   "execution_count": null,
   "id": "89dfc8ec-7936-47e8-bef8-bcfa6335cf2b",
   "metadata": {},
   "outputs": [],
   "source": [
    "X_cb = X_prepared.copy()\n",
    "X_cb_val = X_prepared_val.copy()"
   ]
  },
  {
   "cell_type": "code",
   "execution_count": null,
   "id": "ded99b7a-e8b2-4aea-a094-e947d176dbf5",
   "metadata": {},
   "outputs": [],
   "source": [
    "def objective(trial, X, y):    \n",
    "    param_grid = {\n",
    "        # Fixed Params\n",
    "        \"eval_metric\": \"MAE\",\n",
    "        \"n_estimators\": 10000,\n",
    "        \"random_state\": 42,\n",
    "    \n",
    "        # Tuned Params\n",
    "        \"learning_rate\": trial.suggest_loguniform(\"learning_rate\", 0.05, 0.3),\n",
    "        \"l2_leaf_reg\": trial.suggest_loguniform(\"l2_leaf_reg\", 1e-2, 1e1),\n",
    "        \"colsample_bylevel\": trial.suggest_float(\"colsample_bylevel\", 0.01, 0.1),\n",
    "        \"depth\": trial.suggest_int(\"depth\", 1, 10),\n",
    "        \"boosting_type\": trial.suggest_categorical(\"boosting_type\", [\"Ordered\", \"Plain\"]),\n",
    "        \"bootstrap_type\": trial.suggest_categorical(\"bootstrap_type\", [\"Bayesian\", \"Bernoulli\", \"MVS\"]),\n",
    "        \"min_data_in_leaf\": trial.suggest_int(\"min_data_in_leaf\", 2, 20),\n",
    "        \"one_hot_max_size\": trial.suggest_int(\"one_hot_max_size\", 2, 20),  \n",
    "    }\n",
    "    # Conditional Hyper-Parameters\n",
    "    if param_grid[\"bootstrap_type\"] == \"Bayesian\":\n",
    "        param_grid[\"bagging_temperature\"] = trial.suggest_float(\"bagging_temperature\", 0, 10)\n",
    "    elif param_grid[\"bootstrap_type\"] == \"Bernoulli\":\n",
    "        param_grid[\"subsample\"] = trial.suggest_float(\"subsample\", 0.1, 1)\n",
    "    \n",
    "    cv = KFold(n_splits=3, shuffle=True, random_state=42)\n",
    "\n",
    "    cv_scores = np.empty(3)\n",
    "    for idx, (train_idx, test_idx) in enumerate(cv.split(X, y)):\n",
    "        X_train, X_test = X.iloc[train_idx], X.iloc[test_idx]\n",
    "        y_train, y_test = y[train_idx], y[test_idx]\n",
    "\n",
    "        model = cb.CatBoostRegressor(**param_grid)\n",
    "        model.fit(\n",
    "            X_train,\n",
    "            y_train,\n",
    "            eval_set=[(X_test, y_test)],\n",
    "            cat_features=cat_vars,\n",
    "            early_stopping_rounds=20,\n",
    "            verbose=False\n",
    "        )\n",
    "        preds = model.predict(X_test)\n",
    "        cv_scores[idx] = mean_absolute_error(y_test, preds)\n",
    "\n",
    "    return np.mean(cv_scores)"
   ]
  },
  {
   "cell_type": "code",
   "execution_count": null,
   "id": "8425c02a-2411-4b0d-bd0a-d787add61d3f",
   "metadata": {},
   "outputs": [],
   "source": [
    "# Similar to Hyperopt - this code creates an experiment using the objective function and parameter grid above\n",
    "#study = optuna.create_study(direction=\"minimize\", study_name=\"CatBoost Regressor\")\n",
    "#func = lambda trial: objective(trial, X_prepared, y_train.to_numpy())\n",
    "#study.optimize(func, n_trials=400)"
   ]
  },
  {
   "cell_type": "code",
   "execution_count": null,
   "id": "404bbfb6-ba2c-46d3-8c79-213fa0311565",
   "metadata": {},
   "outputs": [],
   "source": [
    "#print(f\"\\tBest value (mae): {study.best_value:.5f}\")\n",
    "#print(f\"\\tBest params:\")\n",
    "\n",
    "#for key, value in study.best_params.items():\n",
    "    #print(f\"\\t\\t{key}: {value}\")"
   ]
  },
  {
   "cell_type": "code",
   "execution_count": null,
   "id": "2a77ecfc-b527-4d7b-959f-7cb2b0e24c5f",
   "metadata": {},
   "outputs": [],
   "source": [
    "best_params = {\n",
    "    'learning_rate': 0.03,\n",
    "    'l2_leaf_reg': 3,\n",
    "    'depth': 6,\n",
    "    'n_estimators': 900,\n",
    "    'random_state': 42,\n",
    "    'eval_metric': \"MAE\",\n",
    "    'loss_function': 'MAE',\n",
    "}\n",
    "\n",
    "fit_params={\n",
    "    'cat_features': cat_vars,\n",
    "    'verbose': False,\n",
    "}"
   ]
  },
  {
   "cell_type": "code",
   "execution_count": null,
   "id": "c865813c-5be7-4aeb-8e58-5c9cc35219ae",
   "metadata": {},
   "outputs": [],
   "source": [
    "%%time\n",
    "cb_base = cb.CatBoostRegressor(**best_params)\n",
    "cb_base.fit(X_cb, y_train, **fit_params)"
   ]
  },
  {
   "cell_type": "code",
   "execution_count": null,
   "id": "484a0f06-d70e-474b-b280-18d7801a9b63",
   "metadata": {},
   "outputs": [],
   "source": [
    "%%time\n",
    "utils.get_eval_metrics([cb_base], X_cb_val, y_val)"
   ]
  },
  {
   "cell_type": "code",
   "execution_count": null,
   "id": "e69522a2-6f18-4968-9000-5d882771826a",
   "metadata": {},
   "outputs": [],
   "source": [
    "%%time\n",
    "#get_cross_val_scores([cb_base], X_cb, y_train, cv=3, fit_params=fit_params)"
   ]
  },
  {
   "cell_type": "code",
   "execution_count": null,
   "id": "62a53ae0-5860-4c9c-98ed-cacc52718982",
   "metadata": {},
   "outputs": [],
   "source": [
    "result = utils.get_eval_metrics([cb_base], X_cb_val, y_val)\n",
    "results['CB'] = result"
   ]
  },
  {
   "cell_type": "markdown",
   "id": "2866c822-9b62-435d-8af5-9835a7326d2b",
   "metadata": {},
   "source": [
    "## CatBoost with uncertainty"
   ]
  },
  {
   "cell_type": "code",
   "execution_count": null,
   "id": "c2a7fbcf-8143-4e86-9e8e-1bf5a5186b93",
   "metadata": {},
   "outputs": [],
   "source": [
    "best_params = {\n",
    "    'learning_rate': 0.03,\n",
    "    'l2_leaf_reg': 3,\n",
    "    'depth': 6,\n",
    "    'n_estimators': 900,\n",
    "    'random_state': 42,\n",
    "    'eval_metric': \"RMSEWithUncertainty\",\n",
    "    'loss_function': 'RMSEWithUncertainty',\n",
    "    'posterior_sampling':True\n",
    "}\n",
    "\n",
    "fit_params={\n",
    "    'cat_features': cat_vars,\n",
    "    'verbose': False,\n",
    "}"
   ]
  },
  {
   "cell_type": "code",
   "execution_count": null,
   "id": "2a6264a3-608b-4d15-9aea-490d726930d7",
   "metadata": {},
   "outputs": [],
   "source": [
    "%%time\n",
    "model = cb.CatBoostRegressor(**best_params)\n",
    "model.fit(X_cb, y_train,**fit_params)\n",
    "preds = model.virtual_ensembles_predict(X_cb, prediction_type='TotalUncertainty', \n",
    "                                        virtual_ensembles_count=10)\n",
    "mean_preds = preds[:,0] # mean values predicted by a virtual ensemble\n",
    "knowledge = preds[:,1] # knowledge uncertainty predicted by a virtual ensemble\n",
    "data = preds[:,2] # average estimated data uncertainty"
   ]
  },
  {
   "cell_type": "code",
   "execution_count": null,
   "id": "7113df50-e0e1-4ace-8672-d043beb5cc53",
   "metadata": {},
   "outputs": [],
   "source": [
    "mean_preds = pd.Series(mean_preds,y_train.index)\n",
    "knowledge = pd.Series(knowledge,y_train.index) #knowledge uncertainty\n",
    "data = pd.Series(data,y_train.index)  #data uncertainty\n",
    "\n",
    "df_preds = pd.concat([mean_preds,knowledge,data], axis=1)\n",
    "df_preds"
   ]
  },
  {
   "cell_type": "markdown",
   "id": "b2c542ff-5b83-40e8-a00f-afbd650279d6",
   "metadata": {},
   "source": [
    "Data uncertainty arises due to the inherent complexity of the data, such as additive noise or overlapping classes. In these cases, the model knows that the input has attributes of multiple classes or that the target is noisy. Importantly, data uncertainty cannot be reduced by collecting more training data.\n",
    "\n",
    "\n",
    "Knowledge uncertainty arises when the model is given an input from a region that is either sparsely covered by the training data or far from the training data. In these cases, the model knows very little about this region and is likely to make a mistake. Unlike data uncertainty, knowledge uncertainty can be reduced by collecting more training data from a poorly understood region."
   ]
  },
  {
   "cell_type": "code",
   "execution_count": null,
   "id": "b5d937c1-a89c-479d-984b-9d1720e46e5d",
   "metadata": {},
   "outputs": [],
   "source": [
    "from sklearn.ensemble import GradientBoostingRegressor"
   ]
  },
  {
   "cell_type": "code",
   "execution_count": null,
   "id": "88c44f3b-30c8-4c83-87e3-cb82db47f580",
   "metadata": {},
   "outputs": [],
   "source": [
    "all_models = {}\n",
    "common_params = dict(\n",
    "    learning_rate=0.05,\n",
    "    n_estimators=200,\n",
    "    max_depth=2,\n",
    "    min_samples_leaf=9,\n",
    "    min_samples_split=9,\n",
    ")\n",
    "for alpha in [0.05, 0.5, 0.95]:\n",
    "    gbr = GradientBoostingRegressor(loss=\"quantile\", alpha=alpha, **common_params)\n",
    "    all_models[\"q %1.2f\" % alpha] = gbr.fit(X_lin, y_train)"
   ]
  },
  {
   "cell_type": "code",
   "execution_count": null,
   "id": "b22aa142-a355-4bd6-9d48-bab4e0b86469",
   "metadata": {},
   "outputs": [],
   "source": [
    "gbr_ls = GradientBoostingRegressor(loss=\"squared_error\", **common_params)\n",
    "all_models[\"mse\"] = gbr_ls.fit(X_lin, y_train)"
   ]
  },
  {
   "cell_type": "code",
   "execution_count": null,
   "id": "66b0e503-ba33-474c-b8c5-494cdf0457ee",
   "metadata": {},
   "outputs": [],
   "source": [
    "xx = X_lin_val.index"
   ]
  },
  {
   "cell_type": "code",
   "execution_count": null,
   "id": "5676321d-9e9c-46c0-bfb2-ae58d3494c80",
   "metadata": {},
   "outputs": [],
   "source": [
    "xx"
   ]
  },
  {
   "cell_type": "code",
   "execution_count": null,
   "id": "3eac9cec-5686-496c-bbf4-ada8f2a9ef16",
   "metadata": {},
   "outputs": [],
   "source": [
    "y_pred = all_models[\"mse\"].predict(X_lin_val)\n",
    "y_lower = all_models[\"q 0.05\"].predict(X_lin_val)\n",
    "y_upper = all_models[\"q 0.95\"].predict(X_lin_val)\n",
    "y_med = all_models[\"q 0.50\"].predict(X_lin_val)\n"
   ]
  },
  {
   "cell_type": "code",
   "execution_count": null,
   "id": "40ce1afb-efef-478f-979e-71880c1cceb2",
   "metadata": {},
   "outputs": [],
   "source": [
    "fig = plt.figure(figsize=(10, 10))\n",
    "#plt.plot(xx, f(xx), \"g:\", linewidth=3, label=r\"$f(x) = x\\,\\sin(x)$\")\n",
    "#plt.plot(X_test, y_test, \"b.\", markersize=10, label=\"Test observations\")\n",
    "plt.plot(xx[0:50], (y_med*100)[0:50], \"r-\", label=\"Predicted median\")\n",
    "plt.plot(xx[0:50], (y_pred*100)[0:50], \"r-\", label=\"Predicted mean\")\n",
    "plt.plot(xx[0:50], (y_upper*100)[0:50], \"k-\")\n",
    "plt.plot(xx[0:50], (y_lower*100)[0:50], \"k-\")\n",
    "plt.fill_between(\n",
    "    xx[0:50].ravel(), (y_lower*100)[0:50], (y_upper*100)[0:50], alpha=0.4, label=\"Predicted 90% interval\"\n",
    ")\n",
    "#plt.yticks(ticks=[-0.01,0,0.01], labels=[-0.01,0,0.01])\n",
    "plt.xlabel(\"$x$\")\n",
    "plt.ylabel(\"$f(x)*100$\")\n",
    "plt.ylim(-10, 25)\n",
    "plt.legend(loc=\"upper left\")\n",
    "plt.show()"
   ]
  },
  {
   "cell_type": "markdown",
   "id": "131eb51e-43fa-4dd4-b860-748f9bef2a3d",
   "metadata": {
    "tags": []
   },
   "source": [
    "# 9 - EXPLAINABILITY"
   ]
  },
  {
   "cell_type": "code",
   "execution_count": null,
   "id": "6a2d542a-a138-44f2-b981-c2da690b395b",
   "metadata": {},
   "outputs": [],
   "source": [
    "results_list = results.items()\n",
    "x, y = zip(*results_list) \n",
    "\n",
    "plt.plot(x, y)\n",
    "plt.show()"
   ]
  },
  {
   "cell_type": "markdown",
   "id": "10161672-7f9f-49cd-a260-cad203b5d73c",
   "metadata": {
    "jp-MarkdownHeadingCollapsed": true,
    "tags": []
   },
   "source": [
    "## Model Interpretability \n",
    "\n",
    "An important aspect of machine learning model building is to be able to understand and evaluate the models **beyond** simple metrics on their test set performance to be able to trust the model. **This interpretation is extremely cruicial for complex models such as gradient boosting machines which usually perform better than easy to explain models such as Linear Regression, and thus require greater care when being used.** \n",
    "\n",
    "Interpretability can include answering questions such as: \n",
    "\n",
    "1. Which variables are most important to my model *in general*? \n",
    "1. What is the nature of the relationship between the predictors and the target? \n",
    "1. Are there significant interaction effects?\n",
    "1. For a specific prediction, what were the most important reasons leading to that prediction? \n",
    "\n",
    "Explore CatBoost that is the best model:\n"
   ]
  },
  {
   "cell_type": "markdown",
   "id": "0353f877-0bcf-41fb-910d-e4f38e37c97f",
   "metadata": {
    "tags": []
   },
   "source": [
    "## 1. Global Feature Importance:\n",
    "\n",
    "Does the model make predictions based on reasonable features? \n",
    "\n",
    "```\n",
    "xgb_base.get_booster().get_score(importance_type='gain')\n",
    "lgbm_base.feature_importances_\n",
    "cb_base.get_feature_importance()\n",
    "```"
   ]
  },
  {
   "cell_type": "code",
   "execution_count": null,
   "id": "d6c736eb-7824-4ce7-9b02-db226476f27c",
   "metadata": {},
   "outputs": [],
   "source": [
    "%%time\n",
    "\n",
    "cb_importances = cb_base.get_feature_importance()\n",
    "cb_importances = pd.DataFrame(sorted(zip(cb_importances, X_cb.columns)), columns=['Value','Feature'])\n",
    "\n",
    "cb_importances = cb_importances.sort_values(by='Value', ascending=False)[:20]\n",
    "\n",
    "plt.figure(figsize=(10, 10))\n",
    "sns.barplot(x=\"Value\", y=\"Feature\", data=cb_importances.sort_values(by=\"Value\", ascending=False))\n",
    "plt.title('CatBoost Global Feature Importances')\n",
    "plt.tight_layout()\n",
    "plt.show()"
   ]
  },
  {
   "cell_type": "markdown",
   "id": "366e0a25-14c0-412b-81b7-4e4d91cf6351",
   "metadata": {
    "tags": []
   },
   "source": [
    "## 2. Permutation importance"
   ]
  },
  {
   "cell_type": "code",
   "execution_count": null,
   "id": "e1606128-a0e6-479b-9613-392ca6162fd6",
   "metadata": {},
   "outputs": [],
   "source": [
    "%%time\n",
    "\n",
    "from sklearn.inspection import permutation_importance\n",
    "result = permutation_importance(cb_base, X_cb_val, y_val, n_repeats=10,random_state=42)"
   ]
  },
  {
   "cell_type": "code",
   "execution_count": null,
   "id": "d4857500-b898-4ff0-ad66-9e50e815e722",
   "metadata": {},
   "outputs": [],
   "source": [
    "%%time\n",
    "perm_sorted_idx = result.importances_mean.argsort()\n",
    "\n",
    "tree_importance_sorted_idx = np.argsort(cb_base.feature_importances_)\n",
    "tree_indices = np.arange(0, len(cb_base.feature_importances_)) + 0.5\n",
    "\n",
    "fig, (ax1, ax2) = plt.subplots(1, 2, figsize=(24, 24))\n",
    "ax1.barh(tree_indices, cb_base.feature_importances_[tree_importance_sorted_idx], height=1.5)\n",
    "ax1.set_yticks(tree_indices)\n",
    "ax1.set_yticklabels(X_cb_val.columns[tree_importance_sorted_idx])\n",
    "ax1.set_ylim((0, len(cb_base.feature_importances_)))\n",
    "ax2.boxplot(\n",
    "    result.importances[perm_sorted_idx].T,\n",
    "    vert=False,\n",
    "    labels=X_cb_val.columns[perm_sorted_idx],\n",
    ")\n",
    "fig.tight_layout()\n",
    "plt.show()"
   ]
  },
  {
   "cell_type": "markdown",
   "id": "5b90bf84-6255-4e91-9fe4-986e3923561d",
   "metadata": {},
   "source": [
    "The permutation importance plot shows that permuting a feature has impact on MAE by at most 0.07.\n",
    "The permutation importance is calculated on the training set to show how much the model relies on each feature during training."
   ]
  },
  {
   "cell_type": "code",
   "execution_count": null,
   "id": "ddd193d9-0776-4fa4-a325-69231300769d",
   "metadata": {},
   "outputs": [],
   "source": [
    "from scipy.stats import spearmanr\n",
    "from scipy.cluster import hierarchy\n",
    "from scipy.spatial.distance import squareform\n",
    "from collections import defaultdict"
   ]
  },
  {
   "cell_type": "code",
   "execution_count": null,
   "id": "58e8a12a-1fa1-4711-ac46-eba127ef2a72",
   "metadata": {},
   "outputs": [],
   "source": [
    "%%time\n",
    "\n",
    "fig, (ax1, ax2) = plt.subplots(1, 2, figsize=(24, 16))\n",
    "corr = spearmanr(X_cb_val).correlation\n",
    "\n",
    "corr = (corr + corr.T) / 2\n",
    "np.fill_diagonal(corr, 1)\n",
    "\n",
    "# We convert the correlation matrix to a distance matrix before performing\n",
    "# hierarchical clustering using Ward's linkage.\n",
    "distance_matrix = 1 - np.abs(corr)\n",
    "dist_linkage = hierarchy.ward(squareform(distance_matrix))\n",
    "dendro = hierarchy.dendrogram(\n",
    "    dist_linkage, labels=X_cb_val.columns.tolist(), ax=ax1, leaf_rotation=90\n",
    ")\n",
    "dendro_idx = np.arange(0, len(dendro[\"ivl\"]))\n",
    "\n",
    "ax2.imshow(corr[dendro[\"leaves\"], :][:, dendro[\"leaves\"]])\n",
    "ax2.set_xticks(dendro_idx)\n",
    "ax2.set_yticks(dendro_idx)\n",
    "ax2.set_xticklabels(dendro[\"ivl\"], rotation=\"vertical\")\n",
    "ax2.set_yticklabels(dendro[\"ivl\"])\n",
    "fig.tight_layout()\n",
    "plt.show()"
   ]
  },
  {
   "cell_type": "code",
   "execution_count": null,
   "id": "cd10b2ed-8b41-43d8-9962-ebeaa9417a20",
   "metadata": {},
   "outputs": [],
   "source": [
    "cluster_ids = hierarchy.fcluster(dist_linkage, 0.0005, criterion=\"distance\")\n",
    "cluster_id_to_feature_ids = defaultdict(list)\n",
    "for idx, cluster_id in enumerate(cluster_ids):\n",
    "    cluster_id_to_feature_ids[cluster_id].append(idx)\n",
    "selected_features = [v[0] for v in cluster_id_to_feature_ids.values()]\n"
   ]
  },
  {
   "cell_type": "code",
   "execution_count": null,
   "id": "85774389-22c6-419a-a3c1-0db4ca800c58",
   "metadata": {},
   "outputs": [],
   "source": [
    "X_train_sel = X_cb.iloc[:,selected_features]\n",
    "X_val_sel = X_cb_val.iloc[:,selected_features]"
   ]
  },
  {
   "cell_type": "markdown",
   "id": "68508e7a-8c35-4d2c-9088-c4a64c4a3fcf",
   "metadata": {},
   "source": [
    "[0,\n",
    " 1,\n",
    " 2,\n",
    " 3,\n",
    " 4,\n",
    " 5,\n",
    " 6,\n",
    " 7,\n",
    " 8,\n",
    " 9,\n",
    " 13,\n",
    " 14,\n",
    " 15,\n",
    " 16,\n",
    " 17,\n",
    " 18,\n",
    " 19,\n",
    " 20,\n",
    " 21,\n",
    " 22,\n",
    " 25,\n",
    " 26,\n",
    " 27,\n",
    " 28,\n",
    " 29,\n",
    " 30,\n",
    " 31,\n",
    " 32,\n",
    " 33,\n",
    " 34,\n",
    " 35,\n",
    " 36,\n",
    " 38,\n",
    " 39,\n",
    " 42,\n",
    " 43,\n",
    " 44,\n",
    " 45,\n",
    " 46,\n",
    " 47,\n",
    " 48,\n",
    " 49,\n",
    " 51,\n",
    " 52,\n",
    " 53,\n",
    " 54,\n",
    " 55,\n",
    " 56,\n",
    " 57,\n",
    " 58,\n",
    " 59,\n",
    " 60,\n",
    " 61,\n",
    " 62,\n",
    " 64,\n",
    " 66,\n",
    " 68,\n",
    " 69,\n",
    " 70,\n",
    " 71,\n",
    " 75,\n",
    " 76,\n",
    " 78,\n",
    " 79,\n",
    " 80,\n",
    " 83,\n",
    " 84,\n",
    " 85,\n",
    " 86,\n",
    " 87,\n",
    " 89,\n",
    " 90,\n",
    " 91,\n",
    " 92]"
   ]
  },
  {
   "cell_type": "code",
   "execution_count": null,
   "id": "e6c7aeca-0573-46f9-b933-64bf6cae0097",
   "metadata": {},
   "outputs": [],
   "source": [
    "len(selected_features)"
   ]
  },
  {
   "cell_type": "code",
   "execution_count": null,
   "id": "32579e9d-01fa-4b81-b7a9-b0f4432a6be6",
   "metadata": {},
   "outputs": [],
   "source": [
    "%%time\n",
    "backup=[]\n",
    "for c in X_train_sel.columns:\n",
    "    if c in cat_vars:\n",
    "        backup.append(c)\n",
    "\n",
    "fit_params={\n",
    "    'cat_features': backup,\n",
    "    'verbose': False,\n",
    "}\n",
    "cb_base_sel = cb.CatBoostRegressor(**best_params)\n",
    "cb_base_sel.fit(X_train_sel, y_train, **fit_params)"
   ]
  },
  {
   "cell_type": "code",
   "execution_count": null,
   "id": "c6d0c198-801a-4f9d-a9f9-f124b381d6a5",
   "metadata": {},
   "outputs": [],
   "source": [
    "get_eval_metrics([cb_base_sel],X_val_sel,y_val)"
   ]
  },
  {
   "cell_type": "markdown",
   "id": "9c1b4502-f611-4905-a0ab-0b9a2d2707dd",
   "metadata": {
    "tags": []
   },
   "source": [
    "## 3. Local Feature Importance \n",
    "\n",
    "Can we trust the model's prediction for one specific data point? \n",
    "\n",
    "Local importance tries to help explain how different feature might be interaction and how the model makes a **specific** prediction. We will be highlighting two different tools to help with this: \n",
    "\n",
    "1. **ICE (Individual Conditional Expectation) Plots**: Excellent tool to understand \"what the model is thinking\". \n",
    "2. **SHAP**: Motivated by \"Shapley Value\" in Game Theory, this aims to explain why a particular instance is \"different\" from average and which features contribute to the *specific* prediction. "
   ]
  },
  {
   "cell_type": "markdown",
   "id": "517b5025-cb6f-4de5-a98a-5638bf5a2c65",
   "metadata": {
    "tags": []
   },
   "source": [
    "## 4. ICE Plots \n",
    " \n",
    "Individual Conditional Expectation (ICE) plots display one line per instance that shows how the instance’s prediction changes when a feature changes. The values for a line can be computed by keeping all other features the same, creating variants of this instance by replacing the feature’s value with values from a grid and making predictions with the black box model for these newly created instances. The result is a set of points for an instance with the feature value from the grid and the respective predictions.\n",
    "\n",
    "How do ICE plots work?\n",
    "- Take an actual data point and see what the model predicts.\n",
    "- Pick a variable and change the value of that variable (over some range of values).\n",
    "- Plot the model prediction as a function of the \"altered\" value\n",
    "- Do this for multiple points, and plot on the same graph\n",
    "- Do this for all variables of interest"
   ]
  },
  {
   "cell_type": "code",
   "execution_count": null,
   "id": "2461b9c2-5b2f-41ef-b6ff-d84064f30df3",
   "metadata": {
    "scrolled": true
   },
   "outputs": [],
   "source": [
    "import ml_insights as mli"
   ]
  },
  {
   "cell_type": "code",
   "execution_count": null,
   "id": "2afa8f3f-14df-46bb-bf54-5d2915715733",
   "metadata": {},
   "outputs": [],
   "source": [
    "range_pts = mli.get_range_dict(X_cb)\n",
    "test_pts = X_cb_val.sample(5, random_state=42)\n",
    "imp_num_feat = [\n",
    "    'calculatedfinishedsquarefeet', 'house_age',\n",
    "    'taxamount', 'structuretaxvaluedollarcnt', 'latitude' \n",
    "]"
   ]
  },
  {
   "cell_type": "markdown",
   "id": "eb11e2e8-e9dc-4bac-b436-a55dbbdde92e",
   "metadata": {},
   "source": [
    "The ranges of values used for x-axis need to be updated to remove outliers to better interpret the ICE-plot."
   ]
  },
  {
   "cell_type": "code",
   "execution_count": null,
   "id": "555c6d9b-fd22-4782-aae8-c8c325c2bfd2",
   "metadata": {},
   "outputs": [],
   "source": [
    "# Updating the ranges of features on x-axis for better interpretation \n",
    "range_pts['calculatedfinishedsquarefeet'] = np.linspace(0, 6000, 200)\n",
    "range_pts['house_age'] = np.linspace(0, 130, 65)\n",
    "range_pts['taxamount'] = np.linspace(0, 25000, 200)\n",
    "range_pts['structuretaxvaluedollarcnt'] = np.linspace(0, 300000, 200)\n",
    "range_pts['latitude'] = np.linspace(3.35e+07, 3.46e+07, 200)\n",
    "\n",
    "mli.ice_plot(cb_base, test_pts, imp_num_feat, range_pts=range_pts, pred_fn='predict', figsize=(15,10))"
   ]
  },
  {
   "cell_type": "markdown",
   "id": "87006873-bab1-442a-857d-5a6d2d73376a",
   "metadata": {},
   "source": [
    "### Interpreting ICE plots\n",
    "\n",
    "Things to look for: \n",
    "- When the line is flat, that means the variable is unimportant in that range (for that particular data point)\n",
    "- When the line is steep, that means the variable has a strong effect on the target in that range.\n",
    "- If the line is very wiggly, this often betrays some degree of \"overfitting\" in the model.  Interestingly, this is often *not* reflected in the test set metrics.  However, it is reflective of the \"coherence\" of the model.  It also may reflect a paucity of training data in that region\n",
    "- If all the lines show the same basic effect, this suggests that there is little interaction.\n",
    "- If some lines have very different trajectories, this indicates a high degree of interactivity.\n",
    "\n",
    "\n",
    "ICE-plots tell us what the *model* thinks.  To the extent that the model is reflective of the \"real world\" that generated the data, it may be useful in understanding the real world.  However, it may also be demonstrating places where the model is wrong, has little data, or is displaying artifacts of the way it was trained.  This is where our \"human\" thinking can be combined with the model to try and understand the world better."
   ]
  },
  {
   "cell_type": "markdown",
   "id": "887cb30b-e8eb-418e-8f39-fc3d92a738a3",
   "metadata": {
    "tags": []
   },
   "source": [
    "## 5. SHAP: Explaining Individual Predictions\n",
    "\n",
    "Goal of SHAP values is to: \n",
    "- Explain why a particular instance is \"different\" from average.\n",
    "- Which features / concepts contributed most to its \"distinctiveness\"?\n",
    "- Can we attribute the \"distance from average\" of a particular case to the individual features?\n",
    "\n",
    "Reference: https://www.aidancooper.co.uk/a-non-technical-guide-to-interpreting-shap-analyses/"
   ]
  },
  {
   "cell_type": "code",
   "execution_count": null,
   "id": "bb7ddc01-c17b-4eb6-9696-2b7a7de12d6a",
   "metadata": {},
   "outputs": [],
   "source": [
    "# !pip install shap #if you don't have it installed\n",
    "import shap\n",
    "shap.initjs()"
   ]
  },
  {
   "cell_type": "code",
   "execution_count": null,
   "id": "36a58c08-46bc-4664-9f1f-5995a76a38a7",
   "metadata": {},
   "outputs": [],
   "source": [
    "%%time\n",
    "explainer = shap.TreeExplainer(cb_base)\n",
    "shap_values = explainer(X_cb)\n",
    "\n",
    "# The SHAP expected value is the median of the target variable \n",
    "explainer.expected_value, np.mean(y_train)"
   ]
  },
  {
   "cell_type": "markdown",
   "id": "b82a59ea-ac10-4102-a65d-09dc07caa49f",
   "metadata": {},
   "source": [
    "### SHAP for Global Interpretability \n",
    "\n",
    "Thanks to its versatility, SHAP values can also be used to get a sense of how \"globally\" important a feature is by aggregating the (absolute value of) the local feature values. These numbers can be thought of as the \"average absolute impact\" that a variable has on the prediction."
   ]
  },
  {
   "cell_type": "code",
   "execution_count": null,
   "id": "cb9053fa-4ec7-4625-9799-c7045a06c1a3",
   "metadata": {},
   "outputs": [],
   "source": [
    "shap.plots.bar(shap_values, max_display=20)"
   ]
  },
  {
   "cell_type": "markdown",
   "id": "bcd049b4-79d9-449b-85fb-a294b82caa89",
   "metadata": {},
   "source": [
    "The bar plot of the absolute SHAP values paints an interesting and *slightly* different picture than the ``feature_importances_`` function earlier which said ``house_age`` was one of the most important feature. However, according to the SHAP bar plot above, there are many other variables that contribute greater to the final predicted value on average.\n",
    "\n",
    "Furthermore, ``rawcensustractandblock`` and ``poolcnt`` are within top 7 contributors according to SHAP values compared to not even being in top 15 according to ``feature_importance_``. This can be a clue to further dig into these variables' impact and analyze whether their affects are postively or negatively affecting the model."
   ]
  },
  {
   "cell_type": "markdown",
   "id": "eaa9b6c4-afd9-45ad-adec-b8a4ea526b93",
   "metadata": {
    "tags": []
   },
   "source": [
    "### Waterfall Plots\n",
    "\n",
    "SHAP explains how individual predictions are arrived at in terms of the contributions from each of the model's input variables. This is a highly intuitive approach that produces simple but informative outputs. \n",
    "\n",
    "Waterfall plots the most complete display of a single prediction. The waterfall structure emphasizes the additive nature of positive and negative contributors, and how they build on the *base value* to yield the model's prediction, $f(x)$\n",
    "\n",
    "Target feature values are extremely tiny (mean of 0.006), so the contributions shown in most charts below will be zero due to rounding. However, the positive and negative contributions can still be seen based on colors in below charts.\n"
   ]
  },
  {
   "cell_type": "code",
   "execution_count": null,
   "id": "2e9fc476-aceb-424b-9a38-417b0f60ad00",
   "metadata": {},
   "outputs": [],
   "source": [
    "i_med = np.argsort(y_train)[len(y_train)//2]    \n",
    "i_80 = np.argsort(y_train)[int(len(y_train)*0.80)]  \n",
    "i_20 = np.argsort(y_train)[int(len(y_train)*0.20)]  \n",
    "\n",
    "shap.plots.waterfall(shap_values[i_20], max_display=20)"
   ]
  },
  {
   "cell_type": "markdown",
   "id": "24bcbb56-7907-4c83-8bd0-d6a1afa7b189",
   "metadata": {},
   "source": [
    "Waterfall plot display that ``finishedsquarefeet12`` and ``transaction_month`` are very important in this specific prediction."
   ]
  },
  {
   "cell_type": "markdown",
   "id": "8edef271-5b13-41e5-8168-00ee2c62831e",
   "metadata": {},
   "source": [
    "### Force Plots \n",
    "\n",
    "Force plots are equivalent representations as Waterfall plots that display the key information is a more condensed format. "
   ]
  },
  {
   "cell_type": "code",
   "execution_count": null,
   "id": "b944d669-bdbe-4ee3-b49c-12606ee2e59d",
   "metadata": {},
   "outputs": [],
   "source": [
    "# Force plot for 20th percentile y_train value\n",
    "shap.plots.force(shap_values[i_20])"
   ]
  },
  {
   "cell_type": "code",
   "execution_count": null,
   "id": "8de9c87a-2ce4-41b9-9b11-938aa341bf3f",
   "metadata": {},
   "outputs": [],
   "source": [
    "# Force plot for 80th percentile y_train value\n",
    "shap.plots.force(shap_values[i_80])"
   ]
  },
  {
   "cell_type": "markdown",
   "id": "b1024029-0b34-4d97-a647-b17d7883697c",
   "metadata": {},
   "source": [
    "The above explanation shows features each contributing to push the model output from the base value (the average model output over the training dataset we passed) to the model output. Features pushing the prediction higher are shown in red, those pushing the prediction lower are in blue.\n",
    "\n",
    "If we take many explanations such as the one shown above, rotate them 90 degrees, and then stack them horizontally, we can see explanations for an entire dataset:\n"
   ]
  },
  {
   "cell_type": "code",
   "execution_count": null,
   "id": "26c63252-a138-4f0a-81cc-62eb981ce1b9",
   "metadata": {},
   "outputs": [],
   "source": [
    "shap_values_expl = explainer.shap_values(X_cb)"
   ]
  },
  {
   "cell_type": "code",
   "execution_count": null,
   "id": "589856e9-0964-43da-90e3-9261a87c6255",
   "metadata": {},
   "outputs": [],
   "source": [
    "n_samples = 10\n",
    "shap.force_plot(explainer.expected_value, shap_values_expl[0:n_samples], X_cb[0:n_samples])"
   ]
  },
  {
   "cell_type": "markdown",
   "id": "e628efa5-5c32-4737-b302-46a74c1d09fa",
   "metadata": {},
   "source": [
    "To understand how a single feature effects the output of the model we can plot the SHAP value of that feature vs. the value of the feature for all the examples in a dataset. Since SHAP values represent a feature’s responsibility for a change in the model output, the plot below represents the change in predicted Zestimate error as 'taxamount' changes. Vertical dispersion at a single value of 'taxamount' represents interaction effects with other features. To help reveal these interactions dependence_plot automatically selects another feature for coloring. In this case coloring by 'taxvaluedollarcnt' highlights that 'taxamount' has less impact on home price for areas close to radial highways."
   ]
  },
  {
   "cell_type": "code",
   "execution_count": null,
   "id": "589e4ddc-c3a0-41bc-8ddb-eb920d65fa36",
   "metadata": {},
   "outputs": [],
   "source": [
    "# create a SHAP dependence plot to show the effect of a single feature across the whole dataset\n",
    "shap.dependence_plot(\"taxamount\", shap_values_expl, X_cb,interaction_index=\"basementsqft\") "
   ]
  },
  {
   "cell_type": "code",
   "execution_count": null,
   "id": "a1391d1c-a5cb-4a5c-91e7-f08f34954be1",
   "metadata": {},
   "outputs": [],
   "source": [
    "# summarize the effects of all the features\n",
    "shap.summary_plot(shap_values, X_cb)"
   ]
  },
  {
   "cell_type": "markdown",
   "id": "45b14af6-d372-48bd-adaa-ee3405a6d642",
   "metadata": {},
   "source": [
    "In the SHAP plot, the features are ranked based on their average absolute SHAP and the colors represent the feature value (red high, blue low and grey NaN). The higher the SHAP value, the larger the predictor’s attribution. In other words, the SHAP values represent a predictor’s responsibility for a change in the model output. This reveals for example that larger 'taxamount' are associated with increasing of decreasing of error and viceversa."
   ]
  },
  {
   "cell_type": "markdown",
   "id": "bdbc61fb-d8ca-4617-88cc-22f747a777b4",
   "metadata": {},
   "source": [
    "Features like 'transactionmonth' are always grey because they are categorical and does not have an order. For the sake of colors we could just convert them, but this notebook is already long enough."
   ]
  },
  {
   "cell_type": "code",
   "execution_count": null,
   "id": "89689e8d-0751-4c20-9dc6-5222ae885b3b",
   "metadata": {},
   "outputs": [],
   "source": []
  }
 ],
 "metadata": {
  "kernelspec": {
   "display_name": "Python 3 (ipykernel)",
   "language": "python",
   "name": "python3"
  },
  "language_info": {
   "codemirror_mode": {
    "name": "ipython",
    "version": 3
   },
   "file_extension": ".py",
   "mimetype": "text/x-python",
   "name": "python",
   "nbconvert_exporter": "python",
   "pygments_lexer": "ipython3",
   "version": "3.8.8"
  }
 },
 "nbformat": 4,
 "nbformat_minor": 5
}
